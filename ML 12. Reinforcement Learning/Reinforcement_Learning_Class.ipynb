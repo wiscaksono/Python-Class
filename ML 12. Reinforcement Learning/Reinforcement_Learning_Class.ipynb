{
  "nbformat": 4,
  "nbformat_minor": 0,
  "metadata": {
    "colab": {
      "name": "Reinforcement Learning_Class.ipynb",
      "provenance": []
    },
    "kernelspec": {
      "name": "python3",
      "display_name": "Python 3"
    },
    "language_info": {
      "name": "python"
    }
  },
  "cells": [
    {
      "cell_type": "code",
      "execution_count": 1,
      "metadata": {
        "colab": {
          "base_uri": "https://localhost:8080/"
        },
        "id": "wAAr-2jW7co5",
        "outputId": "3e92c844-b0c0-4763-85f8-a31bfe146afe"
      },
      "outputs": [
        {
          "output_type": "stream",
          "name": "stdout",
          "text": [
            "Requirement already satisfied: gym in /usr/local/lib/python3.7/dist-packages (0.17.3)\n",
            "Requirement already satisfied: scipy in /usr/local/lib/python3.7/dist-packages (from gym) (1.4.1)\n",
            "Requirement already satisfied: numpy>=1.10.4 in /usr/local/lib/python3.7/dist-packages (from gym) (1.21.5)\n",
            "Requirement already satisfied: cloudpickle<1.7.0,>=1.2.0 in /usr/local/lib/python3.7/dist-packages (from gym) (1.3.0)\n",
            "Requirement already satisfied: pyglet<=1.5.0,>=1.4.0 in /usr/local/lib/python3.7/dist-packages (from gym) (1.5.0)\n",
            "Requirement already satisfied: future in /usr/local/lib/python3.7/dist-packages (from pyglet<=1.5.0,>=1.4.0->gym) (0.16.0)\n",
            "Collecting pygame\n",
            "  Downloading pygame-2.1.2-cp37-cp37m-manylinux_2_17_x86_64.manylinux2014_x86_64.whl (21.8 MB)\n",
            "\u001b[K     |████████████████████████████████| 21.8 MB 1.5 MB/s \n",
            "\u001b[?25hInstalling collected packages: pygame\n",
            "Successfully installed pygame-2.1.2\n"
          ]
        }
      ],
      "source": [
        "!pip install gym\n",
        "!pip install pygame"
      ]
    },
    {
      "cell_type": "code",
      "source": [
        "import gym\n",
        "import numpy as np\n",
        "import random\n",
        "from IPython.display import clear_output"
      ],
      "metadata": {
        "id": "W_Y-pXKY8FyE"
      },
      "execution_count": 2,
      "outputs": []
    },
    {
      "cell_type": "code",
      "source": [
        "env = gym.make(\"Taxi-v3\")"
      ],
      "metadata": {
        "id": "wvNLUj138OyV"
      },
      "execution_count": 3,
      "outputs": []
    },
    {
      "cell_type": "code",
      "source": [
        "env.reset()\n",
        "env.render()"
      ],
      "metadata": {
        "colab": {
          "base_uri": "https://localhost:8080/"
        },
        "id": "zuDh8-rZ8T-h",
        "outputId": "4e34e4b8-4bf3-45f7-a2ca-16f7ee3d07ca"
      },
      "execution_count": 9,
      "outputs": [
        {
          "output_type": "stream",
          "name": "stdout",
          "text": [
            "+---------+\n",
            "|R: | : :G|\n",
            "| : | : : |\n",
            "| : : : : |\n",
            "| | : | : |\n",
            "|\u001b[34;1mY\u001b[0m| : |\u001b[35m\u001b[43mB\u001b[0m\u001b[0m: |\n",
            "+---------+\n",
            "\n"
          ]
        }
      ]
    },
    {
      "cell_type": "code",
      "source": [
        "env.reset()"
      ],
      "metadata": {
        "colab": {
          "base_uri": "https://localhost:8080/"
        },
        "id": "hjYPl1EF8jzj",
        "outputId": "c2d9bbf5-b78d-4000-c289-a78d70a24861"
      },
      "execution_count": 13,
      "outputs": [
        {
          "output_type": "execute_result",
          "data": {
            "text/plain": [
              "67"
            ]
          },
          "metadata": {},
          "execution_count": 13
        }
      ]
    },
    {
      "cell_type": "markdown",
      "source": [
        "### Actions\n",
        "    There are 6 discrete deterministic actions:\n",
        "    - 0: move south\n",
        "    - 1: move north\n",
        "    - 2: move east\n",
        "    - 3: move west\n",
        "    - 4: pickup passenger\n",
        "    - 5: drop off passenger"
      ],
      "metadata": {
        "id": "IBvttQUb8ypO"
      }
    },
    {
      "cell_type": "code",
      "source": [
        "env.render()"
      ],
      "metadata": {
        "colab": {
          "base_uri": "https://localhost:8080/"
        },
        "id": "h2X7K9UW9B_t",
        "outputId": "fc6e1e5f-b984-43e1-9152-0e2ad33f5337"
      },
      "execution_count": 53,
      "outputs": [
        {
          "output_type": "stream",
          "name": "stdout",
          "text": [
            "+---------+\n",
            "|\u001b[34;1mR\u001b[0m: | : :G|\n",
            "| : | : : |\n",
            "| : : : : |\n",
            "| | : | : |\n",
            "|\u001b[43mY\u001b[0m| : |\u001b[35mB\u001b[0m: |\n",
            "+---------+\n",
            "\n"
          ]
        }
      ]
    },
    {
      "cell_type": "code",
      "source": [
        "# untuk melakukan aksi, pakai env.action({action nya})\n",
        "print(env.step(0))\n",
        "env.render()"
      ],
      "metadata": {
        "colab": {
          "base_uri": "https://localhost:8080/"
        },
        "id": "ZPfLJmCu83ZO",
        "outputId": "d06a5b84-d600-4b68-c680-160840a377e3"
      },
      "execution_count": 72,
      "outputs": [
        {
          "output_type": "stream",
          "name": "stdout",
          "text": [
            "(479, -1, False, {'prob': 1.0})\n",
            "+---------+\n",
            "|R: | : :G|\n",
            "| : | : : |\n",
            "| : : : : |\n",
            "| | : | : |\n",
            "|Y| : |\u001b[35m\u001b[42mB\u001b[0m\u001b[0m: |\n",
            "+---------+\n",
            "  (South)\n"
          ]
        }
      ]
    },
    {
      "cell_type": "code",
      "source": [
        "env.reset()"
      ],
      "metadata": {
        "colab": {
          "base_uri": "https://localhost:8080/"
        },
        "id": "PPS4grT290Zd",
        "outputId": "6416f661-e4ee-4ae3-ed60-a3b936ba781e"
      },
      "execution_count": 52,
      "outputs": [
        {
          "output_type": "execute_result",
          "data": {
            "text/plain": [
              "403"
            ]
          },
          "metadata": {},
          "execution_count": 52
        }
      ]
    },
    {
      "cell_type": "code",
      "source": [
        "env.render()"
      ],
      "metadata": {
        "colab": {
          "base_uri": "https://localhost:8080/"
        },
        "id": "r2EPF0HO91kq",
        "outputId": "55296fb0-bcae-4857-97a9-1bb17daef46b"
      },
      "execution_count": 40,
      "outputs": [
        {
          "output_type": "stream",
          "name": "stdout",
          "text": [
            "+---------+\n",
            "|R: | : :\u001b[34;1mG\u001b[0m|\n",
            "| : | : : |\n",
            "| : : : : |\n",
            "| | : | : |\n",
            "|\u001b[35mY\u001b[0m|\u001b[43m \u001b[0m: |B: |\n",
            "+---------+\n",
            "\n"
          ]
        }
      ]
    },
    {
      "cell_type": "code",
      "source": [
        "env.encode(4,1,1,2)"
      ],
      "metadata": {
        "colab": {
          "base_uri": "https://localhost:8080/"
        },
        "id": "er7F4O7p93-6",
        "outputId": "62fc1b96-8c76-4def-ad8e-1ac4a12d97d5"
      },
      "execution_count": 41,
      "outputs": [
        {
          "output_type": "execute_result",
          "data": {
            "text/plain": [
              "426"
            ]
          },
          "metadata": {},
          "execution_count": 41
        }
      ]
    },
    {
      "cell_type": "code",
      "source": [
        "print(\"Action Space {}\".format(env.action_space))\n",
        "print(\"State Space {}\".format(env.observation_space))"
      ],
      "metadata": {
        "colab": {
          "base_uri": "https://localhost:8080/"
        },
        "id": "g_rjMn4A-scJ",
        "outputId": "ad924b09-db46-4851-c636-45085fbdbd6d"
      },
      "execution_count": 43,
      "outputs": [
        {
          "output_type": "stream",
          "name": "stdout",
          "text": [
            "Action Space Discrete(6)\n",
            "State Space Discrete(500)\n"
          ]
        }
      ]
    },
    {
      "cell_type": "code",
      "source": [
        "env.render()"
      ],
      "metadata": {
        "colab": {
          "base_uri": "https://localhost:8080/"
        },
        "id": "ABXN16Hq_GyZ",
        "outputId": "aed105ce-dcef-4589-a2c7-4ec185fc9e3f"
      },
      "execution_count": 57,
      "outputs": [
        {
          "output_type": "stream",
          "name": "stdout",
          "text": [
            "+---------+\n",
            "|\u001b[34;1mR\u001b[0m: | : :G|\n",
            "|\u001b[43m \u001b[0m: | : : |\n",
            "| : : : : |\n",
            "| | : | : |\n",
            "|Y| : |\u001b[35mB\u001b[0m: |\n",
            "+---------+\n",
            "  (North)\n"
          ]
        }
      ]
    },
    {
      "cell_type": "code",
      "source": [
        "env.s # ini state nya"
      ],
      "metadata": {
        "colab": {
          "base_uri": "https://localhost:8080/"
        },
        "id": "AuHv7OnC_IyS",
        "outputId": "ca1eac2a-0839-401b-a9b0-e44ffcfe013f"
      },
      "execution_count": 59,
      "outputs": [
        {
          "output_type": "execute_result",
          "data": {
            "text/plain": [
              "433"
            ]
          },
          "metadata": {},
          "execution_count": 59
        }
      ]
    },
    {
      "cell_type": "code",
      "source": [
        "env.P[479]"
      ],
      "metadata": {
        "colab": {
          "base_uri": "https://localhost:8080/"
        },
        "id": "k-kRmHLi_K_O",
        "outputId": "4c5c48fb-6150-456c-8821-2e6c5408efcd"
      },
      "execution_count": 73,
      "outputs": [
        {
          "output_type": "execute_result",
          "data": {
            "text/plain": [
              "{0: [(1.0, 479, -1, False)],\n",
              " 1: [(1.0, 379, -1, False)],\n",
              " 2: [(1.0, 499, -1, False)],\n",
              " 3: [(1.0, 479, -1, False)],\n",
              " 4: [(1.0, 479, -10, False)],\n",
              " 5: [(1.0, 475, 20, True)]}"
            ]
          },
          "metadata": {},
          "execution_count": 73
        }
      ]
    },
    {
      "cell_type": "markdown",
      "source": [
        "## Selesaikan secara manual, tanpa Reinforced Learning(Random)"
      ],
      "metadata": {
        "id": "3Ztm4irPAeMa"
      }
    },
    {
      "cell_type": "code",
      "source": [
        "episode = 0\n",
        "penalties, reward = 0,0\n",
        "\n",
        "frames = []\n",
        "\n",
        "done = False\n",
        "env.reset()\n",
        "while not done:\n",
        "  action = env.action_space.sample()\n",
        "  state, reward, done, info = env.step(action)\n",
        "\n",
        "  if reward == -10:\n",
        "    penalties +=1\n",
        "  \n",
        "  frames.append({\n",
        "        'frame': env.render(mode='ansi'),\n",
        "        'state': state,\n",
        "        'action': action,\n",
        "        'reward': reward\n",
        "        }\n",
        "    )\n",
        "  \n",
        "  episode += 1\n",
        "\n",
        "print(\"Timesteps taken: {}\".format(episode))\n",
        "print(\"Penalties incurred: {}\".format(penalties))"
      ],
      "metadata": {
        "colab": {
          "base_uri": "https://localhost:8080/"
        },
        "id": "mosHSz6UAjV8",
        "outputId": "ee1efc25-9720-4b7a-f72c-7c09a378c468"
      },
      "execution_count": 137,
      "outputs": [
        {
          "output_type": "stream",
          "name": "stdout",
          "text": [
            "Timesteps taken: 200\n",
            "Penalties incurred: 64\n"
          ]
        }
      ]
    },
    {
      "cell_type": "code",
      "source": [
        "from IPython.display import clear_output\n",
        "from time import sleep\n",
        "\n",
        "def print_frames(frames):\n",
        "    for i, frame in enumerate(frames):\n",
        "        clear_output(wait=True)\n",
        "        print(frame['frame'])\n",
        "        print(f\"Timestep: {i + 1}\")\n",
        "        print(f\"State: {frame['state']}\")\n",
        "        print(f\"Action: {frame['action']}\")\n",
        "        print(f\"Reward: {frame['reward']}\")\n",
        "        sleep(.1)\n",
        "        \n",
        "print_frames(frames)"
      ],
      "metadata": {
        "colab": {
          "base_uri": "https://localhost:8080/"
        },
        "id": "Ruw6mPGJBhrQ",
        "outputId": "4dc006ed-5423-4c9c-f32a-869bacc19a42"
      },
      "execution_count": 93,
      "outputs": [
        {
          "output_type": "stream",
          "name": "stdout",
          "text": [
            "+---------+\n",
            "|\u001b[34;1mR\u001b[0m: | : :\u001b[35mG\u001b[0m|\n",
            "| : | : : |\n",
            "| : :\u001b[43m \u001b[0m: : |\n",
            "| | : | : |\n",
            "|Y| : |B: |\n",
            "+---------+\n",
            "  (Dropoff)\n",
            "\n",
            "Timestep: 200\n",
            "State: 241\n",
            "Action: 5\n",
            "Reward: -10\n"
          ]
        }
      ]
    },
    {
      "cell_type": "markdown",
      "source": [
        "# Use Q Learning"
      ],
      "metadata": {
        "id": "E_59YWYZCF2z"
      }
    },
    {
      "cell_type": "code",
      "source": [
        "# Values for Q Table:\n",
        "\n",
        "action_size = env.action_space.n\n",
        "print('Action Space: ', action_size)\n",
        "\n",
        "state_size = env.observation_space.n\n",
        "print('State Size: ', state_size)"
      ],
      "metadata": {
        "colab": {
          "base_uri": "https://localhost:8080/"
        },
        "id": "ilDS8_MMCH6m",
        "outputId": "1bbc0877-3f5c-4263-e787-67a2ca7ae2cd"
      },
      "execution_count": 138,
      "outputs": [
        {
          "output_type": "stream",
          "name": "stdout",
          "text": [
            "Action Space:  6\n",
            "State Size:  500\n"
          ]
        }
      ]
    },
    {
      "cell_type": "code",
      "source": [
        "# Bikin array kosong seukuran action x state\n",
        "q_table = np.zeros((state_size, action_size))\n",
        "q_table.shape"
      ],
      "metadata": {
        "colab": {
          "base_uri": "https://localhost:8080/"
        },
        "id": "o-XeVDOMCMId",
        "outputId": "1b39a026-1c52-47c1-c2dc-4990cd06cba5"
      },
      "execution_count": 141,
      "outputs": [
        {
          "output_type": "execute_result",
          "data": {
            "text/plain": [
              "(500, 6)"
            ]
          },
          "metadata": {},
          "execution_count": 141
        }
      ]
    },
    {
      "cell_type": "code",
      "source": [
        "# Hyper params :\n",
        "\n",
        "total_ep = 1500\n",
        "total_test_ep = 100\n",
        "max_steps = 100\n",
        "\n",
        "lr = 0.81\n",
        "gamma = 0.96\n",
        "\n",
        "#Exploration params :\n",
        "epsilon = 0.9\n",
        "max_epsilon = 1.0\n",
        "min_epsilon = 0.01\n",
        "decay_rate = 0.01"
      ],
      "metadata": {
        "id": "WQdoNFO-CX3b"
      },
      "execution_count": 143,
      "outputs": []
    },
    {
      "cell_type": "code",
      "source": [
        "#akan mengisi Q Table dari hasil learning\n",
        "for episode in range(total_ep):\n",
        "\n",
        "  #Reset\n",
        "  state = env.reset()\n",
        "  step = 0\n",
        "  done = False\n",
        "\n",
        "  for step in range(max_steps):\n",
        "    #tentukan apakah dia akan melakukan eksplorasi atau eksploitasi\n",
        "    exp_tradeoff = random.uniform(0,1)\n",
        "\n",
        "    if exp_tradeoff > epsilon:\n",
        "      action = np.argmax(q_table[state,:])\n",
        "    \n",
        "    else:\n",
        "      action = env.action_space.sample()\n",
        "\n",
        "    new_state, reward, done, info = env.step(action)\n",
        "\n",
        "    q_table[state, action] = q_table[state, action] + lr * (reward + gamma * np.max(q_table[new_state, :]) - q_table[state, action])\n",
        "\n",
        "    state = new_state\n",
        "\n",
        "    if done == True:\n",
        "      break\n",
        "\n",
        "  episode += 1\n",
        "\n",
        "  # Reduce epsilon (because we need less and less exploration):\n",
        "  epsilon = min_epsilon + (max_epsilon - min_epsilon) *np.exp(-decay_rate*episode)"
      ],
      "metadata": {
        "id": "eMsnn6qyCx-i"
      },
      "execution_count": 145,
      "outputs": []
    },
    {
      "cell_type": "code",
      "source": [
        "q_table"
      ],
      "metadata": {
        "colab": {
          "base_uri": "https://localhost:8080/"
        },
        "id": "eW5ruWHcEErx",
        "outputId": "a98c4f36-9527-4622-87f7-93d70d74d37b"
      },
      "execution_count": 146,
      "outputs": [
        {
          "output_type": "execute_result",
          "data": {
            "text/plain": [
              "array([[  0.        ,   0.        ,   0.        ,   0.        ,\n",
              "          0.        ,   0.        ],\n",
              "       [ -5.36261141,  -5.81490338,  -5.53610013,   2.96180536,\n",
              "          6.16402981, -12.91245932],\n",
              "       [ -4.85028504,  -4.84829046,  -4.30676877,   7.40403674,\n",
              "         11.69177139, -10.561266  ],\n",
              "       ...,\n",
              "       [ -3.11848816,  12.75654671,  -3.3721972 ,  -3.11012886,\n",
              "        -11.97484416,  -9.639     ],\n",
              "       [ -5.52888145,  -5.09863594,  -5.52977677,  -3.94182101,\n",
              "        -11.93219878,  -8.1       ],\n",
              "       [ -1.593756  ,  -1.86789807,  -1.593756  ,  18.19998784,\n",
              "        -10.268856  ,   4.01997016]])"
            ]
          },
          "metadata": {},
          "execution_count": 146
        }
      ]
    },
    {
      "cell_type": "markdown",
      "source": [
        "# Using the Q Table"
      ],
      "metadata": {
        "id": "PfQBCU4LELXC"
      }
    },
    {
      "cell_type": "code",
      "source": [
        "env.reset()\n",
        "rewards = []\n",
        "\n",
        "for episode in range(total_test_ep):\n",
        "  state = env.reset()\n",
        "  step = 0\n",
        "  done = False\n",
        "  total_rewards = 0\n",
        "  print('=========================')\n",
        "  print('EPISODE: ', episode)\n",
        "\n",
        "  for step in range(max_steps):\n",
        "\n",
        "    #env.render()\n",
        "\n",
        "    # Take the action based on the Q Table:\n",
        "    action = np.argmax(q_table[state, :])\n",
        "\n",
        "    new_state, reward, done, info = env.step(action)\n",
        "\n",
        "    total_rewards += reward\n",
        "\n",
        "    # If episode finishes:\n",
        "    if done:\n",
        "      rewards.append(total_rewards)\n",
        "      print('Score: ', total_rewards)\n",
        "      print('State count :', step)\n",
        "      break\n",
        "\n",
        "    state = new_state\n",
        "\n",
        "env.close()\n",
        "print('Score Over Time: {}'.format(sum(rewards)/total_test_ep))"
      ],
      "metadata": {
        "colab": {
          "base_uri": "https://localhost:8080/"
        },
        "id": "-IbwcmjPEN70",
        "outputId": "04bc0015-910e-458d-fb29-760cf14e2107"
      },
      "execution_count": 148,
      "outputs": [
        {
          "output_type": "stream",
          "name": "stdout",
          "text": [
            "=========================\n",
            "EPISODE:  0\n",
            "Score:  6\n",
            "State count : 14\n",
            "=========================\n",
            "EPISODE:  1\n",
            "Score:  9\n",
            "State count : 11\n",
            "=========================\n",
            "EPISODE:  2\n",
            "Score:  3\n",
            "State count : 17\n",
            "=========================\n",
            "EPISODE:  3\n",
            "Score:  13\n",
            "State count : 7\n",
            "=========================\n",
            "EPISODE:  4\n",
            "Score:  8\n",
            "State count : 12\n",
            "=========================\n",
            "EPISODE:  5\n",
            "Score:  3\n",
            "State count : 17\n",
            "=========================\n",
            "EPISODE:  6\n",
            "Score:  10\n",
            "State count : 10\n",
            "=========================\n",
            "EPISODE:  7\n",
            "Score:  8\n",
            "State count : 12\n",
            "=========================\n",
            "EPISODE:  8\n",
            "Score:  13\n",
            "State count : 7\n",
            "=========================\n",
            "EPISODE:  9\n",
            "Score:  7\n",
            "State count : 13\n",
            "=========================\n",
            "EPISODE:  10\n",
            "Score:  10\n",
            "State count : 10\n",
            "=========================\n",
            "EPISODE:  11\n",
            "Score:  11\n",
            "State count : 9\n",
            "=========================\n",
            "EPISODE:  12\n",
            "Score:  8\n",
            "State count : 12\n",
            "=========================\n",
            "EPISODE:  13\n",
            "Score:  11\n",
            "State count : 9\n",
            "=========================\n",
            "EPISODE:  14\n",
            "Score:  7\n",
            "State count : 13\n",
            "=========================\n",
            "EPISODE:  15\n",
            "Score:  9\n",
            "State count : 11\n",
            "=========================\n",
            "EPISODE:  16\n",
            "Score:  9\n",
            "State count : 11\n",
            "=========================\n",
            "EPISODE:  17\n",
            "Score:  5\n",
            "State count : 15\n",
            "=========================\n",
            "EPISODE:  18\n",
            "=========================\n",
            "EPISODE:  19\n",
            "Score:  11\n",
            "State count : 9\n",
            "=========================\n",
            "EPISODE:  20\n",
            "Score:  14\n",
            "State count : 6\n",
            "=========================\n",
            "EPISODE:  21\n",
            "Score:  3\n",
            "State count : 17\n",
            "=========================\n",
            "EPISODE:  22\n",
            "Score:  3\n",
            "State count : 17\n",
            "=========================\n",
            "EPISODE:  23\n",
            "Score:  8\n",
            "State count : 12\n",
            "=========================\n",
            "EPISODE:  24\n",
            "Score:  10\n",
            "State count : 10\n",
            "=========================\n",
            "EPISODE:  25\n",
            "Score:  7\n",
            "State count : 13\n",
            "=========================\n",
            "EPISODE:  26\n",
            "Score:  6\n",
            "State count : 14\n",
            "=========================\n",
            "EPISODE:  27\n",
            "Score:  7\n",
            "State count : 13\n",
            "=========================\n",
            "EPISODE:  28\n",
            "Score:  6\n",
            "State count : 14\n",
            "=========================\n",
            "EPISODE:  29\n",
            "Score:  8\n",
            "State count : 12\n",
            "=========================\n",
            "EPISODE:  30\n",
            "Score:  9\n",
            "State count : 11\n",
            "=========================\n",
            "EPISODE:  31\n",
            "Score:  6\n",
            "State count : 14\n",
            "=========================\n",
            "EPISODE:  32\n",
            "Score:  5\n",
            "State count : 15\n",
            "=========================\n",
            "EPISODE:  33\n",
            "Score:  9\n",
            "State count : 11\n",
            "=========================\n",
            "EPISODE:  34\n",
            "Score:  10\n",
            "State count : 10\n",
            "=========================\n",
            "EPISODE:  35\n",
            "Score:  8\n",
            "State count : 12\n",
            "=========================\n",
            "EPISODE:  36\n",
            "Score:  7\n",
            "State count : 13\n",
            "=========================\n",
            "EPISODE:  37\n",
            "Score:  8\n",
            "State count : 12\n",
            "=========================\n",
            "EPISODE:  38\n",
            "Score:  6\n",
            "State count : 14\n",
            "=========================\n",
            "EPISODE:  39\n",
            "Score:  7\n",
            "State count : 13\n",
            "=========================\n",
            "EPISODE:  40\n",
            "Score:  4\n",
            "State count : 16\n",
            "=========================\n",
            "EPISODE:  41\n",
            "Score:  4\n",
            "State count : 16\n",
            "=========================\n",
            "EPISODE:  42\n",
            "Score:  8\n",
            "State count : 12\n",
            "=========================\n",
            "EPISODE:  43\n",
            "Score:  8\n",
            "State count : 12\n",
            "=========================\n",
            "EPISODE:  44\n",
            "Score:  6\n",
            "State count : 14\n",
            "=========================\n",
            "EPISODE:  45\n",
            "Score:  11\n",
            "State count : 9\n",
            "=========================\n",
            "EPISODE:  46\n",
            "Score:  13\n",
            "State count : 7\n",
            "=========================\n",
            "EPISODE:  47\n",
            "Score:  4\n",
            "State count : 16\n",
            "=========================\n",
            "EPISODE:  48\n",
            "Score:  8\n",
            "State count : 12\n",
            "=========================\n",
            "EPISODE:  49\n",
            "Score:  8\n",
            "State count : 12\n",
            "=========================\n",
            "EPISODE:  50\n",
            "Score:  7\n",
            "State count : 13\n",
            "=========================\n",
            "EPISODE:  51\n",
            "Score:  4\n",
            "State count : 16\n",
            "=========================\n",
            "EPISODE:  52\n",
            "Score:  5\n",
            "State count : 15\n",
            "=========================\n",
            "EPISODE:  53\n",
            "Score:  9\n",
            "State count : 11\n",
            "=========================\n",
            "EPISODE:  54\n",
            "Score:  9\n",
            "State count : 11\n",
            "=========================\n",
            "EPISODE:  55\n",
            "Score:  8\n",
            "State count : 12\n",
            "=========================\n",
            "EPISODE:  56\n",
            "Score:  4\n",
            "State count : 16\n",
            "=========================\n",
            "EPISODE:  57\n",
            "Score:  12\n",
            "State count : 8\n",
            "=========================\n",
            "EPISODE:  58\n",
            "Score:  3\n",
            "State count : 17\n",
            "=========================\n",
            "EPISODE:  59\n",
            "Score:  7\n",
            "State count : 13\n",
            "=========================\n",
            "EPISODE:  60\n",
            "Score:  10\n",
            "State count : 10\n",
            "=========================\n",
            "EPISODE:  61\n",
            "Score:  13\n",
            "State count : 7\n",
            "=========================\n",
            "EPISODE:  62\n",
            "Score:  8\n",
            "State count : 12\n",
            "=========================\n",
            "EPISODE:  63\n",
            "Score:  6\n",
            "State count : 14\n",
            "=========================\n",
            "EPISODE:  64\n",
            "Score:  4\n",
            "State count : 16\n",
            "=========================\n",
            "EPISODE:  65\n",
            "Score:  9\n",
            "State count : 11\n",
            "=========================\n",
            "EPISODE:  66\n",
            "Score:  14\n",
            "State count : 6\n",
            "=========================\n",
            "EPISODE:  67\n",
            "Score:  9\n",
            "State count : 11\n",
            "=========================\n",
            "EPISODE:  68\n",
            "Score:  11\n",
            "State count : 9\n",
            "=========================\n",
            "EPISODE:  69\n",
            "Score:  8\n",
            "State count : 12\n",
            "=========================\n",
            "EPISODE:  70\n",
            "Score:  9\n",
            "State count : 11\n",
            "=========================\n",
            "EPISODE:  71\n",
            "Score:  4\n",
            "State count : 16\n",
            "=========================\n",
            "EPISODE:  72\n",
            "Score:  12\n",
            "State count : 8\n",
            "=========================\n",
            "EPISODE:  73\n",
            "Score:  5\n",
            "State count : 15\n",
            "=========================\n",
            "EPISODE:  74\n",
            "Score:  8\n",
            "State count : 12\n",
            "=========================\n",
            "EPISODE:  75\n",
            "Score:  13\n",
            "State count : 7\n",
            "=========================\n",
            "EPISODE:  76\n",
            "Score:  4\n",
            "State count : 16\n",
            "=========================\n",
            "EPISODE:  77\n",
            "Score:  7\n",
            "State count : 13\n",
            "=========================\n",
            "EPISODE:  78\n",
            "Score:  7\n",
            "State count : 13\n",
            "=========================\n",
            "EPISODE:  79\n",
            "Score:  7\n",
            "State count : 13\n",
            "=========================\n",
            "EPISODE:  80\n",
            "Score:  3\n",
            "State count : 17\n",
            "=========================\n",
            "EPISODE:  81\n",
            "Score:  7\n",
            "State count : 13\n",
            "=========================\n",
            "EPISODE:  82\n",
            "Score:  5\n",
            "State count : 15\n",
            "=========================\n",
            "EPISODE:  83\n",
            "Score:  9\n",
            "State count : 11\n",
            "=========================\n",
            "EPISODE:  84\n",
            "Score:  12\n",
            "State count : 8\n",
            "=========================\n",
            "EPISODE:  85\n",
            "Score:  8\n",
            "State count : 12\n",
            "=========================\n",
            "EPISODE:  86\n",
            "Score:  6\n",
            "State count : 14\n",
            "=========================\n",
            "EPISODE:  87\n",
            "Score:  6\n",
            "State count : 14\n",
            "=========================\n",
            "EPISODE:  88\n",
            "Score:  5\n",
            "State count : 15\n",
            "=========================\n",
            "EPISODE:  89\n",
            "Score:  7\n",
            "State count : 13\n",
            "=========================\n",
            "EPISODE:  90\n",
            "Score:  8\n",
            "State count : 12\n",
            "=========================\n",
            "EPISODE:  91\n",
            "Score:  8\n",
            "State count : 12\n",
            "=========================\n",
            "EPISODE:  92\n",
            "Score:  7\n",
            "State count : 13\n",
            "=========================\n",
            "EPISODE:  93\n",
            "Score:  14\n",
            "State count : 6\n",
            "=========================\n",
            "EPISODE:  94\n",
            "Score:  11\n",
            "State count : 9\n",
            "=========================\n",
            "EPISODE:  95\n",
            "Score:  11\n",
            "State count : 9\n",
            "=========================\n",
            "EPISODE:  96\n",
            "Score:  8\n",
            "State count : 12\n",
            "=========================\n",
            "EPISODE:  97\n",
            "Score:  5\n",
            "State count : 15\n",
            "=========================\n",
            "EPISODE:  98\n",
            "Score:  8\n",
            "State count : 12\n",
            "=========================\n",
            "EPISODE:  99\n",
            "Score:  6\n",
            "State count : 14\n",
            "Score Over Time: 7.72\n"
          ]
        }
      ]
    }
  ]
}