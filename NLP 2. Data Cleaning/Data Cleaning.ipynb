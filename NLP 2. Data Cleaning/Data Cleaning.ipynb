{
 "cells": [
  {
   "cell_type": "code",
   "execution_count": 1,
   "metadata": {},
   "outputs": [],
   "source": [
    "import pickle"
   ]
  },
  {
   "cell_type": "code",
   "execution_count": 4,
   "metadata": {},
   "outputs": [],
   "source": [
    "# Movie names\n",
    "movies = ['spiderman', 'eternals', 'wonderwoman', 'joker', 'justiceleague', 'shangchi', 'venom', 'blackwidow']"
   ]
  },
  {
   "cell_type": "code",
   "execution_count": 5,
   "metadata": {},
   "outputs": [],
   "source": [
    "data = {}\n",
    "for i, c in enumerate(movies):\n",
    "    with open(\"transcripts/\"+ c + \".txt\", \"rb\") as file:\n",
    "        data[c] = pickle.load(file)\n"
   ]
  },
  {
   "cell_type": "code",
   "execution_count": 8,
   "metadata": {},
   "outputs": [
    {
     "data": {
      "text/plain": [
       "dict_keys(['spiderman', 'eternals', 'wonderwoman', 'joker', 'justiceleague', 'shangchi', 'venom', 'blackwidow'])"
      ]
     },
     "execution_count": 8,
     "metadata": {},
     "output_type": "execute_result"
    }
   ],
   "source": [
    "data.keys()"
   ]
  },
  {
   "cell_type": "code",
   "execution_count": null,
   "metadata": {},
   "outputs": [],
   "source": [
    "data.values()"
   ]
  },
  {
   "cell_type": "code",
   "execution_count": null,
   "metadata": {},
   "outputs": [],
   "source": [
    "data['venom']"
   ]
  },
  {
   "cell_type": "markdown",
   "metadata": {},
   "source": [
    "# Cleaning the data"
   ]
  },
  {
   "cell_type": "code",
   "execution_count": 24,
   "metadata": {},
   "outputs": [
    {
     "data": {
      "text/plain": [
       "list"
      ]
     },
     "execution_count": 24,
     "metadata": {},
     "output_type": "execute_result"
    }
   ],
   "source": [
    "type(data['venom'])"
   ]
  },
  {
   "cell_type": "markdown",
   "metadata": {},
   "source": [
    "Karna datanya berbentuk list of text, maka akan kita konversikan dulu kedalam bentuk string biasa"
   ]
  },
  {
   "cell_type": "code",
   "execution_count": 32,
   "metadata": {},
   "outputs": [],
   "source": [
    "def combine_text(list_of_strings):\n",
    "    combine_text = ''.join(list_of_strings)\n",
    "    return combine_text"
   ]
  },
  {
   "cell_type": "code",
   "execution_count": 42,
   "metadata": {},
   "outputs": [],
   "source": [
    "#combine it\n",
    "\n",
    "data_combined = {key: [combine_text(value)] for (key, value) in data.items()}"
   ]
  },
  {
   "cell_type": "code",
   "execution_count": 43,
   "metadata": {},
   "outputs": [
    {
     "data": {
      "text/plain": [
       "str"
      ]
     },
     "execution_count": 43,
     "metadata": {},
     "output_type": "execute_result"
    }
   ],
   "source": [
    "type(data_combined['spiderman'])"
   ]
  },
  {
   "cell_type": "code",
   "execution_count": 51,
   "metadata": {},
   "outputs": [],
   "source": [
    "import pandas as pd\n",
    "\n",
    "pd.set_option('max_colwidth', 150)\n",
    "\n",
    "data_df = pd.DataFrame.from_dict(data).transpose()\n",
    "data_df.columns = ['transcript']\n",
    "data_df = data_df.sort_index()"
   ]
  },
  {
   "cell_type": "code",
   "execution_count": 52,
   "metadata": {},
   "outputs": [
    {
     "data": {
      "text/html": [
       "<div>\n",
       "<style scoped>\n",
       "    .dataframe tbody tr th:only-of-type {\n",
       "        vertical-align: middle;\n",
       "    }\n",
       "\n",
       "    .dataframe tbody tr th {\n",
       "        vertical-align: top;\n",
       "    }\n",
       "\n",
       "    .dataframe thead th {\n",
       "        text-align: right;\n",
       "    }\n",
       "</style>\n",
       "<table border=\"1\" class=\"dataframe\">\n",
       "  <thead>\n",
       "    <tr style=\"text-align: right;\">\n",
       "      <th></th>\n",
       "      <th>transcript</th>\n",
       "    </tr>\n",
       "  </thead>\n",
       "  <tbody>\n",
       "    <tr>\n",
       "      <th>blackwidow</th>\n",
       "      <td>\\n\\nFollowing the events of Captain America: Civil War (2016), Natasha Romanoff finds herself on the run and forced to confront a dangerous conspi...</td>\n",
       "    </tr>\n",
       "    <tr>\n",
       "      <th>eternals</th>\n",
       "      <td>\\n\\nThe saga of the Eternals, a race of immortal beings who lived on Earth and shaped its history and civilizations.\\n\\n* * *\\nIt is time.\\n(SOFT ...</td>\n",
       "    </tr>\n",
       "    <tr>\n",
       "      <th>joker</th>\n",
       "      <td>\\n\\nCLASSIC SCENE\\nArthur is invited to appear on Murray’s show due to the popularity of his stand-up routine clips. Before the show goes live, Ar...</td>\n",
       "    </tr>\n",
       "    <tr>\n",
       "      <th>justiceleague</th>\n",
       "      <td>\\n\\nDetermined to ensure Superman’s ultimate sacrifice was not in vain, Bruce Wayne aligns forces with Diana Prince with plans to recruit a team o...</td>\n",
       "    </tr>\n",
       "    <tr>\n",
       "      <th>shangchi</th>\n",
       "      <td>\\n\\nShang-Chi is a young man who is in denial about his vocation and his magnificent warrior destiny; he lives in San Francisco, calls himself “Sh...</td>\n",
       "    </tr>\n",
       "    <tr>\n",
       "      <th>spiderman</th>\n",
       "      <td>\\n\\nPeter Parker’s secret identity is revealed to the entire world. Desperate for help, Peter turns to Doctor Strange to make the world forget tha...</td>\n",
       "    </tr>\n",
       "    <tr>\n",
       "      <th>venom</th>\n",
       "      <td>\\n\\nIn 1996, a young Cletus Kasady watches helplessly as his love, Frances Barrison, is taken away from St. Estes Home for Unwanted Children to th...</td>\n",
       "    </tr>\n",
       "    <tr>\n",
       "      <th>wonderwoman</th>\n",
       "      <td>\\n\\nAs a young girl, Diana Prince participates in a multi-stage athletic competition on Themyscira against older Amazons. After falling from her h...</td>\n",
       "    </tr>\n",
       "  </tbody>\n",
       "</table>\n",
       "</div>"
      ],
      "text/plain": [
       "                                                                                                                                                          transcript\n",
       "blackwidow     \\n\\nFollowing the events of Captain America: Civil War (2016), Natasha Romanoff finds herself on the run and forced to confront a dangerous conspi...\n",
       "eternals       \\n\\nThe saga of the Eternals, a race of immortal beings who lived on Earth and shaped its history and civilizations.\\n\\n* * *\\nIt is time.\\n(SOFT ...\n",
       "joker          \\n\\nCLASSIC SCENE\\nArthur is invited to appear on Murray’s show due to the popularity of his stand-up routine clips. Before the show goes live, Ar...\n",
       "justiceleague  \\n\\nDetermined to ensure Superman’s ultimate sacrifice was not in vain, Bruce Wayne aligns forces with Diana Prince with plans to recruit a team o...\n",
       "shangchi       \\n\\nShang-Chi is a young man who is in denial about his vocation and his magnificent warrior destiny; he lives in San Francisco, calls himself “Sh...\n",
       "spiderman      \\n\\nPeter Parker’s secret identity is revealed to the entire world. Desperate for help, Peter turns to Doctor Strange to make the world forget tha...\n",
       "venom          \\n\\nIn 1996, a young Cletus Kasady watches helplessly as his love, Frances Barrison, is taken away from St. Estes Home for Unwanted Children to th...\n",
       "wonderwoman    \\n\\nAs a young girl, Diana Prince participates in a multi-stage athletic competition on Themyscira against older Amazons. After falling from her h..."
      ]
     },
     "execution_count": 52,
     "metadata": {},
     "output_type": "execute_result"
    }
   ],
   "source": [
    "data_df"
   ]
  },
  {
   "cell_type": "code",
   "execution_count": null,
   "metadata": {},
   "outputs": [],
   "source": [
    "data_df.transcript.loc['spiderman']"
   ]
  },
  {
   "cell_type": "markdown",
   "metadata": {},
   "source": [
    "#### Mulai ronde 1 cleaning data"
   ]
  },
  {
   "cell_type": "markdown",
   "metadata": {},
   "source": [
    "- Mengubah menjadi lowercase\n",
    "- Hilangkan kata kata yang terdapat pada bracket / kurung\n",
    "- menghilangkan special char\n",
    "- menghilangkan kata yang mengandung angka"
   ]
  },
  {
   "cell_type": "code",
   "execution_count": 57,
   "metadata": {},
   "outputs": [],
   "source": [
    "import re\n",
    "import string"
   ]
  },
  {
   "cell_type": "code",
   "execution_count": 59,
   "metadata": {},
   "outputs": [],
   "source": [
    "def clean_text_round1(text):\n",
    "    text = text.lower()\n",
    "    text = re.sub(\"\\(.*?\\)\", '', text)\n",
    "    text = re.sub(\"[%s]\" % re.escape(string.punctuation), '', text)\n",
    "    text = re.sub(\"\\w*\\d\\w*\", '', text)\n",
    "    return text\n"
   ]
  },
  {
   "cell_type": "code",
   "execution_count": 60,
   "metadata": {},
   "outputs": [],
   "source": [
    "round1 = lambda x: clean_text_round1(x)"
   ]
  },
  {
   "cell_type": "code",
   "execution_count": 61,
   "metadata": {},
   "outputs": [
    {
     "data": {
      "text/plain": [
       "blackwidow       \\n\\nFollowing the events of Captain America: Civil War (2016), Natasha Romanoff finds herself on the run and forced to confront a dangerous conspi...\n",
       "eternals         \\n\\nThe saga of the Eternals, a race of immortal beings who lived on Earth and shaped its history and civilizations.\\n\\n* * *\\nIt is time.\\n(SOFT ...\n",
       "joker            \\n\\nCLASSIC SCENE\\nArthur is invited to appear on Murray’s show due to the popularity of his stand-up routine clips. Before the show goes live, Ar...\n",
       "justiceleague    \\n\\nDetermined to ensure Superman’s ultimate sacrifice was not in vain, Bruce Wayne aligns forces with Diana Prince with plans to recruit a team o...\n",
       "shangchi         \\n\\nShang-Chi is a young man who is in denial about his vocation and his magnificent warrior destiny; he lives in San Francisco, calls himself “Sh...\n",
       "spiderman        \\n\\nPeter Parker’s secret identity is revealed to the entire world. Desperate for help, Peter turns to Doctor Strange to make the world forget tha...\n",
       "venom            \\n\\nIn 1996, a young Cletus Kasady watches helplessly as his love, Frances Barrison, is taken away from St. Estes Home for Unwanted Children to th...\n",
       "wonderwoman      \\n\\nAs a young girl, Diana Prince participates in a multi-stage athletic competition on Themyscira against older Amazons. After falling from her h...\n",
       "Name: transcript, dtype: object"
      ]
     },
     "execution_count": 61,
     "metadata": {},
     "output_type": "execute_result"
    }
   ],
   "source": [
    "data_df.transcript"
   ]
  },
  {
   "cell_type": "code",
   "execution_count": 62,
   "metadata": {},
   "outputs": [
    {
     "data": {
      "text/html": [
       "<div>\n",
       "<style scoped>\n",
       "    .dataframe tbody tr th:only-of-type {\n",
       "        vertical-align: middle;\n",
       "    }\n",
       "\n",
       "    .dataframe tbody tr th {\n",
       "        vertical-align: top;\n",
       "    }\n",
       "\n",
       "    .dataframe thead th {\n",
       "        text-align: right;\n",
       "    }\n",
       "</style>\n",
       "<table border=\"1\" class=\"dataframe\">\n",
       "  <thead>\n",
       "    <tr style=\"text-align: right;\">\n",
       "      <th></th>\n",
       "      <th>transcript</th>\n",
       "    </tr>\n",
       "  </thead>\n",
       "  <tbody>\n",
       "    <tr>\n",
       "      <th>blackwidow</th>\n",
       "      <td>\\n\\nfollowing the events of captain america civil war  natasha romanoff finds herself on the run and forced to confront a dangerous conspiracy wit...</td>\n",
       "    </tr>\n",
       "    <tr>\n",
       "      <th>eternals</th>\n",
       "      <td>\\n\\nthe saga of the eternals a race of immortal beings who lived on earth and shaped its history and civilizations\\n\\n  \\nit is time\\n\\nit’s beaut...</td>\n",
       "    </tr>\n",
       "    <tr>\n",
       "      <th>joker</th>\n",
       "      <td>\\n\\nclassic scene\\narthur is invited to appear on murray’s show due to the popularity of his standup routine clips before the show goes live arthu...</td>\n",
       "    </tr>\n",
       "    <tr>\n",
       "      <th>justiceleague</th>\n",
       "      <td>\\n\\ndetermined to ensure superman’s ultimate sacrifice was not in vain bruce wayne aligns forces with diana prince with plans to recruit a team of...</td>\n",
       "    </tr>\n",
       "    <tr>\n",
       "      <th>shangchi</th>\n",
       "      <td>\\n\\nshangchi is a young man who is in denial about his vocation and his magnificent warrior destiny he lives in san francisco calls himself “shaun...</td>\n",
       "    </tr>\n",
       "    <tr>\n",
       "      <th>spiderman</th>\n",
       "      <td>\\n\\npeter parker’s secret identity is revealed to the entire world desperate for help peter turns to doctor strange to make the world forget that ...</td>\n",
       "    </tr>\n",
       "    <tr>\n",
       "      <th>venom</th>\n",
       "      <td>\\n\\nin  a young cletus kasady watches helplessly as his love frances barrison is taken away from st estes home for unwanted children to the ravenc...</td>\n",
       "    </tr>\n",
       "    <tr>\n",
       "      <th>wonderwoman</th>\n",
       "      <td>\\n\\nas a young girl diana prince participates in a multistage athletic competition on themyscira against older amazons after falling from her hors...</td>\n",
       "    </tr>\n",
       "  </tbody>\n",
       "</table>\n",
       "</div>"
      ],
      "text/plain": [
       "                                                                                                                                                          transcript\n",
       "blackwidow     \\n\\nfollowing the events of captain america civil war  natasha romanoff finds herself on the run and forced to confront a dangerous conspiracy wit...\n",
       "eternals       \\n\\nthe saga of the eternals a race of immortal beings who lived on earth and shaped its history and civilizations\\n\\n  \\nit is time\\n\\nit’s beaut...\n",
       "joker          \\n\\nclassic scene\\narthur is invited to appear on murray’s show due to the popularity of his standup routine clips before the show goes live arthu...\n",
       "justiceleague  \\n\\ndetermined to ensure superman’s ultimate sacrifice was not in vain bruce wayne aligns forces with diana prince with plans to recruit a team of...\n",
       "shangchi       \\n\\nshangchi is a young man who is in denial about his vocation and his magnificent warrior destiny he lives in san francisco calls himself “shaun...\n",
       "spiderman      \\n\\npeter parker’s secret identity is revealed to the entire world desperate for help peter turns to doctor strange to make the world forget that ...\n",
       "venom          \\n\\nin  a young cletus kasady watches helplessly as his love frances barrison is taken away from st estes home for unwanted children to the ravenc...\n",
       "wonderwoman    \\n\\nas a young girl diana prince participates in a multistage athletic competition on themyscira against older amazons after falling from her hors..."
      ]
     },
     "execution_count": 62,
     "metadata": {},
     "output_type": "execute_result"
    }
   ],
   "source": [
    "data_clean = pd.DataFrame(data_df.transcript.apply(round1))\n",
    "data_clean"
   ]
  },
  {
   "cell_type": "markdown",
   "metadata": {},
   "source": [
    "#### Mulai ronde 2"
   ]
  },
  {
   "cell_type": "code",
   "execution_count": 64,
   "metadata": {},
   "outputs": [],
   "source": [
    "def clean_text_round2(text):\n",
    "    text = re.sub(\"[‘’“”…]\", '', text)\n",
    "    text = re.sub('\\n', '', text)\n",
    "    return text\n",
    "\n",
    "round2 = lambda x: clean_text_round2(x)"
   ]
  },
  {
   "cell_type": "code",
   "execution_count": 65,
   "metadata": {},
   "outputs": [],
   "source": [
    "data_clean = pd.DataFrame(data_clean.transcript.apply(round2))"
   ]
  },
  {
   "cell_type": "code",
   "execution_count": 66,
   "metadata": {},
   "outputs": [
    {
     "data": {
      "text/html": [
       "<div>\n",
       "<style scoped>\n",
       "    .dataframe tbody tr th:only-of-type {\n",
       "        vertical-align: middle;\n",
       "    }\n",
       "\n",
       "    .dataframe tbody tr th {\n",
       "        vertical-align: top;\n",
       "    }\n",
       "\n",
       "    .dataframe thead th {\n",
       "        text-align: right;\n",
       "    }\n",
       "</style>\n",
       "<table border=\"1\" class=\"dataframe\">\n",
       "  <thead>\n",
       "    <tr style=\"text-align: right;\">\n",
       "      <th></th>\n",
       "      <th>transcript</th>\n",
       "    </tr>\n",
       "  </thead>\n",
       "  <tbody>\n",
       "    <tr>\n",
       "      <th>blackwidow</th>\n",
       "      <td>following the events of captain america civil war  natasha romanoff finds herself on the run and forced to confront a dangerous conspiracy with ti...</td>\n",
       "    </tr>\n",
       "    <tr>\n",
       "      <th>eternals</th>\n",
       "      <td>the saga of the eternals a race of immortal beings who lived on earth and shaped its history and civilizations  it is timeits beautiful isnt itim ...</td>\n",
       "    </tr>\n",
       "    <tr>\n",
       "      <th>joker</th>\n",
       "      <td>classic scenearthur is invited to appear on murrays show due to the popularity of his standup routine clips before the show goes live arthur reque...</td>\n",
       "    </tr>\n",
       "    <tr>\n",
       "      <th>justiceleague</th>\n",
       "      <td>determined to ensure supermans ultimate sacrifice was not in vain bruce wayne aligns forces with diana prince with plans to recruit a team of meta...</td>\n",
       "    </tr>\n",
       "    <tr>\n",
       "      <th>shangchi</th>\n",
       "      <td>shangchi is a young man who is in denial about his vocation and his magnificent warrior destiny he lives in san francisco calls himself shaun and ...</td>\n",
       "    </tr>\n",
       "    <tr>\n",
       "      <th>spiderman</th>\n",
       "      <td>peter parkers secret identity is revealed to the entire world desperate for help peter turns to doctor strange to make the world forget that he is...</td>\n",
       "    </tr>\n",
       "    <tr>\n",
       "      <th>venom</th>\n",
       "      <td>in  a young cletus kasady watches helplessly as his love frances barrison is taken away from st estes home for unwanted children to the ravencroft...</td>\n",
       "    </tr>\n",
       "    <tr>\n",
       "      <th>wonderwoman</th>\n",
       "      <td>as a young girl diana prince participates in a multistage athletic competition on themyscira against older amazons after falling from her horse an...</td>\n",
       "    </tr>\n",
       "  </tbody>\n",
       "</table>\n",
       "</div>"
      ],
      "text/plain": [
       "                                                                                                                                                          transcript\n",
       "blackwidow     following the events of captain america civil war  natasha romanoff finds herself on the run and forced to confront a dangerous conspiracy with ti...\n",
       "eternals       the saga of the eternals a race of immortal beings who lived on earth and shaped its history and civilizations  it is timeits beautiful isnt itim ...\n",
       "joker          classic scenearthur is invited to appear on murrays show due to the popularity of his standup routine clips before the show goes live arthur reque...\n",
       "justiceleague  determined to ensure supermans ultimate sacrifice was not in vain bruce wayne aligns forces with diana prince with plans to recruit a team of meta...\n",
       "shangchi       shangchi is a young man who is in denial about his vocation and his magnificent warrior destiny he lives in san francisco calls himself shaun and ...\n",
       "spiderman      peter parkers secret identity is revealed to the entire world desperate for help peter turns to doctor strange to make the world forget that he is...\n",
       "venom          in  a young cletus kasady watches helplessly as his love frances barrison is taken away from st estes home for unwanted children to the ravencroft...\n",
       "wonderwoman    as a young girl diana prince participates in a multistage athletic competition on themyscira against older amazons after falling from her horse an..."
      ]
     },
     "execution_count": 66,
     "metadata": {},
     "output_type": "execute_result"
    }
   ],
   "source": [
    "data_clean"
   ]
  },
  {
   "cell_type": "markdown",
   "metadata": {},
   "source": [
    "## Organize data"
   ]
  },
  {
   "cell_type": "markdown",
   "metadata": {},
   "source": [
    "#### Corpus"
   ]
  },
  {
   "cell_type": "code",
   "execution_count": 67,
   "metadata": {},
   "outputs": [
    {
     "data": {
      "text/html": [
       "<div>\n",
       "<style scoped>\n",
       "    .dataframe tbody tr th:only-of-type {\n",
       "        vertical-align: middle;\n",
       "    }\n",
       "\n",
       "    .dataframe tbody tr th {\n",
       "        vertical-align: top;\n",
       "    }\n",
       "\n",
       "    .dataframe thead th {\n",
       "        text-align: right;\n",
       "    }\n",
       "</style>\n",
       "<table border=\"1\" class=\"dataframe\">\n",
       "  <thead>\n",
       "    <tr style=\"text-align: right;\">\n",
       "      <th></th>\n",
       "      <th>transcript</th>\n",
       "    </tr>\n",
       "  </thead>\n",
       "  <tbody>\n",
       "    <tr>\n",
       "      <th>blackwidow</th>\n",
       "      <td>following the events of captain america civil war  natasha romanoff finds herself on the run and forced to confront a dangerous conspiracy with ti...</td>\n",
       "    </tr>\n",
       "    <tr>\n",
       "      <th>eternals</th>\n",
       "      <td>the saga of the eternals a race of immortal beings who lived on earth and shaped its history and civilizations  it is timeits beautiful isnt itim ...</td>\n",
       "    </tr>\n",
       "    <tr>\n",
       "      <th>joker</th>\n",
       "      <td>classic scenearthur is invited to appear on murrays show due to the popularity of his standup routine clips before the show goes live arthur reque...</td>\n",
       "    </tr>\n",
       "    <tr>\n",
       "      <th>justiceleague</th>\n",
       "      <td>determined to ensure supermans ultimate sacrifice was not in vain bruce wayne aligns forces with diana prince with plans to recruit a team of meta...</td>\n",
       "    </tr>\n",
       "    <tr>\n",
       "      <th>shangchi</th>\n",
       "      <td>shangchi is a young man who is in denial about his vocation and his magnificent warrior destiny he lives in san francisco calls himself shaun and ...</td>\n",
       "    </tr>\n",
       "    <tr>\n",
       "      <th>spiderman</th>\n",
       "      <td>peter parkers secret identity is revealed to the entire world desperate for help peter turns to doctor strange to make the world forget that he is...</td>\n",
       "    </tr>\n",
       "    <tr>\n",
       "      <th>venom</th>\n",
       "      <td>in  a young cletus kasady watches helplessly as his love frances barrison is taken away from st estes home for unwanted children to the ravencroft...</td>\n",
       "    </tr>\n",
       "    <tr>\n",
       "      <th>wonderwoman</th>\n",
       "      <td>as a young girl diana prince participates in a multistage athletic competition on themyscira against older amazons after falling from her horse an...</td>\n",
       "    </tr>\n",
       "  </tbody>\n",
       "</table>\n",
       "</div>"
      ],
      "text/plain": [
       "                                                                                                                                                          transcript\n",
       "blackwidow     following the events of captain america civil war  natasha romanoff finds herself on the run and forced to confront a dangerous conspiracy with ti...\n",
       "eternals       the saga of the eternals a race of immortal beings who lived on earth and shaped its history and civilizations  it is timeits beautiful isnt itim ...\n",
       "joker          classic scenearthur is invited to appear on murrays show due to the popularity of his standup routine clips before the show goes live arthur reque...\n",
       "justiceleague  determined to ensure supermans ultimate sacrifice was not in vain bruce wayne aligns forces with diana prince with plans to recruit a team of meta...\n",
       "shangchi       shangchi is a young man who is in denial about his vocation and his magnificent warrior destiny he lives in san francisco calls himself shaun and ...\n",
       "spiderman      peter parkers secret identity is revealed to the entire world desperate for help peter turns to doctor strange to make the world forget that he is...\n",
       "venom          in  a young cletus kasady watches helplessly as his love frances barrison is taken away from st estes home for unwanted children to the ravencroft...\n",
       "wonderwoman    as a young girl diana prince participates in a multistage athletic competition on themyscira against older amazons after falling from her horse an..."
      ]
     },
     "execution_count": 67,
     "metadata": {},
     "output_type": "execute_result"
    }
   ],
   "source": [
    "# Corpus\n",
    "data_clean"
   ]
  },
  {
   "cell_type": "code",
   "execution_count": 68,
   "metadata": {},
   "outputs": [],
   "source": [
    "full_names = ['Black Widow', 'Eternals', 'Joker', 'Justice League (Jack Snyder)', 'Shang Chi and The Legend of The Ten Rings',\n",
    "             'Spider-man : No Way Home', 'Venom: Let There be Carnage', 'Wonder Woman']"
   ]
  },
  {
   "cell_type": "code",
   "execution_count": 70,
   "metadata": {},
   "outputs": [
    {
     "data": {
      "text/html": [
       "<div>\n",
       "<style scoped>\n",
       "    .dataframe tbody tr th:only-of-type {\n",
       "        vertical-align: middle;\n",
       "    }\n",
       "\n",
       "    .dataframe tbody tr th {\n",
       "        vertical-align: top;\n",
       "    }\n",
       "\n",
       "    .dataframe thead th {\n",
       "        text-align: right;\n",
       "    }\n",
       "</style>\n",
       "<table border=\"1\" class=\"dataframe\">\n",
       "  <thead>\n",
       "    <tr style=\"text-align: right;\">\n",
       "      <th></th>\n",
       "      <th>transcript</th>\n",
       "      <th>full_name</th>\n",
       "    </tr>\n",
       "  </thead>\n",
       "  <tbody>\n",
       "    <tr>\n",
       "      <th>blackwidow</th>\n",
       "      <td>following the events of captain america civil war  natasha romanoff finds herself on the run and forced to confront a dangerous conspiracy with ti...</td>\n",
       "      <td>Black Widow</td>\n",
       "    </tr>\n",
       "    <tr>\n",
       "      <th>eternals</th>\n",
       "      <td>the saga of the eternals a race of immortal beings who lived on earth and shaped its history and civilizations  it is timeits beautiful isnt itim ...</td>\n",
       "      <td>Eternals</td>\n",
       "    </tr>\n",
       "    <tr>\n",
       "      <th>joker</th>\n",
       "      <td>classic scenearthur is invited to appear on murrays show due to the popularity of his standup routine clips before the show goes live arthur reque...</td>\n",
       "      <td>Joker</td>\n",
       "    </tr>\n",
       "    <tr>\n",
       "      <th>justiceleague</th>\n",
       "      <td>determined to ensure supermans ultimate sacrifice was not in vain bruce wayne aligns forces with diana prince with plans to recruit a team of meta...</td>\n",
       "      <td>Justice League (Jack Snyder)</td>\n",
       "    </tr>\n",
       "    <tr>\n",
       "      <th>shangchi</th>\n",
       "      <td>shangchi is a young man who is in denial about his vocation and his magnificent warrior destiny he lives in san francisco calls himself shaun and ...</td>\n",
       "      <td>Shang Chi and The Legend of The Ten Rings</td>\n",
       "    </tr>\n",
       "    <tr>\n",
       "      <th>spiderman</th>\n",
       "      <td>peter parkers secret identity is revealed to the entire world desperate for help peter turns to doctor strange to make the world forget that he is...</td>\n",
       "      <td>Spider-man : No Way Home</td>\n",
       "    </tr>\n",
       "    <tr>\n",
       "      <th>venom</th>\n",
       "      <td>in  a young cletus kasady watches helplessly as his love frances barrison is taken away from st estes home for unwanted children to the ravencroft...</td>\n",
       "      <td>Venom: Let There be Carnage</td>\n",
       "    </tr>\n",
       "    <tr>\n",
       "      <th>wonderwoman</th>\n",
       "      <td>as a young girl diana prince participates in a multistage athletic competition on themyscira against older amazons after falling from her horse an...</td>\n",
       "      <td>Wonder Woman</td>\n",
       "    </tr>\n",
       "  </tbody>\n",
       "</table>\n",
       "</div>"
      ],
      "text/plain": [
       "                                                                                                                                                          transcript  \\\n",
       "blackwidow     following the events of captain america civil war  natasha romanoff finds herself on the run and forced to confront a dangerous conspiracy with ti...   \n",
       "eternals       the saga of the eternals a race of immortal beings who lived on earth and shaped its history and civilizations  it is timeits beautiful isnt itim ...   \n",
       "joker          classic scenearthur is invited to appear on murrays show due to the popularity of his standup routine clips before the show goes live arthur reque...   \n",
       "justiceleague  determined to ensure supermans ultimate sacrifice was not in vain bruce wayne aligns forces with diana prince with plans to recruit a team of meta...   \n",
       "shangchi       shangchi is a young man who is in denial about his vocation and his magnificent warrior destiny he lives in san francisco calls himself shaun and ...   \n",
       "spiderman      peter parkers secret identity is revealed to the entire world desperate for help peter turns to doctor strange to make the world forget that he is...   \n",
       "venom          in  a young cletus kasady watches helplessly as his love frances barrison is taken away from st estes home for unwanted children to the ravencroft...   \n",
       "wonderwoman    as a young girl diana prince participates in a multistage athletic competition on themyscira against older amazons after falling from her horse an...   \n",
       "\n",
       "                                               full_name  \n",
       "blackwidow                                   Black Widow  \n",
       "eternals                                        Eternals  \n",
       "joker                                              Joker  \n",
       "justiceleague               Justice League (Jack Snyder)  \n",
       "shangchi       Shang Chi and The Legend of The Ten Rings  \n",
       "spiderman                       Spider-man : No Way Home  \n",
       "venom                        Venom: Let There be Carnage  \n",
       "wonderwoman                                 Wonder Woman  "
      ]
     },
     "execution_count": 70,
     "metadata": {},
     "output_type": "execute_result"
    }
   ],
   "source": [
    "data_clean['full_name'] = full_names\n",
    "data_clean"
   ]
  },
  {
   "cell_type": "code",
   "execution_count": 71,
   "metadata": {},
   "outputs": [],
   "source": [
    "data_clean.to_pickle(\"corpus_clean.pkl\")\n",
    "data_df.to_pickle(\"corpus_df.pkl\")"
   ]
  },
  {
   "cell_type": "markdown",
   "metadata": {},
   "source": [
    "#### Document-term Matrix"
   ]
  },
  {
   "cell_type": "code",
   "execution_count": 72,
   "metadata": {},
   "outputs": [],
   "source": [
    "from sklearn.feature_extraction.text import CountVectorizer\n",
    "\n",
    "cv = CountVectorizer(stop_words='english')\n",
    "\n",
    "data_cv = cv.fit_transform(data_clean.transcript)"
   ]
  },
  {
   "cell_type": "code",
   "execution_count": 75,
   "metadata": {},
   "outputs": [],
   "source": [
    "data_dtm = pd.DataFrame(data_cv.toarray(), columns=cv.get_feature_names())"
   ]
  },
  {
   "cell_type": "code",
   "execution_count": 77,
   "metadata": {},
   "outputs": [],
   "source": [
    "data_dtm.index = data_clean.index"
   ]
  },
  {
   "cell_type": "code",
   "execution_count": 78,
   "metadata": {},
   "outputs": [
    {
     "data": {
      "text/html": [
       "<div>\n",
       "<style scoped>\n",
       "    .dataframe tbody tr th:only-of-type {\n",
       "        vertical-align: middle;\n",
       "    }\n",
       "\n",
       "    .dataframe tbody tr th {\n",
       "        vertical-align: top;\n",
       "    }\n",
       "\n",
       "    .dataframe thead th {\n",
       "        text-align: right;\n",
       "    }\n",
       "</style>\n",
       "<table border=\"1\" class=\"dataframe\">\n",
       "  <thead>\n",
       "    <tr style=\"text-align: right;\">\n",
       "      <th></th>\n",
       "      <th>aa</th>\n",
       "      <th>aand</th>\n",
       "      <th>abandon</th>\n",
       "      <th>abandoned</th>\n",
       "      <th>abandonedit</th>\n",
       "      <th>abandonedyou</th>\n",
       "      <th>abandons</th>\n",
       "      <th>abcoh</th>\n",
       "      <th>abductedare</th>\n",
       "      <th>abductions</th>\n",
       "      <th>...</th>\n",
       "      <th>youyoull</th>\n",
       "      <th>youyoure</th>\n",
       "      <th>zap</th>\n",
       "      <th>zero</th>\n",
       "      <th>zeroes</th>\n",
       "      <th>zeroonce</th>\n",
       "      <th>zeus</th>\n",
       "      <th>zhong</th>\n",
       "      <th>zones</th>\n",
       "      <th>zoologist</th>\n",
       "    </tr>\n",
       "  </thead>\n",
       "  <tbody>\n",
       "    <tr>\n",
       "      <th>blackwidow</th>\n",
       "      <td>0</td>\n",
       "      <td>0</td>\n",
       "      <td>0</td>\n",
       "      <td>2</td>\n",
       "      <td>0</td>\n",
       "      <td>1</td>\n",
       "      <td>0</td>\n",
       "      <td>0</td>\n",
       "      <td>0</td>\n",
       "      <td>0</td>\n",
       "      <td>...</td>\n",
       "      <td>0</td>\n",
       "      <td>0</td>\n",
       "      <td>0</td>\n",
       "      <td>0</td>\n",
       "      <td>0</td>\n",
       "      <td>1</td>\n",
       "      <td>0</td>\n",
       "      <td>0</td>\n",
       "      <td>1</td>\n",
       "      <td>0</td>\n",
       "    </tr>\n",
       "    <tr>\n",
       "      <th>eternals</th>\n",
       "      <td>0</td>\n",
       "      <td>0</td>\n",
       "      <td>0</td>\n",
       "      <td>1</td>\n",
       "      <td>0</td>\n",
       "      <td>0</td>\n",
       "      <td>0</td>\n",
       "      <td>0</td>\n",
       "      <td>0</td>\n",
       "      <td>0</td>\n",
       "      <td>...</td>\n",
       "      <td>0</td>\n",
       "      <td>1</td>\n",
       "      <td>0</td>\n",
       "      <td>0</td>\n",
       "      <td>0</td>\n",
       "      <td>0</td>\n",
       "      <td>0</td>\n",
       "      <td>0</td>\n",
       "      <td>0</td>\n",
       "      <td>0</td>\n",
       "    </tr>\n",
       "    <tr>\n",
       "      <th>joker</th>\n",
       "      <td>0</td>\n",
       "      <td>0</td>\n",
       "      <td>0</td>\n",
       "      <td>0</td>\n",
       "      <td>0</td>\n",
       "      <td>0</td>\n",
       "      <td>2</td>\n",
       "      <td>0</td>\n",
       "      <td>0</td>\n",
       "      <td>0</td>\n",
       "      <td>...</td>\n",
       "      <td>0</td>\n",
       "      <td>0</td>\n",
       "      <td>0</td>\n",
       "      <td>0</td>\n",
       "      <td>0</td>\n",
       "      <td>0</td>\n",
       "      <td>0</td>\n",
       "      <td>0</td>\n",
       "      <td>0</td>\n",
       "      <td>0</td>\n",
       "    </tr>\n",
       "    <tr>\n",
       "      <th>justiceleague</th>\n",
       "      <td>0</td>\n",
       "      <td>0</td>\n",
       "      <td>1</td>\n",
       "      <td>2</td>\n",
       "      <td>1</td>\n",
       "      <td>0</td>\n",
       "      <td>0</td>\n",
       "      <td>0</td>\n",
       "      <td>1</td>\n",
       "      <td>1</td>\n",
       "      <td>...</td>\n",
       "      <td>1</td>\n",
       "      <td>0</td>\n",
       "      <td>0</td>\n",
       "      <td>1</td>\n",
       "      <td>1</td>\n",
       "      <td>0</td>\n",
       "      <td>1</td>\n",
       "      <td>0</td>\n",
       "      <td>0</td>\n",
       "      <td>0</td>\n",
       "    </tr>\n",
       "    <tr>\n",
       "      <th>shangchi</th>\n",
       "      <td>0</td>\n",
       "      <td>0</td>\n",
       "      <td>0</td>\n",
       "      <td>0</td>\n",
       "      <td>0</td>\n",
       "      <td>0</td>\n",
       "      <td>0</td>\n",
       "      <td>1</td>\n",
       "      <td>0</td>\n",
       "      <td>0</td>\n",
       "      <td>...</td>\n",
       "      <td>0</td>\n",
       "      <td>0</td>\n",
       "      <td>0</td>\n",
       "      <td>0</td>\n",
       "      <td>0</td>\n",
       "      <td>0</td>\n",
       "      <td>0</td>\n",
       "      <td>0</td>\n",
       "      <td>0</td>\n",
       "      <td>0</td>\n",
       "    </tr>\n",
       "    <tr>\n",
       "      <th>spiderman</th>\n",
       "      <td>1</td>\n",
       "      <td>0</td>\n",
       "      <td>0</td>\n",
       "      <td>0</td>\n",
       "      <td>0</td>\n",
       "      <td>0</td>\n",
       "      <td>0</td>\n",
       "      <td>0</td>\n",
       "      <td>0</td>\n",
       "      <td>0</td>\n",
       "      <td>...</td>\n",
       "      <td>0</td>\n",
       "      <td>1</td>\n",
       "      <td>1</td>\n",
       "      <td>1</td>\n",
       "      <td>0</td>\n",
       "      <td>0</td>\n",
       "      <td>0</td>\n",
       "      <td>0</td>\n",
       "      <td>0</td>\n",
       "      <td>0</td>\n",
       "    </tr>\n",
       "    <tr>\n",
       "      <th>venom</th>\n",
       "      <td>0</td>\n",
       "      <td>1</td>\n",
       "      <td>0</td>\n",
       "      <td>0</td>\n",
       "      <td>0</td>\n",
       "      <td>0</td>\n",
       "      <td>0</td>\n",
       "      <td>0</td>\n",
       "      <td>0</td>\n",
       "      <td>0</td>\n",
       "      <td>...</td>\n",
       "      <td>0</td>\n",
       "      <td>0</td>\n",
       "      <td>0</td>\n",
       "      <td>1</td>\n",
       "      <td>0</td>\n",
       "      <td>0</td>\n",
       "      <td>0</td>\n",
       "      <td>0</td>\n",
       "      <td>0</td>\n",
       "      <td>0</td>\n",
       "    </tr>\n",
       "    <tr>\n",
       "      <th>wonderwoman</th>\n",
       "      <td>0</td>\n",
       "      <td>0</td>\n",
       "      <td>0</td>\n",
       "      <td>0</td>\n",
       "      <td>0</td>\n",
       "      <td>0</td>\n",
       "      <td>0</td>\n",
       "      <td>0</td>\n",
       "      <td>0</td>\n",
       "      <td>0</td>\n",
       "      <td>...</td>\n",
       "      <td>0</td>\n",
       "      <td>0</td>\n",
       "      <td>0</td>\n",
       "      <td>0</td>\n",
       "      <td>0</td>\n",
       "      <td>0</td>\n",
       "      <td>0</td>\n",
       "      <td>2</td>\n",
       "      <td>0</td>\n",
       "      <td>1</td>\n",
       "    </tr>\n",
       "  </tbody>\n",
       "</table>\n",
       "<p>8 rows × 12932 columns</p>\n",
       "</div>"
      ],
      "text/plain": [
       "               aa  aand  abandon  abandoned  abandonedit  abandonedyou  \\\n",
       "blackwidow      0     0        0          2            0             1   \n",
       "eternals        0     0        0          1            0             0   \n",
       "joker           0     0        0          0            0             0   \n",
       "justiceleague   0     0        1          2            1             0   \n",
       "shangchi        0     0        0          0            0             0   \n",
       "spiderman       1     0        0          0            0             0   \n",
       "venom           0     1        0          0            0             0   \n",
       "wonderwoman     0     0        0          0            0             0   \n",
       "\n",
       "               abandons  abcoh  abductedare  abductions  ...  youyoull  \\\n",
       "blackwidow            0      0            0           0  ...         0   \n",
       "eternals              0      0            0           0  ...         0   \n",
       "joker                 2      0            0           0  ...         0   \n",
       "justiceleague         0      0            1           1  ...         1   \n",
       "shangchi              0      1            0           0  ...         0   \n",
       "spiderman             0      0            0           0  ...         0   \n",
       "venom                 0      0            0           0  ...         0   \n",
       "wonderwoman           0      0            0           0  ...         0   \n",
       "\n",
       "               youyoure  zap  zero  zeroes  zeroonce  zeus  zhong  zones  \\\n",
       "blackwidow            0    0     0       0         1     0      0      1   \n",
       "eternals              1    0     0       0         0     0      0      0   \n",
       "joker                 0    0     0       0         0     0      0      0   \n",
       "justiceleague         0    0     1       1         0     1      0      0   \n",
       "shangchi              0    0     0       0         0     0      0      0   \n",
       "spiderman             1    1     1       0         0     0      0      0   \n",
       "venom                 0    0     1       0         0     0      0      0   \n",
       "wonderwoman           0    0     0       0         0     0      2      0   \n",
       "\n",
       "               zoologist  \n",
       "blackwidow             0  \n",
       "eternals               0  \n",
       "joker                  0  \n",
       "justiceleague          0  \n",
       "shangchi               0  \n",
       "spiderman              0  \n",
       "venom                  0  \n",
       "wonderwoman            1  \n",
       "\n",
       "[8 rows x 12932 columns]"
      ]
     },
     "execution_count": 78,
     "metadata": {},
     "output_type": "execute_result"
    }
   ],
   "source": [
    "data_dtm"
   ]
  },
  {
   "cell_type": "code",
   "execution_count": 79,
   "metadata": {},
   "outputs": [],
   "source": [
    "data_dtm.to_pickle(\"dtm.pkl\")"
   ]
  },
  {
   "cell_type": "code",
   "execution_count": 80,
   "metadata": {},
   "outputs": [],
   "source": [
    "pickle.dump(cv, open(\"cv.pkl\", \"wb\"))"
   ]
  }
 ],
 "metadata": {
  "interpreter": {
   "hash": "57bf76975cc595d48b87e49d5e3d532889b23fc7a4ecec7f9d567f947a53ee0d"
  },
  "kernelspec": {
   "display_name": "Python 3.9.1 64-bit",
   "language": "python",
   "name": "python3"
  },
  "language_info": {
   "codemirror_mode": {
    "name": "ipython",
    "version": 3
   },
   "file_extension": ".py",
   "mimetype": "text/x-python",
   "name": "python",
   "nbconvert_exporter": "python",
   "pygments_lexer": "ipython3",
   "version": "3.9.1"
  },
  "orig_nbformat": 4
 },
 "nbformat": 4,
 "nbformat_minor": 2
}
