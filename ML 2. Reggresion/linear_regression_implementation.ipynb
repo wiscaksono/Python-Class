{
  "cells": [
    {
      "cell_type": "code",
      "execution_count": 2,
      "metadata": {
        "id": "QQmeEt0E3tYG"
      },
      "outputs": [],
      "source": [
        "import numpy as np\n",
        "import pandas as pd\n",
        "import seaborn as sns\n",
        "import matplotlib.pyplot as plt\n",
        "%matplotlib inline\n"
      ]
    },
    {
      "cell_type": "code",
      "execution_count": 3,
      "metadata": {
        "colab": {
          "base_uri": "https://localhost:8080/"
        },
        "id": "CiWPcJZb5YM0",
        "outputId": "120730a1-1fbf-4c1b-a67f-7746a741d9e6"
      },
      "outputs": [
        {
          "data": {
            "text/html": [
              "<div>\n",
              "<style scoped>\n",
              "    .dataframe tbody tr th:only-of-type {\n",
              "        vertical-align: middle;\n",
              "    }\n",
              "\n",
              "    .dataframe tbody tr th {\n",
              "        vertical-align: top;\n",
              "    }\n",
              "\n",
              "    .dataframe thead th {\n",
              "        text-align: right;\n",
              "    }\n",
              "</style>\n",
              "<table border=\"1\" class=\"dataframe\">\n",
              "  <thead>\n",
              "    <tr style=\"text-align: right;\">\n",
              "      <th></th>\n",
              "      <th>Gender</th>\n",
              "      <th>Age Range</th>\n",
              "      <th>Head Size(cm^3)</th>\n",
              "      <th>Brain Weight(grams)</th>\n",
              "    </tr>\n",
              "  </thead>\n",
              "  <tbody>\n",
              "    <tr>\n",
              "      <th>0</th>\n",
              "      <td>1</td>\n",
              "      <td>1</td>\n",
              "      <td>4512</td>\n",
              "      <td>1530</td>\n",
              "    </tr>\n",
              "    <tr>\n",
              "      <th>1</th>\n",
              "      <td>1</td>\n",
              "      <td>1</td>\n",
              "      <td>3738</td>\n",
              "      <td>1297</td>\n",
              "    </tr>\n",
              "    <tr>\n",
              "      <th>2</th>\n",
              "      <td>1</td>\n",
              "      <td>1</td>\n",
              "      <td>4261</td>\n",
              "      <td>1335</td>\n",
              "    </tr>\n",
              "    <tr>\n",
              "      <th>3</th>\n",
              "      <td>1</td>\n",
              "      <td>1</td>\n",
              "      <td>3777</td>\n",
              "      <td>1282</td>\n",
              "    </tr>\n",
              "    <tr>\n",
              "      <th>4</th>\n",
              "      <td>1</td>\n",
              "      <td>1</td>\n",
              "      <td>4177</td>\n",
              "      <td>1590</td>\n",
              "    </tr>\n",
              "    <tr>\n",
              "      <th>...</th>\n",
              "      <td>...</td>\n",
              "      <td>...</td>\n",
              "      <td>...</td>\n",
              "      <td>...</td>\n",
              "    </tr>\n",
              "    <tr>\n",
              "      <th>232</th>\n",
              "      <td>2</td>\n",
              "      <td>2</td>\n",
              "      <td>3214</td>\n",
              "      <td>1110</td>\n",
              "    </tr>\n",
              "    <tr>\n",
              "      <th>233</th>\n",
              "      <td>2</td>\n",
              "      <td>2</td>\n",
              "      <td>3394</td>\n",
              "      <td>1215</td>\n",
              "    </tr>\n",
              "    <tr>\n",
              "      <th>234</th>\n",
              "      <td>2</td>\n",
              "      <td>2</td>\n",
              "      <td>3233</td>\n",
              "      <td>1104</td>\n",
              "    </tr>\n",
              "    <tr>\n",
              "      <th>235</th>\n",
              "      <td>2</td>\n",
              "      <td>2</td>\n",
              "      <td>3352</td>\n",
              "      <td>1170</td>\n",
              "    </tr>\n",
              "    <tr>\n",
              "      <th>236</th>\n",
              "      <td>2</td>\n",
              "      <td>2</td>\n",
              "      <td>3391</td>\n",
              "      <td>1120</td>\n",
              "    </tr>\n",
              "  </tbody>\n",
              "</table>\n",
              "<p>237 rows × 4 columns</p>\n",
              "</div>"
            ],
            "text/plain": [
              "     Gender  Age Range  Head Size(cm^3)  Brain Weight(grams)\n",
              "0         1          1             4512                 1530\n",
              "1         1          1             3738                 1297\n",
              "2         1          1             4261                 1335\n",
              "3         1          1             3777                 1282\n",
              "4         1          1             4177                 1590\n",
              "..      ...        ...              ...                  ...\n",
              "232       2          2             3214                 1110\n",
              "233       2          2             3394                 1215\n",
              "234       2          2             3233                 1104\n",
              "235       2          2             3352                 1170\n",
              "236       2          2             3391                 1120\n",
              "\n",
              "[237 rows x 4 columns]"
            ]
          },
          "execution_count": 3,
          "metadata": {},
          "output_type": "execute_result"
        }
      ],
      "source": [
        "# reading csv file as pandas dataframe\n",
        "data = pd.read_csv('headbrain.csv')\n",
        "data"
      ]
    },
    {
      "cell_type": "code",
      "execution_count": 11,
      "metadata": {
        "id": "0SlQ2wHP5mTy"
      },
      "outputs": [
        {
          "name": "stdout",
          "output_type": "stream",
          "text": [
            "3633.9915611814345\n"
          ]
        }
      ],
      "source": [
        "# collecting x & y\n",
        "X = data['Head Size(cm^3)'].values\n",
        "Y = data['Brain Weight(grams)'].values\n",
        "\n",
        "# calculate mean of x & y using an inbuilt numpy method mean()\n",
        "mean_x = np.mean(X)\n",
        "mean_y = np.mean(Y)"
      ]
    },
    {
      "cell_type": "code",
      "execution_count": 12,
      "metadata": {
        "colab": {
          "base_uri": "https://localhost:8080/"
        },
        "id": "L9g7vxUr6D_J",
        "outputId": "376f0de4-e8d4-408c-abab-4ccc74f88bf7"
      },
      "outputs": [
        {
          "name": "stdout",
          "output_type": "stream",
          "text": [
            "m = 0.26342933948939945 \n",
            "c = 325.57342104944223\n"
          ]
        }
      ],
      "source": [
        "# total no.of input values\n",
        "val_count = len(X)\n",
        "\n",
        "# using the formula to calculate m & c\n",
        "numer = 0\n",
        "denom = 0\n",
        "for i in range(val_count):\n",
        "  numer += (X[i] - mean_x) * (Y[i] - mean_y)\n",
        "  denom += (X[i] - mean_x) ** 2\n",
        "m = numer / denom\n",
        "c = mean_y - (m * mean_x)\n",
        "\n",
        "print (f'm = {m} \\nc = {c}')"
      ]
    },
    {
      "cell_type": "code",
      "execution_count": 6,
      "metadata": {
        "colab": {
          "base_uri": "https://localhost:8080/",
          "height": 279
        },
        "id": "NbcXI8J660vi",
        "outputId": "729250b0-2286-41b1-fdf2-a8bcf79b25b6"
      },
      "outputs": [
        {
          "data": {
            "image/png": "[encoded data removed]",
            "text/plain": [
              "<Figure size 432x288 with 1 Axes>"
            ]
          },
          "metadata": {
            "needs_background": "light"
          },
          "output_type": "display_data"
        }
      ],
      "source": [
        "# plotting values and regression line\n",
        "max_x = np.max(X) + 100\n",
        "min_x = np.min(X) - 100\n",
        "\n",
        "# calculating line values x and y\n",
        "x = np.linspace (min_x, max_x, 100)\n",
        "y = c + m * x\n",
        "\n",
        "plt.plot(x, y, color='#58b970', label='Regression Line')\n",
        "plt.scatter(X,Y,c='#ef5423', label='data points')\n",
        "\n",
        "plt.xlabel('Head Size in cm')\n",
        "plt.ylabel('Brain Weight in grams')\n",
        "plt.legend()\n",
        "plt.show()"
      ]
    },
    {
      "cell_type": "code",
      "execution_count": 7,
      "metadata": {
        "colab": {
          "base_uri": "https://localhost:8080/"
        },
        "id": "BaCDhZqa7xn5",
        "outputId": "8ab495f8-01d9-4852-e817-0f23fbb160d4"
      },
      "outputs": [
        {
          "name": "stdout",
          "output_type": "stream",
          "text": [
            "0.6393117199570003\n"
          ]
        }
      ],
      "source": [
        "# calculating R-squared value for measuring goodness of our model. \n",
        "ss_t = 0 #total sum of squares\n",
        "ss_r = 0 #total sum of square of residuals\n",
        "\n",
        "for i in range(int(val_count)):\n",
        "  y_pred = c + m * X[i]\n",
        "  ss_t += (Y[i] - mean_y) ** 2\n",
        "  ss_r += (Y[i] - y_pred) ** 2\n",
        "r2 = 1 - (ss_r/ss_t)\n",
        "\n",
        "print(r2)"
      ]
    },
    {
      "cell_type": "code",
      "execution_count": 8,
      "metadata": {
        "colab": {
          "base_uri": "https://localhost:8080/"
        },
        "id": "9v04a-7B8lCr",
        "outputId": "43cd1750-5a84-4796-e792-b17a8cb2f55a"
      },
      "outputs": [
        {
          "name": "stdout",
          "output_type": "stream",
          "text": [
            "0.639311719957\n"
          ]
        }
      ],
      "source": [
        "# Linear regression implementation using sklearn\n",
        "\n",
        "from sklearn.linear_model import LinearRegression\n",
        "\n",
        "X = X.reshape(-1, 1)\n",
        "reg = LinearRegression()\n",
        "reg = reg.fit(X,Y)\n",
        "\n",
        "Y_pred = reg.predict(X)\n",
        "r2_square = reg.score(X, Y)\n",
        "\n",
        "print (r2_square)"
      ]
    },
    {
      "cell_type": "code",
      "execution_count": 9,
      "metadata": {
        "id": "49Ql1F-n2Gfp"
      },
      "outputs": [
        {
          "data": {
            "image/png": "[encoded data removed]",
            "text/plain": [
              "<Figure size 432x288 with 1 Axes>"
            ]
          },
          "metadata": {
            "needs_background": "light"
          },
          "output_type": "display_data"
        }
      ],
      "source": [
        "plt.plot(X, Y_pred, color='#58b970', label='Regression Line')\n",
        "plt.scatter(X,Y,c='#ef5423', label='data points')\n",
        "\n",
        "plt.xlabel('Head Size in cm')\n",
        "plt.ylabel('Brain Weight in grams')\n",
        "plt.legend()\n",
        "plt.show()"
      ]
    },
    {
      "cell_type": "code",
      "execution_count": null,
      "metadata": {},
      "outputs": [],
      "source": []
    }
  ],
  "metadata": {
    "colab": {
      "name": "linear regression implementation.ipynb",
      "provenance": []
    },
    "kernelspec": {
      "display_name": "Python 3",
      "name": "python3"
    },
    "language_info": {
      "codemirror_mode": {
        "name": "ipython",
        "version": 3
      },
      "file_extension": ".py",
      "mimetype": "text/x-python",
      "name": "python",
      "nbconvert_exporter": "python",
      "pygments_lexer": "ipython3",
      "version": "3.10.2"
    }
  },
  "nbformat": 4,
  "nbformat_minor": 0
}
