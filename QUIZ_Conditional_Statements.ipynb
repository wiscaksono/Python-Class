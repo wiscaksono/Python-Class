{
 "cells": [
  {
   "cell_type": "markdown",
   "id": "serious-hanging",
   "metadata": {},
   "source": [
    "## QUIZ - Conditional Statements"
   ]
  },
  {
   "cell_type": "markdown",
   "id": "judicial-retreat",
   "metadata": {},
   "source": [
    "**Q 1:**\n",
    "\n",
    "Ask the user to enter a number.\n",
    "\n",
    "Find out if this number is Odd or Even."
   ]
  },
  {
   "cell_type": "code",
   "execution_count": 5,
   "id": "saved-authority",
   "metadata": {},
   "outputs": [
    {
     "name": "stdout",
     "output_type": "stream",
     "text": [
      "Your number is odd\n"
     ]
    }
   ],
   "source": [
    "# Q 1:\n",
    "q1 = int(input(\"Enter a number: \"))\n",
    "# --- your solution here --- #    \n",
    "if q1%2 == 0:\n",
    "  print(\"Your number is even\")\n",
    "else:\n",
    "  print(\"Your number is odd\")"
   ]
  },
  {
   "cell_type": "markdown",
   "id": "round-insulation",
   "metadata": {},
   "source": [
    "---"
   ]
  },
  {
   "cell_type": "markdown",
   "id": "introductory-bulgaria",
   "metadata": {},
   "source": [
    "**Q 2:**\n",
    "\n",
    "Ask for a letter from the user.\n",
    "\n",
    "Find out if it is a vowel or consonant."
   ]
  },
  {
   "cell_type": "code",
   "execution_count": 7,
   "id": "expected-zambia",
   "metadata": {},
   "outputs": [
    {
     "name": "stdout",
     "output_type": "stream",
     "text": [
      "Your letter is vowel!\n"
     ]
    }
   ],
   "source": [
    "# Q 2:\n",
    "a = str(input(\"Enter a letter: \"))\n",
    "# --- your solution here --- #    \n",
    "if a == 'a' or a == 'e' or a == 'i' or a == 'o' or a == 'u' or a == 'A' or a == 'E' or a == 'I' or a == 'O' or a == 'U':\n",
    "  print(\"Your letter is vowel!\")\n",
    "else:\n",
    "  print(\"Your letter is consonant!\")"
   ]
  },
  {
   "cell_type": "markdown",
   "id": "logical-airport",
   "metadata": {},
   "source": [
    "---"
   ]
  },
  {
   "cell_type": "markdown",
   "id": "experimental-swedish",
   "metadata": {},
   "source": [
    "**Q 3:**\n",
    "\n",
    "Define a function with name **which_shape**.\n",
    "\n",
    "The function will ask a number from the user.\n",
    "\n",
    "It will decide the name of the shape according to that number, and return that name.\n",
    "\n",
    "Sides & Shapes:\n",
    "* 3 - Triangle\n",
    "* 4 - Rectangle\n",
    "* 5 - Pentagon\n",
    "* 6 - Hexagon\n",
    "* 7 and more - Polygon"
   ]
  },
  {
   "cell_type": "code",
   "execution_count": 8,
   "id": "soviet-storage",
   "metadata": {},
   "outputs": [
    {
     "name": "stdout",
     "output_type": "stream",
     "text": [
      "Triangle\n"
     ]
    }
   ],
   "source": [
    "# Q 3:\n",
    "\n",
    "# --- your solution here --- #    \n",
    "def which_shape():\n",
    "  q3 = int(input(\"Enter a number: \"))\n",
    "  if q3 == 3:\n",
    "    return(\"Triangle\")\n",
    "  elif q3 == 4:\n",
    "    return(\"Rectangle\")\n",
    "  elif q3 == 5:\n",
    "    return(\"Pentagon\")\n",
    "  elif q3 == 6:\n",
    "    return(\"Hexagon\")\n",
    "  elif q3 >= 7:\n",
    "    return(\"Polygon\")\n",
    "  else:\n",
    "    return(\"Enter a number above 3\")\n",
    "\n",
    "# call the function you defined\n",
    "shape = which_shape()\n",
    "print(shape)"
   ]
  },
  {
   "cell_type": "markdown",
   "id": "close-triumph",
   "metadata": {},
   "source": [
    "---"
   ]
  },
  {
   "cell_type": "markdown",
   "id": "built-proposition",
   "metadata": {},
   "source": [
    "**Q 4:**\n",
    "\n",
    "Define a function to print the number of days in the given month.\n",
    "\n",
    "Function name will be **number_of_days_in_month**.\n",
    "\n",
    "It will ask month name from the user.\n",
    "\n",
    "Number of Days in Gregorian Calendar:\n",
    "* January - 31\n",
    "* February - 28 or 29\n",
    "* March - 31\n",
    "* April - 30\n",
    "* May - 31\n",
    "* June - 30\n",
    "* July - 31\n",
    "* August - 31\n",
    "* September - 30\n",
    "* October - 31\n",
    "* November - 30\n",
    "* December - 31\n",
    "\n",
    "<pre>\n",
    "Expected Output:\n",
    "Please enter the month name:  October\n",
    "'There are 31 days in October'\n",
    "</pre>"
   ]
  },
  {
   "cell_type": "code",
   "execution_count": null,
   "id": "intimate-antigua",
   "metadata": {},
   "outputs": [],
   "source": [
    "# Q 4:\n",
    "\n",
    "# --- your solution here --- #   \n",
    "month = str(input(\"Please enter the month name: \")) \n",
    "def number_of_days_in_month(month):\n",
    "\n",
    "    if month in ['September', 'April', 'June', 'November']:\n",
    "        print(\"30\")\n",
    "\n",
    "    elif month in ['January', 'March', 'May', 'July', 'August','October','December']:\n",
    "        print(\"31\")\n",
    "\n",
    "    elif month == 'February':\n",
    "        print(\"28 or 29\")\n",
    "        \n",
    "\n",
    "# call the function you defined\n",
    "number_of_days_in_month(month)"
   ]
  },
  {
   "cell_type": "markdown",
   "id": "sonic-right",
   "metadata": {},
   "source": [
    "---"
   ]
  },
  {
   "cell_type": "markdown",
   "id": "southwest-australia",
   "metadata": {},
   "source": [
    "**Q 5:**\n",
    "\n",
    "Define a function to ask the length of sides of a triangle.\n",
    "\n",
    "Function name is **name_the_triangle**.\n",
    "\n",
    "The function will decide the type of triangle, according to the length of the sides.\n",
    "\n",
    "And will return its name.\n",
    "\n",
    "Types of Triangles:\n",
    "* Equilateral: three equal sides\n",
    "* Isosceles: two equal sides\n",
    "* Scalene: no equal sides"
   ]
  },
  {
   "cell_type": "code",
   "execution_count": 9,
   "id": "korean-condition",
   "metadata": {},
   "outputs": [
    {
     "name": "stdout",
     "output_type": "stream",
     "text": [
      "Equilateral\n"
     ]
    }
   ],
   "source": [
    "# Q 5:\n",
    "\n",
    "# --- your solution here --- #  \n",
    "a = int(input(\"Enter a length of side 1 : \"))\n",
    "b = int(input(\"Enter a length of side 2 : \"))\n",
    "c = int(input(\"Enter a length of side 3 : \"))\n",
    "\n",
    "def name_the_triangle(a,b,c):\n",
    "  if a == b == c:\n",
    "    return \"Equilateral\"\n",
    "  elif a == b or a == c or b == c:\n",
    "    return \"Isosceles\"\n",
    "  elif a != b or a != c or b != c:\n",
    "    return \"Scalene\"\n",
    "\n",
    "# call the function you defined\n",
    "print(name_the_triangle(a,b,c))"
   ]
  },
  {
   "cell_type": "markdown",
   "id": "german-vinyl",
   "metadata": {},
   "source": [
    "---"
   ]
  },
  {
   "cell_type": "markdown",
   "id": "separated-hunger",
   "metadata": {},
   "source": [
    "**Q 6:**\n",
    "\n",
    "Define a function that decides what to wear, according to the month and number of the day.\n",
    "\n",
    "Function name will be **what_to_wear** and it will ask for the name of the month and day number.\n",
    "\n",
    "According to month and day number, it will check for the season and with season, it will return what to wear.\n",
    "\n",
    "There are 4 months which are in between the seasons; March, June, September and December. For these months, the first 15 days will be in the previous season. For example for March, it will be Winter until 15th. And it will be Spring after the 15th. \n",
    "\n",
    "<pre>\n",
    "Seasons and Garments \n",
    "Spring: Shirt\n",
    "Summer: T-shirt\n",
    "Autumn: Sweater\n",
    "Winter: Coat\n",
    "\n",
    "Expected Output:\n",
    "Enter month name:  March\n",
    "Enter day number:  24\n",
    "In March, day 24 we wear Shirt\n",
    "</pre>"
   ]
  },
  {
   "cell_type": "code",
   "execution_count": 10,
   "id": "split-resistance",
   "metadata": {},
   "outputs": [
    {
     "ename": "SyntaxError",
     "evalue": "invalid syntax (3989103075.py, line 7)",
     "output_type": "error",
     "traceback": [
      "\u001b[0;36m  Input \u001b[0;32mIn [10]\u001b[0;36m\u001b[0m\n\u001b[0;31m    if month ==\u001b[0m\n\u001b[0m                ^\u001b[0m\n\u001b[0;31mSyntaxError\u001b[0m\u001b[0;31m:\u001b[0m invalid syntax\n"
     ]
    }
   ],
   "source": [
    "# Q 6:\n",
    "\n",
    "# --- your solution here --- #     \n",
    "\n",
    "# call the function you defined\n",
    "what_to_wear()"
   ]
  },
  {
   "cell_type": "markdown",
   "id": "electric-suicide",
   "metadata": {},
   "source": [
    "---"
   ]
  },
  {
   "cell_type": "markdown",
   "id": "wrapped-fitting",
   "metadata": {},
   "source": [
    "**Q 7:**\n",
    "\n",
    "Define a function named **which_day**.\n",
    "\n",
    "It will ask for any of the capital letters: F, M, S, T, W\n",
    "\n",
    "These are the first letters of the day names in a week.\n",
    "\n",
    "The function will decide which day by the first letter.\n",
    "\n",
    "It may ask additional questions if needed?\n",
    "\n",
    "Days:\n",
    "* Monday, Tuesday, Wednesday, Thursday, Friday, Saturday, Sunday\n",
    "\n",
    "Additional questions by letter:\n",
    "* S: \n",
    "    * \"first day of weekend\" or \n",
    "    * \"last day of weekend\"\n",
    "* T: \n",
    "    * \"at the beginning of the week\" or \n",
    "    * \"at the middle of the week\"\n",
    "    \n",
    "<pre>\n",
    "Expected Output:\n",
    "Please enter any of the capital letters: F, M, S, T, W :  T\n",
    "Is it at the beginning of the week? Yes - No? No\n",
    "Your day: THURSDAY\n",
    "</pre>"
   ]
  },
  {
   "cell_type": "code",
   "execution_count": null,
   "id": "blind-teaching",
   "metadata": {},
   "outputs": [],
   "source": [
    "# Q 7:\n",
    "\n",
    "# --- your solution here --- #    \n",
    "DAYS={\n",
    "    \"M\":\"MONDAY\",\"Tu\":\"TUESDAY\",\n",
    "    \"W\":\"WEDNESDAY\",\"Th\":\"THURSDAY\",\n",
    "    \"F\":\"FRIDAY\",\"Sa\":\"SATURDAY\",\n",
    "    \"Su\":\"SUNDAY\"\n",
    "}\n",
    "\n",
    "def which_day():\n",
    "  text = input(\"Please enter any of the capital letters : F,M,S,T,W :\")\n",
    "  if text == \"T\":\n",
    "    print(\"is it at the beginning of the week?\")\n",
    "    ans = input(\"yes - no?\")\n",
    "    if ans==\"no\":\n",
    "      print(\"Your day : \"+DAYS[\"Th\"])\n",
    "    else:\n",
    "      print(\"Your day : \"+DAYS[\"Tu\"])\n",
    "  elif text == \"S\":\n",
    "    print(\"last day of weekend?\")\n",
    "    ans = input(\"yes - no?\")\n",
    "    if ans==\"no\":\n",
    "      print(\"Your day : \"+DAYS[\"Sa\"])\n",
    "    else:\n",
    "      print(\"Your day : \"+DAYS[\"Su\"])\n",
    "  else:\n",
    "    print(\"Your day : \"+DAYS[text])\n",
    "\n",
    "# call the function you defined\n",
    "which_day()"
   ]
  },
  {
   "cell_type": "markdown",
   "id": "general-survey",
   "metadata": {},
   "source": [
    "---"
   ]
  },
  {
   "cell_type": "markdown",
   "id": "dietary-roberts",
   "metadata": {},
   "source": [
    "**Q 8:**\n",
    "\n",
    "Define a function named **odds_evens**.\n",
    "\n",
    "It will ask for a positive number from the user.\n",
    "\n",
    "Check if the input is an integer or not.\n",
    "\n",
    "Also check if the number is a positive number.\n",
    "\n",
    "Decide if the number is ODD or EVEN and print:\n",
    "* If the number is odd -> ODD\n",
    "* If the number is event and between 1 and 10 (both included) -> EVEN of TEN\n",
    "* If the number is even and between 11 and 20 (both included) -> EVEN of TWENTY\n",
    "* If the number is even and greater than 20 -> EVEN\n",
    "\n",
    "<pre>\n",
    "Expected Output:\n",
    "Please enter a number:  18\n",
    "EVEN of TWENTY\n",
    "</pre>"
   ]
  },
  {
   "cell_type": "code",
   "execution_count": null,
   "id": "meaningful-southeast",
   "metadata": {},
   "outputs": [],
   "source": [
    "# Q 8:\n",
    "\n",
    "# --- your solution here --- #    \n",
    "\n",
    "\n",
    "# call the function you defined\n",
    "odds_evens()"
   ]
  },
  {
   "cell_type": "markdown",
   "id": "unlike-tablet",
   "metadata": {},
   "source": [
    "---"
   ]
  },
  {
   "cell_type": "markdown",
   "id": "relative-caution",
   "metadata": {},
   "source": [
    "**Q 9:**\n",
    "\n",
    "**Sum of Odds and Evens:** \n",
    "* If the sum of two numbers is Odd then only one of these is Odd.\n",
    "* It the sum of two numbers is Even then both are Odd or both are Even.\n",
    "\n",
    "Define a function named **sum_of_odds_and_evens**.\n",
    "\n",
    "It will ask for two integers from the user.\n",
    "\n",
    "Then it will decide if the sum is Odd or Even.\n",
    "\n",
    "**Important Note:** Do not calculate the actual summation as x + y.\n",
    "\n",
    "<pre>\n",
    "Expected Output:\n",
    "First Number:  8\n",
    "Second Number:  3\n",
    "Sum is ODD\n",
    "</pre>"
   ]
  },
  {
   "cell_type": "code",
   "execution_count": 11,
   "id": "controlling-curve",
   "metadata": {},
   "outputs": [
    {
     "name": "stdout",
     "output_type": "stream",
     "text": [
      "Sum is ODD\n"
     ]
    }
   ],
   "source": [
    "# Q 9:\n",
    "\n",
    "# --- your solution here --- #    \n",
    "a = int(input(\"First Number: \")) \n",
    "b = int(input(\"Second Number: \")) \n",
    "def sum_of_odds_and_evens(a,b):\n",
    "  if a%2 == 0 and b%2 == 0:\n",
    "    print(\"sum are Odd or both are Even\")\n",
    "  else:\n",
    "    print(\"Sum is ODD\")             \n",
    "# call the function you defined\n",
    "sum_of_odds_and_evens(a,b)"
   ]
  },
  {
   "cell_type": "markdown",
   "id": "intellectual-substance",
   "metadata": {},
   "source": [
    "---"
   ]
  },
  {
   "cell_type": "markdown",
   "id": "metropolitan-general",
   "metadata": {},
   "source": [
    "**Q 10:**\n",
    "\n",
    "Define a function named **count_down**.\n",
    "\n",
    "It will ask for two integers from the user.\n",
    "\n",
    "First it will decide which one of them is small and which one is large.\n",
    "\n",
    "Then it will print the numbers starting from the large one up to the small one (backwards).\n",
    "\n",
    "**Hints:** \n",
    "* Solve with Recursion.\n",
    "* There may be a second function as **print_down** for Recursion.\n"
   ]
  },
  {
   "cell_type": "code",
   "execution_count": null,
   "id": "according-presentation",
   "metadata": {},
   "outputs": [],
   "source": [
    "# Q 10:\n",
    "   \n",
    "# --- your solution here --- #    \n",
    "\n",
    "# call the function you defined\n",
    "count_down()"
   ]
  }
 ],
 "metadata": {
  "kernelspec": {
   "display_name": "Python 3",
   "language": "python",
   "name": "python3"
  },
  "language_info": {
   "codemirror_mode": {
    "name": "ipython",
    "version": 3
   },
   "file_extension": ".py",
   "mimetype": "text/x-python",
   "name": "python",
   "nbconvert_exporter": "python",
   "pygments_lexer": "ipython3",
   "version": "3.10.2"
  }
 },
 "nbformat": 4,
 "nbformat_minor": 5
}
