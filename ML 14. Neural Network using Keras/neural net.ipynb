{
 "cells": [
  {
   "cell_type": "markdown",
   "metadata": {},
   "source": [
    "# Coding Companion for Intuitive Deep Learning Part 1 (Annotated)"
   ]
  },
  {
   "cell_type": "markdown",
   "metadata": {},
   "source": [
    "In this notebook, we'll go through the code for the coding companion for Intuitive Deep Learning Part 1 ([Part 1a](https://medium.com/intuitive-deep-learning/intuitive-deep-learning-part-1a-introduction-to-neural-networks-d7b16ebf6b99), [Part 1b](https://medium.com/intuitive-deep-learning/intuitive-deep-learning-part-1b-introduction-to-neural-networks-8565d97ddd2d)) to create your very first neural network to predict whether the house price is below or above median value. We will go through the following in this notebook:\n",
    "\n",
    "- Exploring and Processing the Data\n",
    "- Building and Training our Neural Network\n",
    "- Visualizing Loss and Accuracy\n",
    "- Adding Regularization to our Neural Network\n",
    "\n",
    "The code is annotated throughout the notebook and you simply need to download the dataset [here](https://drive.google.com/file/d/1GfvKA0qznNVknghV4botnNxyH-KvODOC/view), put the dataset in the same folder as this notebook and run the code cells below. Note that the results you get might differ slightly from the blogpost as there is a degree of randomness in the way we split our dataset as well as the initialization of our neural network."
   ]
  },
  {
   "cell_type": "markdown",
   "metadata": {},
   "source": [
    "# Exploring and Processing the Data"
   ]
  },
  {
   "cell_type": "markdown",
   "metadata": {},
   "source": [
    "We first have to read in the CSV file that we've been given. We'll use a package called pandas for that:"
   ]
  },
  {
   "cell_type": "code",
   "execution_count": 28,
   "metadata": {},
   "outputs": [],
   "source": [
    "import pandas as pd"
   ]
  },
  {
   "cell_type": "code",
   "execution_count": 29,
   "metadata": {},
   "outputs": [],
   "source": [
    "df = pd.read_csv('housepricedata.csv')"
   ]
  },
  {
   "cell_type": "code",
   "execution_count": 30,
   "metadata": {},
   "outputs": [
    {
     "data": {
      "text/html": [
       "<div>\n",
       "<style scoped>\n",
       "    .dataframe tbody tr th:only-of-type {\n",
       "        vertical-align: middle;\n",
       "    }\n",
       "\n",
       "    .dataframe tbody tr th {\n",
       "        vertical-align: top;\n",
       "    }\n",
       "\n",
       "    .dataframe thead th {\n",
       "        text-align: right;\n",
       "    }\n",
       "</style>\n",
       "<table border=\"1\" class=\"dataframe\">\n",
       "  <thead>\n",
       "    <tr style=\"text-align: right;\">\n",
       "      <th></th>\n",
       "      <th>LotArea</th>\n",
       "      <th>OverallQual</th>\n",
       "      <th>OverallCond</th>\n",
       "      <th>TotalBsmtSF</th>\n",
       "      <th>FullBath</th>\n",
       "      <th>HalfBath</th>\n",
       "      <th>BedroomAbvGr</th>\n",
       "      <th>TotRmsAbvGrd</th>\n",
       "      <th>Fireplaces</th>\n",
       "      <th>GarageArea</th>\n",
       "      <th>AboveMedianPrice</th>\n",
       "    </tr>\n",
       "  </thead>\n",
       "  <tbody>\n",
       "    <tr>\n",
       "      <th>0</th>\n",
       "      <td>8450</td>\n",
       "      <td>7</td>\n",
       "      <td>5</td>\n",
       "      <td>856</td>\n",
       "      <td>2</td>\n",
       "      <td>1</td>\n",
       "      <td>3</td>\n",
       "      <td>8</td>\n",
       "      <td>0</td>\n",
       "      <td>548</td>\n",
       "      <td>1</td>\n",
       "    </tr>\n",
       "    <tr>\n",
       "      <th>1</th>\n",
       "      <td>9600</td>\n",
       "      <td>6</td>\n",
       "      <td>8</td>\n",
       "      <td>1262</td>\n",
       "      <td>2</td>\n",
       "      <td>0</td>\n",
       "      <td>3</td>\n",
       "      <td>6</td>\n",
       "      <td>1</td>\n",
       "      <td>460</td>\n",
       "      <td>1</td>\n",
       "    </tr>\n",
       "    <tr>\n",
       "      <th>2</th>\n",
       "      <td>11250</td>\n",
       "      <td>7</td>\n",
       "      <td>5</td>\n",
       "      <td>920</td>\n",
       "      <td>2</td>\n",
       "      <td>1</td>\n",
       "      <td>3</td>\n",
       "      <td>6</td>\n",
       "      <td>1</td>\n",
       "      <td>608</td>\n",
       "      <td>1</td>\n",
       "    </tr>\n",
       "    <tr>\n",
       "      <th>3</th>\n",
       "      <td>9550</td>\n",
       "      <td>7</td>\n",
       "      <td>5</td>\n",
       "      <td>756</td>\n",
       "      <td>1</td>\n",
       "      <td>0</td>\n",
       "      <td>3</td>\n",
       "      <td>7</td>\n",
       "      <td>1</td>\n",
       "      <td>642</td>\n",
       "      <td>0</td>\n",
       "    </tr>\n",
       "    <tr>\n",
       "      <th>4</th>\n",
       "      <td>14260</td>\n",
       "      <td>8</td>\n",
       "      <td>5</td>\n",
       "      <td>1145</td>\n",
       "      <td>2</td>\n",
       "      <td>1</td>\n",
       "      <td>4</td>\n",
       "      <td>9</td>\n",
       "      <td>1</td>\n",
       "      <td>836</td>\n",
       "      <td>1</td>\n",
       "    </tr>\n",
       "    <tr>\n",
       "      <th>...</th>\n",
       "      <td>...</td>\n",
       "      <td>...</td>\n",
       "      <td>...</td>\n",
       "      <td>...</td>\n",
       "      <td>...</td>\n",
       "      <td>...</td>\n",
       "      <td>...</td>\n",
       "      <td>...</td>\n",
       "      <td>...</td>\n",
       "      <td>...</td>\n",
       "      <td>...</td>\n",
       "    </tr>\n",
       "    <tr>\n",
       "      <th>1455</th>\n",
       "      <td>7917</td>\n",
       "      <td>6</td>\n",
       "      <td>5</td>\n",
       "      <td>953</td>\n",
       "      <td>2</td>\n",
       "      <td>1</td>\n",
       "      <td>3</td>\n",
       "      <td>7</td>\n",
       "      <td>1</td>\n",
       "      <td>460</td>\n",
       "      <td>1</td>\n",
       "    </tr>\n",
       "    <tr>\n",
       "      <th>1456</th>\n",
       "      <td>13175</td>\n",
       "      <td>6</td>\n",
       "      <td>6</td>\n",
       "      <td>1542</td>\n",
       "      <td>2</td>\n",
       "      <td>0</td>\n",
       "      <td>3</td>\n",
       "      <td>7</td>\n",
       "      <td>2</td>\n",
       "      <td>500</td>\n",
       "      <td>1</td>\n",
       "    </tr>\n",
       "    <tr>\n",
       "      <th>1457</th>\n",
       "      <td>9042</td>\n",
       "      <td>7</td>\n",
       "      <td>9</td>\n",
       "      <td>1152</td>\n",
       "      <td>2</td>\n",
       "      <td>0</td>\n",
       "      <td>4</td>\n",
       "      <td>9</td>\n",
       "      <td>2</td>\n",
       "      <td>252</td>\n",
       "      <td>1</td>\n",
       "    </tr>\n",
       "    <tr>\n",
       "      <th>1458</th>\n",
       "      <td>9717</td>\n",
       "      <td>5</td>\n",
       "      <td>6</td>\n",
       "      <td>1078</td>\n",
       "      <td>1</td>\n",
       "      <td>0</td>\n",
       "      <td>2</td>\n",
       "      <td>5</td>\n",
       "      <td>0</td>\n",
       "      <td>240</td>\n",
       "      <td>0</td>\n",
       "    </tr>\n",
       "    <tr>\n",
       "      <th>1459</th>\n",
       "      <td>9937</td>\n",
       "      <td>5</td>\n",
       "      <td>6</td>\n",
       "      <td>1256</td>\n",
       "      <td>1</td>\n",
       "      <td>1</td>\n",
       "      <td>3</td>\n",
       "      <td>6</td>\n",
       "      <td>0</td>\n",
       "      <td>276</td>\n",
       "      <td>0</td>\n",
       "    </tr>\n",
       "  </tbody>\n",
       "</table>\n",
       "<p>1460 rows × 11 columns</p>\n",
       "</div>"
      ],
      "text/plain": [
       "      LotArea  OverallQual  OverallCond  TotalBsmtSF  FullBath  HalfBath  \\\n",
       "0        8450            7            5          856         2         1   \n",
       "1        9600            6            8         1262         2         0   \n",
       "2       11250            7            5          920         2         1   \n",
       "3        9550            7            5          756         1         0   \n",
       "4       14260            8            5         1145         2         1   \n",
       "...       ...          ...          ...          ...       ...       ...   \n",
       "1455     7917            6            5          953         2         1   \n",
       "1456    13175            6            6         1542         2         0   \n",
       "1457     9042            7            9         1152         2         0   \n",
       "1458     9717            5            6         1078         1         0   \n",
       "1459     9937            5            6         1256         1         1   \n",
       "\n",
       "      BedroomAbvGr  TotRmsAbvGrd  Fireplaces  GarageArea  AboveMedianPrice  \n",
       "0                3             8           0         548                 1  \n",
       "1                3             6           1         460                 1  \n",
       "2                3             6           1         608                 1  \n",
       "3                3             7           1         642                 0  \n",
       "4                4             9           1         836                 1  \n",
       "...            ...           ...         ...         ...               ...  \n",
       "1455             3             7           1         460                 1  \n",
       "1456             3             7           2         500                 1  \n",
       "1457             4             9           2         252                 1  \n",
       "1458             2             5           0         240                 0  \n",
       "1459             3             6           0         276                 0  \n",
       "\n",
       "[1460 rows x 11 columns]"
      ]
     },
     "execution_count": 30,
     "metadata": {},
     "output_type": "execute_result"
    }
   ],
   "source": [
    "df"
   ]
  },
  {
   "cell_type": "markdown",
   "metadata": {},
   "source": [
    "The dataset that we have now is in what we call a pandas dataframe. To convert it to an array, simply access its values:"
   ]
  },
  {
   "cell_type": "code",
   "execution_count": 31,
   "metadata": {},
   "outputs": [],
   "source": [
    "dataset = df.values"
   ]
  },
  {
   "cell_type": "code",
   "execution_count": 32,
   "metadata": {},
   "outputs": [
    {
     "data": {
      "text/plain": [
       "array([[ 8450,     7,     5, ...,     0,   548,     1],\n",
       "       [ 9600,     6,     8, ...,     1,   460,     1],\n",
       "       [11250,     7,     5, ...,     1,   608,     1],\n",
       "       ...,\n",
       "       [ 9042,     7,     9, ...,     2,   252,     1],\n",
       "       [ 9717,     5,     6, ...,     0,   240,     0],\n",
       "       [ 9937,     5,     6, ...,     0,   276,     0]], dtype=int64)"
      ]
     },
     "execution_count": 32,
     "metadata": {},
     "output_type": "execute_result"
    }
   ],
   "source": [
    "dataset"
   ]
  },
  {
   "cell_type": "markdown",
   "metadata": {},
   "source": [
    "Now, we split the dataset into our input features and the label we wish to predict."
   ]
  },
  {
   "cell_type": "code",
   "execution_count": 33,
   "metadata": {},
   "outputs": [],
   "source": [
    "X = dataset[:,0:10]\n",
    "Y = dataset[:,10]"
   ]
  },
  {
   "cell_type": "markdown",
   "metadata": {},
   "source": [
    "Normalizing our data is very important, as we want the input features to be on the same order of magnitude to make our training easier. We'll use a min-max scaler from scikit-learn which scales our data to be between 0 and 1."
   ]
  },
  {
   "cell_type": "code",
   "execution_count": 34,
   "metadata": {},
   "outputs": [],
   "source": [
    "from sklearn import preprocessing"
   ]
  },
  {
   "cell_type": "code",
   "execution_count": 35,
   "metadata": {},
   "outputs": [],
   "source": [
    "min_max_scaler = preprocessing.MinMaxScaler()\n",
    "X_scale = min_max_scaler.fit_transform(X)"
   ]
  },
  {
   "cell_type": "code",
   "execution_count": 36,
   "metadata": {},
   "outputs": [
    {
     "data": {
      "text/plain": [
       "array([[0.0334198 , 0.66666667, 0.5       , ..., 0.5       , 0.        ,\n",
       "        0.3864598 ],\n",
       "       [0.03879502, 0.55555556, 0.875     , ..., 0.33333333, 0.33333333,\n",
       "        0.32440056],\n",
       "       [0.04650728, 0.66666667, 0.5       , ..., 0.33333333, 0.33333333,\n",
       "        0.42877292],\n",
       "       ...,\n",
       "       [0.03618687, 0.66666667, 1.        , ..., 0.58333333, 0.66666667,\n",
       "        0.17771509],\n",
       "       [0.03934189, 0.44444444, 0.625     , ..., 0.25      , 0.        ,\n",
       "        0.16925247],\n",
       "       [0.04037019, 0.44444444, 0.625     , ..., 0.33333333, 0.        ,\n",
       "        0.19464034]])"
      ]
     },
     "execution_count": 36,
     "metadata": {},
     "output_type": "execute_result"
    }
   ],
   "source": [
    "X_scale"
   ]
  },
  {
   "cell_type": "markdown",
   "metadata": {},
   "source": [
    "Lastly, we wish to set aside some parts of our dataset for a validation set and a test set. We use the function train_test_split from scikit-learn to do that."
   ]
  },
  {
   "cell_type": "code",
   "execution_count": 37,
   "metadata": {},
   "outputs": [
    {
     "name": "stdout",
     "output_type": "stream",
     "text": [
      "(1022, 10) (219, 10) (219, 10) (1022,) (219,) (219,)\n"
     ]
    }
   ],
   "source": [
    "from sklearn.model_selection import train_test_split\n",
    "X_train, X_val_and_test, Y_train, Y_val_and_test = train_test_split(X_scale, Y, test_size=0.3)\n",
    "X_val, X_test, Y_val, Y_test = train_test_split(X_val_and_test, Y_val_and_test, test_size=0.5)\n",
    "print(X_train.shape, X_val.shape, X_test.shape, Y_train.shape, Y_val.shape, Y_test.shape)"
   ]
  },
  {
   "cell_type": "markdown",
   "metadata": {},
   "source": [
    "# Building and Training Our First Neural Network"
   ]
  },
  {
   "cell_type": "markdown",
   "metadata": {},
   "source": [
    "We will be using Keras to build our architecture. Let's import the code from Keras that we will need to use:"
   ]
  },
  {
   "cell_type": "code",
   "execution_count": 38,
   "metadata": {},
   "outputs": [],
   "source": [
    "from keras.models import Sequential\n",
    "from keras.layers import Dense"
   ]
  },
  {
   "cell_type": "markdown",
   "metadata": {},
   "source": [
    "We will be using the Sequential model, which means that we merely need to describe the layers above in sequence. Our neural network has three layers:\n",
    "\n",
    "- Hidden layer 1: 32 neurons, ReLU activation\n",
    "- Hidden layer 2: 32 neurons, ReLU activation\n",
    "- Output Layer: 1 neuron, Sigmoid activation"
   ]
  },
  {
   "cell_type": "code",
   "execution_count": 39,
   "metadata": {},
   "outputs": [],
   "source": [
    "model = Sequential([\n",
    "    Dense(32, activation='relu', input_shape=(10,)),\n",
    "    Dense(32, activation='relu'),\n",
    "    Dense(1, activation='sigmoid'),\n",
    "])"
   ]
  },
  {
   "cell_type": "markdown",
   "metadata": {},
   "source": [
    "Now that we've got our architecture specified, we need to find the best numbers for it. Before we start our training, we have to configure the model by\n",
    "- Telling it what algorithm you want to use to do the optimization (we'll use stochastic gradient descent)\n",
    "- Telling it what loss function to use (for binary classification, we will use binary cross entropy)\n",
    "- Telling it what other metrics you want to track apart from the loss function (we want to track accuracy as well)\n",
    "\n",
    "We do so below:"
   ]
  },
  {
   "cell_type": "code",
   "execution_count": 40,
   "metadata": {},
   "outputs": [],
   "source": [
    "model.compile(optimizer='sgd',\n",
    "              loss='binary_crossentropy',\n",
    "              metrics=['accuracy'])"
   ]
  },
  {
   "cell_type": "code",
   "execution_count": 41,
   "metadata": {},
   "outputs": [
    {
     "name": "stdout",
     "output_type": "stream",
     "text": [
      "Model: \"sequential_1\"\n",
      "_________________________________________________________________\n",
      " Layer (type)                Output Shape              Param #   \n",
      "=================================================================\n",
      " dense_3 (Dense)             (None, 32)                352       \n",
      "                                                                 \n",
      " dense_4 (Dense)             (None, 32)                1056      \n",
      "                                                                 \n",
      " dense_5 (Dense)             (None, 1)                 33        \n",
      "                                                                 \n",
      "=================================================================\n",
      "Total params: 1,441\n",
      "Trainable params: 1,441\n",
      "Non-trainable params: 0\n",
      "_________________________________________________________________\n"
     ]
    }
   ],
   "source": [
    "model.summary()"
   ]
  },
  {
   "cell_type": "markdown",
   "metadata": {},
   "source": [
    "Training on the data is pretty straightforward and requires us to write one line of code. The function is called 'fit' as we are fitting the parameters to the data. We specify:\n",
    "- what data we are training on, which is X_train and Y_train\n",
    "- the size of our mini-batch \n",
    "- how long we want to train it for (epochs)\n",
    "- what our validation data is so that the model will tell us how we are doing on the validation data at each point.\n",
    "\n",
    "This function will output a history, which we save under the variable hist. We'll use this variable a little later."
   ]
  },
  {
   "cell_type": "code",
   "execution_count": 42,
   "metadata": {},
   "outputs": [
    {
     "name": "stdout",
     "output_type": "stream",
     "text": [
      "Epoch 1/100\n",
      "32/32 [==============================] - 1s 7ms/step - loss: 0.6996 - accuracy: 0.4980 - val_loss: 0.6860 - val_accuracy: 0.5205\n",
      "Epoch 2/100\n",
      "32/32 [==============================] - 0s 2ms/step - loss: 0.6874 - accuracy: 0.5137 - val_loss: 0.6759 - val_accuracy: 0.6347\n",
      "Epoch 3/100\n",
      "32/32 [==============================] - 0s 3ms/step - loss: 0.6765 - accuracy: 0.6507 - val_loss: 0.6668 - val_accuracy: 0.7352\n",
      "Epoch 4/100\n",
      "32/32 [==============================] - 0s 2ms/step - loss: 0.6671 - accuracy: 0.7593 - val_loss: 0.6588 - val_accuracy: 0.8037\n",
      "Epoch 5/100\n",
      "32/32 [==============================] - 0s 3ms/step - loss: 0.6587 - accuracy: 0.8063 - val_loss: 0.6515 - val_accuracy: 0.8219\n",
      "Epoch 6/100\n",
      "32/32 [==============================] - 0s 2ms/step - loss: 0.6509 - accuracy: 0.8112 - val_loss: 0.6447 - val_accuracy: 0.8402\n",
      "Epoch 7/100\n",
      "32/32 [==============================] - 0s 3ms/step - loss: 0.6435 - accuracy: 0.8337 - val_loss: 0.6380 - val_accuracy: 0.8630\n",
      "Epoch 8/100\n",
      "32/32 [==============================] - 0s 3ms/step - loss: 0.6364 - accuracy: 0.8425 - val_loss: 0.6315 - val_accuracy: 0.8584\n",
      "Epoch 9/100\n",
      "32/32 [==============================] - 0s 3ms/step - loss: 0.6295 - accuracy: 0.8483 - val_loss: 0.6249 - val_accuracy: 0.8584\n",
      "Epoch 10/100\n",
      "32/32 [==============================] - 0s 3ms/step - loss: 0.6225 - accuracy: 0.8493 - val_loss: 0.6182 - val_accuracy: 0.8356\n",
      "Epoch 11/100\n",
      "32/32 [==============================] - 0s 3ms/step - loss: 0.6154 - accuracy: 0.8513 - val_loss: 0.6112 - val_accuracy: 0.8493\n",
      "Epoch 12/100\n",
      "32/32 [==============================] - 0s 3ms/step - loss: 0.6081 - accuracy: 0.8425 - val_loss: 0.6037 - val_accuracy: 0.8539\n",
      "Epoch 13/100\n",
      "32/32 [==============================] - 0s 3ms/step - loss: 0.6006 - accuracy: 0.8571 - val_loss: 0.5963 - val_accuracy: 0.8493\n",
      "Epoch 14/100\n",
      "32/32 [==============================] - 0s 3ms/step - loss: 0.5926 - accuracy: 0.8640 - val_loss: 0.5889 - val_accuracy: 0.8539\n",
      "Epoch 15/100\n",
      "32/32 [==============================] - 0s 3ms/step - loss: 0.5849 - accuracy: 0.8552 - val_loss: 0.5808 - val_accuracy: 0.8539\n",
      "Epoch 16/100\n",
      "32/32 [==============================] - 0s 4ms/step - loss: 0.5764 - accuracy: 0.8562 - val_loss: 0.5725 - val_accuracy: 0.8539\n",
      "Epoch 17/100\n",
      "32/32 [==============================] - 0s 3ms/step - loss: 0.5678 - accuracy: 0.8591 - val_loss: 0.5640 - val_accuracy: 0.8447\n",
      "Epoch 18/100\n",
      "32/32 [==============================] - 0s 5ms/step - loss: 0.5590 - accuracy: 0.8601 - val_loss: 0.5552 - val_accuracy: 0.8402\n",
      "Epoch 19/100\n",
      "32/32 [==============================] - 0s 4ms/step - loss: 0.5500 - accuracy: 0.8630 - val_loss: 0.5465 - val_accuracy: 0.8447\n",
      "Epoch 20/100\n",
      "32/32 [==============================] - 0s 3ms/step - loss: 0.5410 - accuracy: 0.8669 - val_loss: 0.5376 - val_accuracy: 0.8402\n",
      "Epoch 21/100\n",
      "32/32 [==============================] - 0s 3ms/step - loss: 0.5316 - accuracy: 0.8689 - val_loss: 0.5280 - val_accuracy: 0.8493\n",
      "Epoch 22/100\n",
      "32/32 [==============================] - 0s 3ms/step - loss: 0.5218 - accuracy: 0.8669 - val_loss: 0.5185 - val_accuracy: 0.8493\n",
      "Epoch 23/100\n",
      "32/32 [==============================] - 0s 3ms/step - loss: 0.5119 - accuracy: 0.8728 - val_loss: 0.5088 - val_accuracy: 0.8539\n",
      "Epoch 24/100\n",
      "32/32 [==============================] - 0s 3ms/step - loss: 0.5020 - accuracy: 0.8718 - val_loss: 0.4995 - val_accuracy: 0.8493\n",
      "Epoch 25/100\n",
      "32/32 [==============================] - 0s 3ms/step - loss: 0.4923 - accuracy: 0.8699 - val_loss: 0.4899 - val_accuracy: 0.8539\n",
      "Epoch 26/100\n",
      "32/32 [==============================] - 0s 3ms/step - loss: 0.4825 - accuracy: 0.8728 - val_loss: 0.4810 - val_accuracy: 0.8493\n",
      "Epoch 27/100\n",
      "32/32 [==============================] - 0s 3ms/step - loss: 0.4732 - accuracy: 0.8728 - val_loss: 0.4715 - val_accuracy: 0.8493\n",
      "Epoch 28/100\n",
      "32/32 [==============================] - 0s 4ms/step - loss: 0.4638 - accuracy: 0.8738 - val_loss: 0.4626 - val_accuracy: 0.8493\n",
      "Epoch 29/100\n",
      "32/32 [==============================] - 0s 3ms/step - loss: 0.4546 - accuracy: 0.8728 - val_loss: 0.4536 - val_accuracy: 0.8493\n",
      "Epoch 30/100\n",
      "32/32 [==============================] - 0s 2ms/step - loss: 0.4454 - accuracy: 0.8748 - val_loss: 0.4449 - val_accuracy: 0.8493\n",
      "Epoch 31/100\n",
      "32/32 [==============================] - 0s 2ms/step - loss: 0.4367 - accuracy: 0.8757 - val_loss: 0.4367 - val_accuracy: 0.8493\n",
      "Epoch 32/100\n",
      "32/32 [==============================] - 0s 3ms/step - loss: 0.4279 - accuracy: 0.8787 - val_loss: 0.4288 - val_accuracy: 0.8539\n",
      "Epoch 33/100\n",
      "32/32 [==============================] - 0s 3ms/step - loss: 0.4199 - accuracy: 0.8767 - val_loss: 0.4211 - val_accuracy: 0.8539\n",
      "Epoch 34/100\n",
      "32/32 [==============================] - 0s 3ms/step - loss: 0.4123 - accuracy: 0.8787 - val_loss: 0.4143 - val_accuracy: 0.8493\n",
      "Epoch 35/100\n",
      "32/32 [==============================] - 0s 2ms/step - loss: 0.4050 - accuracy: 0.8787 - val_loss: 0.4079 - val_accuracy: 0.8493\n",
      "Epoch 36/100\n",
      "32/32 [==============================] - 0s 3ms/step - loss: 0.3982 - accuracy: 0.8777 - val_loss: 0.4015 - val_accuracy: 0.8493\n",
      "Epoch 37/100\n",
      "32/32 [==============================] - 0s 2ms/step - loss: 0.3919 - accuracy: 0.8787 - val_loss: 0.3957 - val_accuracy: 0.8493\n",
      "Epoch 38/100\n",
      "32/32 [==============================] - 0s 2ms/step - loss: 0.3858 - accuracy: 0.8787 - val_loss: 0.3903 - val_accuracy: 0.8539\n",
      "Epoch 39/100\n",
      "32/32 [==============================] - 0s 3ms/step - loss: 0.3801 - accuracy: 0.8787 - val_loss: 0.3851 - val_accuracy: 0.8584\n",
      "Epoch 40/100\n",
      "32/32 [==============================] - 0s 2ms/step - loss: 0.3747 - accuracy: 0.8767 - val_loss: 0.3803 - val_accuracy: 0.8584\n",
      "Epoch 41/100\n",
      "32/32 [==============================] - 0s 2ms/step - loss: 0.3692 - accuracy: 0.8826 - val_loss: 0.3764 - val_accuracy: 0.8493\n",
      "Epoch 42/100\n",
      "32/32 [==============================] - 0s 2ms/step - loss: 0.3649 - accuracy: 0.8796 - val_loss: 0.3717 - val_accuracy: 0.8539\n",
      "Epoch 43/100\n",
      "32/32 [==============================] - 0s 2ms/step - loss: 0.3601 - accuracy: 0.8777 - val_loss: 0.3690 - val_accuracy: 0.8447\n",
      "Epoch 44/100\n",
      "32/32 [==============================] - 0s 2ms/step - loss: 0.3560 - accuracy: 0.8816 - val_loss: 0.3650 - val_accuracy: 0.8447\n",
      "Epoch 45/100\n",
      "32/32 [==============================] - 0s 3ms/step - loss: 0.3522 - accuracy: 0.8796 - val_loss: 0.3626 - val_accuracy: 0.8402\n",
      "Epoch 46/100\n",
      "32/32 [==============================] - 0s 3ms/step - loss: 0.3485 - accuracy: 0.8806 - val_loss: 0.3584 - val_accuracy: 0.8447\n",
      "Epoch 47/100\n",
      "32/32 [==============================] - 0s 3ms/step - loss: 0.3443 - accuracy: 0.8796 - val_loss: 0.3558 - val_accuracy: 0.8402\n",
      "Epoch 48/100\n",
      "32/32 [==============================] - 0s 3ms/step - loss: 0.3411 - accuracy: 0.8816 - val_loss: 0.3527 - val_accuracy: 0.8402\n",
      "Epoch 49/100\n",
      "32/32 [==============================] - 0s 3ms/step - loss: 0.3380 - accuracy: 0.8816 - val_loss: 0.3501 - val_accuracy: 0.8402\n",
      "Epoch 50/100\n",
      "32/32 [==============================] - 0s 3ms/step - loss: 0.3349 - accuracy: 0.8826 - val_loss: 0.3479 - val_accuracy: 0.8402\n",
      "Epoch 51/100\n",
      "32/32 [==============================] - 0s 3ms/step - loss: 0.3321 - accuracy: 0.8816 - val_loss: 0.3452 - val_accuracy: 0.8539\n",
      "Epoch 52/100\n",
      "32/32 [==============================] - 0s 3ms/step - loss: 0.3293 - accuracy: 0.8816 - val_loss: 0.3442 - val_accuracy: 0.8356\n",
      "Epoch 53/100\n",
      "32/32 [==============================] - 0s 3ms/step - loss: 0.3274 - accuracy: 0.8806 - val_loss: 0.3427 - val_accuracy: 0.8356\n",
      "Epoch 54/100\n",
      "32/32 [==============================] - 0s 2ms/step - loss: 0.3247 - accuracy: 0.8836 - val_loss: 0.3400 - val_accuracy: 0.8402\n",
      "Epoch 55/100\n",
      "32/32 [==============================] - 0s 3ms/step - loss: 0.3224 - accuracy: 0.8836 - val_loss: 0.3377 - val_accuracy: 0.8539\n",
      "Epoch 56/100\n",
      "32/32 [==============================] - 0s 2ms/step - loss: 0.3208 - accuracy: 0.8845 - val_loss: 0.3369 - val_accuracy: 0.8402\n",
      "Epoch 57/100\n",
      "32/32 [==============================] - 0s 3ms/step - loss: 0.3180 - accuracy: 0.8845 - val_loss: 0.3361 - val_accuracy: 0.8356\n",
      "Epoch 58/100\n",
      "32/32 [==============================] - 0s 3ms/step - loss: 0.3164 - accuracy: 0.8865 - val_loss: 0.3340 - val_accuracy: 0.8402\n",
      "Epoch 59/100\n",
      "32/32 [==============================] - 0s 3ms/step - loss: 0.3142 - accuracy: 0.8855 - val_loss: 0.3331 - val_accuracy: 0.8402\n",
      "Epoch 60/100\n",
      "32/32 [==============================] - 0s 3ms/step - loss: 0.3123 - accuracy: 0.8894 - val_loss: 0.3307 - val_accuracy: 0.8447\n",
      "Epoch 61/100\n",
      "32/32 [==============================] - 0s 2ms/step - loss: 0.3109 - accuracy: 0.8914 - val_loss: 0.3299 - val_accuracy: 0.8356\n",
      "Epoch 62/100\n",
      "32/32 [==============================] - 0s 2ms/step - loss: 0.3093 - accuracy: 0.8885 - val_loss: 0.3285 - val_accuracy: 0.8402\n",
      "Epoch 63/100\n",
      "32/32 [==============================] - 0s 3ms/step - loss: 0.3086 - accuracy: 0.8885 - val_loss: 0.3293 - val_accuracy: 0.8356\n",
      "Epoch 64/100\n",
      "32/32 [==============================] - 0s 3ms/step - loss: 0.3067 - accuracy: 0.8904 - val_loss: 0.3274 - val_accuracy: 0.8356\n",
      "Epoch 65/100\n",
      "32/32 [==============================] - 0s 3ms/step - loss: 0.3054 - accuracy: 0.8885 - val_loss: 0.3265 - val_accuracy: 0.8356\n",
      "Epoch 66/100\n",
      "32/32 [==============================] - 0s 3ms/step - loss: 0.3034 - accuracy: 0.8894 - val_loss: 0.3243 - val_accuracy: 0.8402\n",
      "Epoch 67/100\n",
      "32/32 [==============================] - 0s 3ms/step - loss: 0.3022 - accuracy: 0.8924 - val_loss: 0.3237 - val_accuracy: 0.8402\n",
      "Epoch 68/100\n",
      "32/32 [==============================] - 0s 3ms/step - loss: 0.3010 - accuracy: 0.8953 - val_loss: 0.3238 - val_accuracy: 0.8356\n",
      "Epoch 69/100\n",
      "32/32 [==============================] - 0s 3ms/step - loss: 0.2996 - accuracy: 0.8963 - val_loss: 0.3224 - val_accuracy: 0.8356\n",
      "Epoch 70/100\n",
      "32/32 [==============================] - 0s 3ms/step - loss: 0.2985 - accuracy: 0.8953 - val_loss: 0.3211 - val_accuracy: 0.8402\n",
      "Epoch 71/100\n",
      "32/32 [==============================] - 0s 2ms/step - loss: 0.2964 - accuracy: 0.8982 - val_loss: 0.3199 - val_accuracy: 0.8402\n",
      "Epoch 72/100\n",
      "32/32 [==============================] - 0s 2ms/step - loss: 0.2963 - accuracy: 0.8933 - val_loss: 0.3191 - val_accuracy: 0.8402\n",
      "Epoch 73/100\n",
      "32/32 [==============================] - 0s 3ms/step - loss: 0.2953 - accuracy: 0.8953 - val_loss: 0.3185 - val_accuracy: 0.8402\n",
      "Epoch 74/100\n",
      "32/32 [==============================] - 0s 3ms/step - loss: 0.2943 - accuracy: 0.8953 - val_loss: 0.3193 - val_accuracy: 0.8356\n",
      "Epoch 75/100\n",
      "32/32 [==============================] - 0s 2ms/step - loss: 0.2933 - accuracy: 0.8963 - val_loss: 0.3180 - val_accuracy: 0.8356\n",
      "Epoch 76/100\n",
      "32/32 [==============================] - 0s 3ms/step - loss: 0.2923 - accuracy: 0.8982 - val_loss: 0.3173 - val_accuracy: 0.8356\n",
      "Epoch 77/100\n",
      "32/32 [==============================] - 0s 3ms/step - loss: 0.2912 - accuracy: 0.8992 - val_loss: 0.3157 - val_accuracy: 0.8356\n",
      "Epoch 78/100\n",
      "32/32 [==============================] - 0s 3ms/step - loss: 0.2903 - accuracy: 0.8992 - val_loss: 0.3150 - val_accuracy: 0.8402\n",
      "Epoch 79/100\n",
      "32/32 [==============================] - 0s 3ms/step - loss: 0.2891 - accuracy: 0.8992 - val_loss: 0.3142 - val_accuracy: 0.8402\n",
      "Epoch 80/100\n",
      "32/32 [==============================] - 0s 3ms/step - loss: 0.2888 - accuracy: 0.8992 - val_loss: 0.3141 - val_accuracy: 0.8356\n",
      "Epoch 81/100\n",
      "32/32 [==============================] - 0s 3ms/step - loss: 0.2876 - accuracy: 0.8992 - val_loss: 0.3129 - val_accuracy: 0.8356\n",
      "Epoch 82/100\n",
      "32/32 [==============================] - 0s 3ms/step - loss: 0.2866 - accuracy: 0.9022 - val_loss: 0.3125 - val_accuracy: 0.8356\n",
      "Epoch 83/100\n",
      "32/32 [==============================] - 0s 3ms/step - loss: 0.2857 - accuracy: 0.9012 - val_loss: 0.3146 - val_accuracy: 0.8447\n",
      "Epoch 84/100\n",
      "32/32 [==============================] - 0s 2ms/step - loss: 0.2850 - accuracy: 0.8982 - val_loss: 0.3123 - val_accuracy: 0.8402\n",
      "Epoch 85/100\n",
      "32/32 [==============================] - 0s 2ms/step - loss: 0.2842 - accuracy: 0.9012 - val_loss: 0.3126 - val_accuracy: 0.8402\n",
      "Epoch 86/100\n",
      "32/32 [==============================] - 0s 3ms/step - loss: 0.2839 - accuracy: 0.9002 - val_loss: 0.3103 - val_accuracy: 0.8402\n",
      "Epoch 87/100\n",
      "32/32 [==============================] - 0s 3ms/step - loss: 0.2831 - accuracy: 0.9041 - val_loss: 0.3100 - val_accuracy: 0.8402\n",
      "Epoch 88/100\n",
      "32/32 [==============================] - 0s 3ms/step - loss: 0.2822 - accuracy: 0.9041 - val_loss: 0.3089 - val_accuracy: 0.8356\n",
      "Epoch 89/100\n",
      "32/32 [==============================] - 0s 3ms/step - loss: 0.2809 - accuracy: 0.9022 - val_loss: 0.3103 - val_accuracy: 0.8447\n",
      "Epoch 90/100\n",
      "32/32 [==============================] - 0s 3ms/step - loss: 0.2813 - accuracy: 0.9031 - val_loss: 0.3086 - val_accuracy: 0.8402\n",
      "Epoch 91/100\n",
      "32/32 [==============================] - 0s 3ms/step - loss: 0.2802 - accuracy: 0.8992 - val_loss: 0.3080 - val_accuracy: 0.8402\n",
      "Epoch 92/100\n",
      "32/32 [==============================] - 0s 3ms/step - loss: 0.2795 - accuracy: 0.9012 - val_loss: 0.3085 - val_accuracy: 0.8447\n",
      "Epoch 93/100\n",
      "32/32 [==============================] - 0s 3ms/step - loss: 0.2785 - accuracy: 0.9012 - val_loss: 0.3056 - val_accuracy: 0.8493\n",
      "Epoch 94/100\n",
      "32/32 [==============================] - 0s 3ms/step - loss: 0.2782 - accuracy: 0.9061 - val_loss: 0.3051 - val_accuracy: 0.8493\n",
      "Epoch 95/100\n",
      "32/32 [==============================] - 0s 3ms/step - loss: 0.2770 - accuracy: 0.8982 - val_loss: 0.3066 - val_accuracy: 0.8402\n",
      "Epoch 96/100\n",
      "32/32 [==============================] - 0s 3ms/step - loss: 0.2771 - accuracy: 0.9012 - val_loss: 0.3057 - val_accuracy: 0.8447\n",
      "Epoch 97/100\n",
      "32/32 [==============================] - 0s 3ms/step - loss: 0.2760 - accuracy: 0.8982 - val_loss: 0.3068 - val_accuracy: 0.8447\n",
      "Epoch 98/100\n",
      "32/32 [==============================] - 0s 3ms/step - loss: 0.2758 - accuracy: 0.9002 - val_loss: 0.3034 - val_accuracy: 0.8402\n",
      "Epoch 99/100\n",
      "32/32 [==============================] - 0s 3ms/step - loss: 0.2754 - accuracy: 0.9022 - val_loss: 0.3042 - val_accuracy: 0.8402\n",
      "Epoch 100/100\n",
      "32/32 [==============================] - 0s 3ms/step - loss: 0.2741 - accuracy: 0.9012 - val_loss: 0.3021 - val_accuracy: 0.8493\n"
     ]
    }
   ],
   "source": [
    "hist = model.fit(X_train, Y_train,\n",
    "          batch_size=32, epochs=100,\n",
    "          validation_data=(X_val, Y_val))"
   ]
  },
  {
   "cell_type": "markdown",
   "metadata": {},
   "source": [
    "Evaluating our data on the test set:"
   ]
  },
  {
   "cell_type": "code",
   "execution_count": 43,
   "metadata": {},
   "outputs": [
    {
     "name": "stdout",
     "output_type": "stream",
     "text": [
      "7/7 [==============================] - 0s 1ms/step - loss: 0.2711 - accuracy: 0.8767\n"
     ]
    },
    {
     "data": {
      "text/plain": [
       "0.8767123222351074"
      ]
     },
     "execution_count": 43,
     "metadata": {},
     "output_type": "execute_result"
    }
   ],
   "source": [
    "model.evaluate(X_test, Y_test)[1]"
   ]
  },
  {
   "cell_type": "markdown",
   "metadata": {},
   "source": [
    "# Visualizing Loss and Accuracy"
   ]
  },
  {
   "cell_type": "markdown",
   "metadata": {},
   "source": [
    "Import the relevant package we need to do the visualization"
   ]
  },
  {
   "cell_type": "code",
   "execution_count": 44,
   "metadata": {},
   "outputs": [],
   "source": [
    "import matplotlib.pyplot as plt"
   ]
  },
  {
   "cell_type": "markdown",
   "metadata": {},
   "source": [
    "We want to visualize the training loss and the validation loss like this:"
   ]
  },
  {
   "cell_type": "code",
   "execution_count": 45,
   "metadata": {},
   "outputs": [
    {
     "data": {
      "image/png": "[encoded data removed]",
      "text/plain": [
       "<Figure size 432x288 with 1 Axes>"
      ]
     },
     "metadata": {
      "needs_background": "light"
     },
     "output_type": "display_data"
    }
   ],
   "source": [
    "plt.plot(hist.history['loss'])\n",
    "plt.plot(hist.history['val_loss'])\n",
    "plt.title('Model loss')\n",
    "plt.ylabel('Loss')\n",
    "plt.xlabel('Epoch')\n",
    "plt.legend(['Train', 'Val'], loc='upper right')\n",
    "plt.show()"
   ]
  },
  {
   "cell_type": "markdown",
   "metadata": {},
   "source": [
    "We can also visualize the training accuracy and the validation accuracy like this:"
   ]
  },
  {
   "cell_type": "code",
   "execution_count": 48,
   "metadata": {},
   "outputs": [
    {
     "data": {
      "image/png": "[encoded data removed]",
      "text/plain": [
       "<Figure size 432x288 with 1 Axes>"
      ]
     },
     "metadata": {
      "needs_background": "light"
     },
     "output_type": "display_data"
    }
   ],
   "source": [
    "plt.plot(hist.history['accuracy'])\n",
    "plt.plot(hist.history['val_accuracy'])\n",
    "plt.title('Model accuracy')\n",
    "plt.ylabel('Accuracy')\n",
    "plt.xlabel('Epoch')\n",
    "plt.legend(['Train', 'Val'], loc='lower right')\n",
    "plt.show()"
   ]
  },
  {
   "cell_type": "markdown",
   "metadata": {},
   "source": [
    "# Adding Regularization to our Neural Network"
   ]
  },
  {
   "cell_type": "markdown",
   "metadata": {},
   "source": [
    "We'll train a model which will overfit, which we call Model 2. This might take a few minutes."
   ]
  },
  {
   "cell_type": "code",
   "execution_count": 49,
   "metadata": {},
   "outputs": [
    {
     "name": "stdout",
     "output_type": "stream",
     "text": [
      "Epoch 1/100\n",
      "32/32 [==============================] - 3s 40ms/step - loss: 0.4476 - accuracy: 0.7906 - val_loss: 0.3618 - val_accuracy: 0.8356\n",
      "Epoch 2/100\n",
      "32/32 [==============================] - 1s 32ms/step - loss: 0.3300 - accuracy: 0.8630 - val_loss: 0.3455 - val_accuracy: 0.8493\n",
      "Epoch 3/100\n",
      "32/32 [==============================] - 1s 33ms/step - loss: 0.3061 - accuracy: 0.8836 - val_loss: 0.3209 - val_accuracy: 0.8493\n",
      "Epoch 4/100\n",
      "32/32 [==============================] - 1s 32ms/step - loss: 0.2813 - accuracy: 0.8738 - val_loss: 0.3363 - val_accuracy: 0.8721\n",
      "Epoch 5/100\n",
      "32/32 [==============================] - 1s 32ms/step - loss: 0.2666 - accuracy: 0.8943 - val_loss: 0.3037 - val_accuracy: 0.8767\n",
      "Epoch 6/100\n",
      "32/32 [==============================] - 1s 33ms/step - loss: 0.2691 - accuracy: 0.8943 - val_loss: 0.3266 - val_accuracy: 0.8630\n",
      "Epoch 7/100\n",
      "32/32 [==============================] - 1s 33ms/step - loss: 0.2592 - accuracy: 0.9012 - val_loss: 0.3477 - val_accuracy: 0.8447\n",
      "Epoch 8/100\n",
      "32/32 [==============================] - 1s 36ms/step - loss: 0.2879 - accuracy: 0.8845 - val_loss: 0.2779 - val_accuracy: 0.8813\n",
      "Epoch 9/100\n",
      "32/32 [==============================] - 1s 33ms/step - loss: 0.2531 - accuracy: 0.9070 - val_loss: 0.2972 - val_accuracy: 0.8584\n",
      "Epoch 10/100\n",
      "32/32 [==============================] - 1s 31ms/step - loss: 0.2454 - accuracy: 0.8943 - val_loss: 0.3436 - val_accuracy: 0.8630\n",
      "Epoch 11/100\n",
      "32/32 [==============================] - 1s 30ms/step - loss: 0.2448 - accuracy: 0.8982 - val_loss: 0.3596 - val_accuracy: 0.8676\n",
      "Epoch 12/100\n",
      "32/32 [==============================] - 1s 30ms/step - loss: 0.2542 - accuracy: 0.8865 - val_loss: 0.3143 - val_accuracy: 0.8767\n",
      "Epoch 13/100\n",
      "32/32 [==============================] - 1s 30ms/step - loss: 0.2212 - accuracy: 0.9051 - val_loss: 0.3276 - val_accuracy: 0.8813\n",
      "Epoch 14/100\n",
      "32/32 [==============================] - 1s 30ms/step - loss: 0.2159 - accuracy: 0.9041 - val_loss: 0.2651 - val_accuracy: 0.8950\n",
      "Epoch 15/100\n",
      "32/32 [==============================] - 1s 32ms/step - loss: 0.2210 - accuracy: 0.9100 - val_loss: 0.3479 - val_accuracy: 0.8676\n",
      "Epoch 16/100\n",
      "32/32 [==============================] - 1s 30ms/step - loss: 0.2143 - accuracy: 0.9129 - val_loss: 0.2691 - val_accuracy: 0.8904\n",
      "Epoch 17/100\n",
      "32/32 [==============================] - 1s 30ms/step - loss: 0.2479 - accuracy: 0.9012 - val_loss: 0.4716 - val_accuracy: 0.8676\n",
      "Epoch 18/100\n",
      "32/32 [==============================] - 1s 29ms/step - loss: 0.2745 - accuracy: 0.8894 - val_loss: 0.2738 - val_accuracy: 0.8858\n",
      "Epoch 19/100\n",
      "32/32 [==============================] - 1s 28ms/step - loss: 0.2126 - accuracy: 0.9041 - val_loss: 0.3402 - val_accuracy: 0.8904\n",
      "Epoch 20/100\n",
      "32/32 [==============================] - 1s 28ms/step - loss: 0.2225 - accuracy: 0.9070 - val_loss: 0.2952 - val_accuracy: 0.8767\n",
      "Epoch 21/100\n",
      "32/32 [==============================] - 1s 30ms/step - loss: 0.2014 - accuracy: 0.9139 - val_loss: 0.2823 - val_accuracy: 0.8767\n",
      "Epoch 22/100\n",
      "32/32 [==============================] - 1s 28ms/step - loss: 0.1941 - accuracy: 0.9119 - val_loss: 0.3113 - val_accuracy: 0.8995\n",
      "Epoch 23/100\n",
      "32/32 [==============================] - 1s 29ms/step - loss: 0.1823 - accuracy: 0.9198 - val_loss: 0.3791 - val_accuracy: 0.8950\n",
      "Epoch 24/100\n",
      "32/32 [==============================] - 1s 33ms/step - loss: 0.2036 - accuracy: 0.9061 - val_loss: 0.2720 - val_accuracy: 0.9041\n",
      "Epoch 25/100\n",
      "32/32 [==============================] - 1s 36ms/step - loss: 0.1882 - accuracy: 0.9188 - val_loss: 0.3554 - val_accuracy: 0.8950\n",
      "Epoch 26/100\n",
      "32/32 [==============================] - 1s 41ms/step - loss: 0.2027 - accuracy: 0.9149 - val_loss: 0.2860 - val_accuracy: 0.8858\n",
      "Epoch 27/100\n",
      "32/32 [==============================] - 1s 43ms/step - loss: 0.1852 - accuracy: 0.9149 - val_loss: 0.3086 - val_accuracy: 0.8904\n",
      "Epoch 28/100\n",
      "32/32 [==============================] - 1s 43ms/step - loss: 0.1958 - accuracy: 0.9100 - val_loss: 0.2728 - val_accuracy: 0.8858\n",
      "Epoch 29/100\n",
      "32/32 [==============================] - 1s 41ms/step - loss: 0.1946 - accuracy: 0.9090 - val_loss: 0.2737 - val_accuracy: 0.8950\n",
      "Epoch 30/100\n",
      "32/32 [==============================] - 1s 43ms/step - loss: 0.1884 - accuracy: 0.9217 - val_loss: 0.3508 - val_accuracy: 0.8676\n",
      "Epoch 31/100\n",
      "32/32 [==============================] - 1s 40ms/step - loss: 0.1804 - accuracy: 0.9227 - val_loss: 0.4025 - val_accuracy: 0.8858\n",
      "Epoch 32/100\n",
      "32/32 [==============================] - 1s 45ms/step - loss: 0.1666 - accuracy: 0.9217 - val_loss: 0.3910 - val_accuracy: 0.8721\n",
      "Epoch 33/100\n",
      "32/32 [==============================] - 1s 32ms/step - loss: 0.1890 - accuracy: 0.9159 - val_loss: 0.3641 - val_accuracy: 0.8493\n",
      "Epoch 34/100\n",
      "32/32 [==============================] - 1s 37ms/step - loss: 0.2045 - accuracy: 0.9168 - val_loss: 0.4304 - val_accuracy: 0.8813\n",
      "Epoch 35/100\n",
      "32/32 [==============================] - 1s 44ms/step - loss: 0.1825 - accuracy: 0.9188 - val_loss: 0.3591 - val_accuracy: 0.8767\n",
      "Epoch 36/100\n",
      "32/32 [==============================] - 2s 57ms/step - loss: 0.1810 - accuracy: 0.9198 - val_loss: 0.4069 - val_accuracy: 0.8767\n",
      "Epoch 37/100\n",
      "32/32 [==============================] - 1s 40ms/step - loss: 0.1892 - accuracy: 0.9110 - val_loss: 0.2750 - val_accuracy: 0.8858\n",
      "Epoch 38/100\n",
      "32/32 [==============================] - 1s 38ms/step - loss: 0.1881 - accuracy: 0.9237 - val_loss: 0.3984 - val_accuracy: 0.8676\n",
      "Epoch 39/100\n",
      "32/32 [==============================] - 1s 36ms/step - loss: 0.2016 - accuracy: 0.9207 - val_loss: 0.3072 - val_accuracy: 0.8767\n",
      "Epoch 40/100\n",
      "32/32 [==============================] - 1s 36ms/step - loss: 0.1833 - accuracy: 0.9149 - val_loss: 0.3477 - val_accuracy: 0.8721\n",
      "Epoch 41/100\n",
      "32/32 [==============================] - 1s 47ms/step - loss: 0.1604 - accuracy: 0.9305 - val_loss: 0.3591 - val_accuracy: 0.8676\n",
      "Epoch 42/100\n",
      "32/32 [==============================] - 2s 48ms/step - loss: 0.1617 - accuracy: 0.9256 - val_loss: 0.3058 - val_accuracy: 0.8858\n",
      "Epoch 43/100\n",
      "32/32 [==============================] - 1s 41ms/step - loss: 0.1757 - accuracy: 0.9207 - val_loss: 0.3226 - val_accuracy: 0.8858\n",
      "Epoch 44/100\n",
      "32/32 [==============================] - 1s 39ms/step - loss: 0.1594 - accuracy: 0.9266 - val_loss: 0.3764 - val_accuracy: 0.8721\n",
      "Epoch 45/100\n",
      "32/32 [==============================] - 1s 38ms/step - loss: 0.1983 - accuracy: 0.9119 - val_loss: 0.3505 - val_accuracy: 0.8584\n",
      "Epoch 46/100\n",
      "32/32 [==============================] - 1s 43ms/step - loss: 0.1802 - accuracy: 0.9159 - val_loss: 0.3359 - val_accuracy: 0.8493\n",
      "Epoch 47/100\n",
      "32/32 [==============================] - 2s 51ms/step - loss: 0.1754 - accuracy: 0.9237 - val_loss: 0.3690 - val_accuracy: 0.8721\n",
      "Epoch 48/100\n",
      "32/32 [==============================] - 2s 49ms/step - loss: 0.1528 - accuracy: 0.9325 - val_loss: 0.3688 - val_accuracy: 0.8767\n",
      "Epoch 49/100\n",
      "32/32 [==============================] - 1s 41ms/step - loss: 0.1639 - accuracy: 0.9286 - val_loss: 0.3869 - val_accuracy: 0.8676\n",
      "Epoch 50/100\n",
      "32/32 [==============================] - 1s 37ms/step - loss: 0.1765 - accuracy: 0.9266 - val_loss: 0.3092 - val_accuracy: 0.8721\n",
      "Epoch 51/100\n",
      "32/32 [==============================] - 1s 37ms/step - loss: 0.1540 - accuracy: 0.9335 - val_loss: 0.4029 - val_accuracy: 0.8721\n",
      "Epoch 52/100\n",
      "32/32 [==============================] - 1s 37ms/step - loss: 0.1629 - accuracy: 0.9237 - val_loss: 0.3021 - val_accuracy: 0.8995\n",
      "Epoch 53/100\n",
      "32/32 [==============================] - 1s 38ms/step - loss: 0.1662 - accuracy: 0.9295 - val_loss: 0.3369 - val_accuracy: 0.8858\n",
      "Epoch 54/100\n",
      "32/32 [==============================] - 1s 39ms/step - loss: 0.1786 - accuracy: 0.9256 - val_loss: 0.3714 - val_accuracy: 0.8584\n",
      "Epoch 55/100\n",
      "32/32 [==============================] - 1s 38ms/step - loss: 0.1509 - accuracy: 0.9276 - val_loss: 0.3779 - val_accuracy: 0.8904\n",
      "Epoch 56/100\n",
      "32/32 [==============================] - 1s 34ms/step - loss: 0.1629 - accuracy: 0.9295 - val_loss: 0.4364 - val_accuracy: 0.8767\n",
      "Epoch 57/100\n",
      "32/32 [==============================] - 1s 31ms/step - loss: 0.1876 - accuracy: 0.9256 - val_loss: 0.4084 - val_accuracy: 0.8630\n",
      "Epoch 58/100\n",
      "32/32 [==============================] - 1s 32ms/step - loss: 0.1466 - accuracy: 0.9344 - val_loss: 0.5065 - val_accuracy: 0.8539\n",
      "Epoch 59/100\n",
      "32/32 [==============================] - 1s 30ms/step - loss: 0.1416 - accuracy: 0.9393 - val_loss: 0.4150 - val_accuracy: 0.8813\n",
      "Epoch 60/100\n",
      "32/32 [==============================] - 1s 29ms/step - loss: 0.1510 - accuracy: 0.9374 - val_loss: 0.5447 - val_accuracy: 0.8402\n",
      "Epoch 61/100\n",
      "32/32 [==============================] - 1s 29ms/step - loss: 0.1725 - accuracy: 0.9237 - val_loss: 0.3622 - val_accuracy: 0.8813\n",
      "Epoch 62/100\n",
      "32/32 [==============================] - 1s 28ms/step - loss: 0.1621 - accuracy: 0.9335 - val_loss: 0.4431 - val_accuracy: 0.8813\n",
      "Epoch 63/100\n",
      "32/32 [==============================] - 1s 30ms/step - loss: 0.1539 - accuracy: 0.9413 - val_loss: 0.3978 - val_accuracy: 0.8721\n",
      "Epoch 64/100\n",
      "32/32 [==============================] - 1s 31ms/step - loss: 0.1398 - accuracy: 0.9384 - val_loss: 0.3331 - val_accuracy: 0.8995\n",
      "Epoch 65/100\n",
      "32/32 [==============================] - 1s 31ms/step - loss: 0.1385 - accuracy: 0.9335 - val_loss: 0.5296 - val_accuracy: 0.8630\n",
      "Epoch 66/100\n",
      "32/32 [==============================] - 1s 30ms/step - loss: 0.1561 - accuracy: 0.9247 - val_loss: 0.3828 - val_accuracy: 0.8630\n",
      "Epoch 67/100\n",
      "32/32 [==============================] - 1s 30ms/step - loss: 0.1327 - accuracy: 0.9423 - val_loss: 0.4417 - val_accuracy: 0.8813\n",
      "Epoch 68/100\n",
      "32/32 [==============================] - 1s 34ms/step - loss: 0.1553 - accuracy: 0.9325 - val_loss: 0.4508 - val_accuracy: 0.8676\n",
      "Epoch 69/100\n",
      "32/32 [==============================] - 1s 31ms/step - loss: 0.1320 - accuracy: 0.9462 - val_loss: 0.4840 - val_accuracy: 0.8721\n",
      "Epoch 70/100\n",
      "32/32 [==============================] - 1s 44ms/step - loss: 0.1673 - accuracy: 0.9305 - val_loss: 0.3548 - val_accuracy: 0.8995\n",
      "Epoch 71/100\n",
      "32/32 [==============================] - 1s 36ms/step - loss: 0.1240 - accuracy: 0.9481 - val_loss: 0.4735 - val_accuracy: 0.8767\n",
      "Epoch 72/100\n",
      "32/32 [==============================] - 1s 35ms/step - loss: 0.1410 - accuracy: 0.9403 - val_loss: 0.4543 - val_accuracy: 0.8584\n",
      "Epoch 73/100\n",
      "32/32 [==============================] - 1s 34ms/step - loss: 0.1536 - accuracy: 0.9413 - val_loss: 0.5731 - val_accuracy: 0.8447\n",
      "Epoch 74/100\n",
      "32/32 [==============================] - 1s 32ms/step - loss: 0.1479 - accuracy: 0.9374 - val_loss: 0.4547 - val_accuracy: 0.8904\n",
      "Epoch 75/100\n",
      "32/32 [==============================] - 1s 31ms/step - loss: 0.1475 - accuracy: 0.9374 - val_loss: 0.4526 - val_accuracy: 0.8676\n",
      "Epoch 76/100\n",
      "32/32 [==============================] - 1s 32ms/step - loss: 0.1331 - accuracy: 0.9413 - val_loss: 0.4540 - val_accuracy: 0.8813\n",
      "Epoch 77/100\n",
      "32/32 [==============================] - 1s 32ms/step - loss: 0.1267 - accuracy: 0.9511 - val_loss: 0.5435 - val_accuracy: 0.8676\n",
      "Epoch 78/100\n",
      "32/32 [==============================] - 1s 32ms/step - loss: 0.1531 - accuracy: 0.9393 - val_loss: 0.3246 - val_accuracy: 0.8950\n",
      "Epoch 79/100\n",
      "32/32 [==============================] - 1s 37ms/step - loss: 0.1361 - accuracy: 0.9393 - val_loss: 0.4232 - val_accuracy: 0.8858\n",
      "Epoch 80/100\n",
      "32/32 [==============================] - 1s 38ms/step - loss: 0.1169 - accuracy: 0.9442 - val_loss: 0.5685 - val_accuracy: 0.8402\n",
      "Epoch 81/100\n",
      "32/32 [==============================] - 1s 37ms/step - loss: 0.1259 - accuracy: 0.9472 - val_loss: 0.3812 - val_accuracy: 0.8721\n",
      "Epoch 82/100\n",
      "32/32 [==============================] - 1s 35ms/step - loss: 0.1240 - accuracy: 0.9452 - val_loss: 0.4630 - val_accuracy: 0.8950\n",
      "Epoch 83/100\n",
      "32/32 [==============================] - 1s 36ms/step - loss: 0.1201 - accuracy: 0.9511 - val_loss: 0.5775 - val_accuracy: 0.8767\n",
      "Epoch 84/100\n",
      "32/32 [==============================] - 1s 36ms/step - loss: 0.1101 - accuracy: 0.9569 - val_loss: 0.6464 - val_accuracy: 0.8767\n",
      "Epoch 85/100\n",
      "32/32 [==============================] - 1s 36ms/step - loss: 0.1177 - accuracy: 0.9472 - val_loss: 0.5719 - val_accuracy: 0.8858\n",
      "Epoch 86/100\n",
      "32/32 [==============================] - 1s 36ms/step - loss: 0.1085 - accuracy: 0.9569 - val_loss: 0.5716 - val_accuracy: 0.8813\n",
      "Epoch 87/100\n",
      "32/32 [==============================] - 1s 37ms/step - loss: 0.1084 - accuracy: 0.9569 - val_loss: 0.5235 - val_accuracy: 0.8767\n",
      "Epoch 88/100\n",
      "32/32 [==============================] - 1s 37ms/step - loss: 0.1065 - accuracy: 0.9521 - val_loss: 0.6463 - val_accuracy: 0.8721\n",
      "Epoch 89/100\n",
      "32/32 [==============================] - 1s 36ms/step - loss: 0.1120 - accuracy: 0.9501 - val_loss: 0.5947 - val_accuracy: 0.8813\n",
      "Epoch 90/100\n",
      "32/32 [==============================] - 1s 36ms/step - loss: 0.1402 - accuracy: 0.9384 - val_loss: 0.5166 - val_accuracy: 0.8995\n",
      "Epoch 91/100\n",
      "32/32 [==============================] - 1s 37ms/step - loss: 0.1307 - accuracy: 0.9501 - val_loss: 0.6590 - val_accuracy: 0.8630\n",
      "Epoch 92/100\n",
      "32/32 [==============================] - 1s 35ms/step - loss: 0.1716 - accuracy: 0.9364 - val_loss: 0.3915 - val_accuracy: 0.9041\n",
      "Epoch 93/100\n",
      "32/32 [==============================] - 1s 36ms/step - loss: 0.1408 - accuracy: 0.9413 - val_loss: 0.4302 - val_accuracy: 0.8858\n",
      "Epoch 94/100\n",
      "32/32 [==============================] - 1s 36ms/step - loss: 0.1203 - accuracy: 0.9442 - val_loss: 0.5147 - val_accuracy: 0.8813\n",
      "Epoch 95/100\n",
      "32/32 [==============================] - 1s 37ms/step - loss: 0.1087 - accuracy: 0.9550 - val_loss: 0.4885 - val_accuracy: 0.8904\n",
      "Epoch 96/100\n",
      "32/32 [==============================] - 1s 35ms/step - loss: 0.1330 - accuracy: 0.9423 - val_loss: 0.4758 - val_accuracy: 0.8995\n",
      "Epoch 97/100\n",
      "32/32 [==============================] - 1s 36ms/step - loss: 0.1211 - accuracy: 0.9501 - val_loss: 0.5074 - val_accuracy: 0.8950\n",
      "Epoch 98/100\n",
      "32/32 [==============================] - 1s 36ms/step - loss: 0.0986 - accuracy: 0.9589 - val_loss: 0.6221 - val_accuracy: 0.8950\n",
      "Epoch 99/100\n",
      "32/32 [==============================] - 1s 38ms/step - loss: 0.1350 - accuracy: 0.9423 - val_loss: 0.4609 - val_accuracy: 0.8813\n",
      "Epoch 100/100\n",
      "32/32 [==============================] - 1s 35ms/step - loss: 0.1007 - accuracy: 0.9530 - val_loss: 0.5568 - val_accuracy: 0.8721\n"
     ]
    }
   ],
   "source": [
    "model_2 = Sequential([\n",
    "    Dense(1000, activation='relu', input_shape=(10,)),\n",
    "    Dense(1000, activation='relu'),\n",
    "    Dense(1000, activation='relu'),\n",
    "    Dense(1000, activation='relu'),\n",
    "    Dense(1, activation='sigmoid'),\n",
    "])\n",
    "model_2.compile(optimizer='adam',\n",
    "              loss='binary_crossentropy',\n",
    "              metrics=['accuracy'])\n",
    "hist_2 = model_2.fit(X_train, Y_train,\n",
    "          batch_size=32, epochs=100,\n",
    "          validation_data=(X_val, Y_val))"
   ]
  },
  {
   "cell_type": "markdown",
   "metadata": {},
   "source": [
    "Let's do the same visualization to see what overfitting looks like in terms of the loss and accuracy."
   ]
  },
  {
   "cell_type": "code",
   "execution_count": 50,
   "metadata": {},
   "outputs": [
    {
     "data": {
      "image/png": "[encoded data removed]",
      "text/plain": [
       "<Figure size 432x288 with 1 Axes>"
      ]
     },
     "metadata": {
      "needs_background": "light"
     },
     "output_type": "display_data"
    }
   ],
   "source": [
    "plt.plot(hist_2.history['loss'])\n",
    "plt.plot(hist_2.history['val_loss'])\n",
    "plt.title('Model loss')\n",
    "plt.ylabel('Loss')\n",
    "plt.xlabel('Epoch')\n",
    "plt.legend(['Train', 'Val'], loc='upper right')\n",
    "plt.show()"
   ]
  },
  {
   "cell_type": "code",
   "execution_count": 52,
   "metadata": {},
   "outputs": [
    {
     "data": {
      "image/png": "[encoded data removed]",
      "text/plain": [
       "<Figure size 432x288 with 1 Axes>"
      ]
     },
     "metadata": {
      "needs_background": "light"
     },
     "output_type": "display_data"
    }
   ],
   "source": [
    "plt.plot(hist_2.history['accuracy'])\n",
    "plt.plot(hist_2.history['val_accuracy'])\n",
    "plt.title('Model accuracy')\n",
    "plt.ylabel('Accuracy')\n",
    "plt.xlabel('Epoch')\n",
    "plt.legend(['Train', 'Val'], loc='lower right')\n",
    "plt.show()"
   ]
  },
  {
   "cell_type": "markdown",
   "metadata": {},
   "source": [
    "To address the overfitting we see in Model 2, we'll incorporate L2 regularization and dropout in our third model here (Model 3)."
   ]
  },
  {
   "cell_type": "code",
   "execution_count": 53,
   "metadata": {},
   "outputs": [],
   "source": [
    "from keras.layers import Dropout\n",
    "from keras import regularizers"
   ]
  },
  {
   "cell_type": "code",
   "execution_count": 54,
   "metadata": {},
   "outputs": [],
   "source": [
    "model_3 = Sequential([\n",
    "    Dense(1000, activation='relu', kernel_regularizer=regularizers.l2(0.01), input_shape=(10,)),\n",
    "    Dropout(0.3),\n",
    "    Dense(1000, activation='relu', kernel_regularizer=regularizers.l2(0.01)),\n",
    "    Dropout(0.3),\n",
    "    Dense(1000, activation='relu', kernel_regularizer=regularizers.l2(0.01)),\n",
    "    Dropout(0.3),\n",
    "    Dense(1000, activation='relu', kernel_regularizer=regularizers.l2(0.01)),\n",
    "    Dropout(0.3),\n",
    "    Dense(1, activation='sigmoid', kernel_regularizer=regularizers.l2(0.01)),\n",
    "])"
   ]
  },
  {
   "cell_type": "code",
   "execution_count": 55,
   "metadata": {},
   "outputs": [
    {
     "name": "stdout",
     "output_type": "stream",
     "text": [
      "Epoch 1/100\n",
      "32/32 [==============================] - 3s 50ms/step - loss: 14.2429 - accuracy: 0.6076 - val_loss: 3.9062 - val_accuracy: 0.7671\n",
      "Epoch 2/100\n",
      "32/32 [==============================] - 1s 42ms/step - loss: 1.6595 - accuracy: 0.8503 - val_loss: 0.7563 - val_accuracy: 0.8174\n",
      "Epoch 3/100\n",
      "32/32 [==============================] - 1s 44ms/step - loss: 0.5953 - accuracy: 0.8474 - val_loss: 0.5108 - val_accuracy: 0.8493\n",
      "Epoch 4/100\n",
      "32/32 [==============================] - 1s 42ms/step - loss: 0.5036 - accuracy: 0.8708 - val_loss: 0.4960 - val_accuracy: 0.8493\n",
      "Epoch 5/100\n",
      "32/32 [==============================] - 1s 42ms/step - loss: 0.4948 - accuracy: 0.8708 - val_loss: 0.6018 - val_accuracy: 0.8082\n",
      "Epoch 6/100\n",
      "32/32 [==============================] - 1s 43ms/step - loss: 0.4884 - accuracy: 0.8738 - val_loss: 0.5216 - val_accuracy: 0.8630\n",
      "Epoch 7/100\n",
      "32/32 [==============================] - 1s 42ms/step - loss: 0.4734 - accuracy: 0.8738 - val_loss: 0.4771 - val_accuracy: 0.8539\n",
      "Epoch 8/100\n",
      "32/32 [==============================] - 1s 42ms/step - loss: 0.4609 - accuracy: 0.8875 - val_loss: 0.4665 - val_accuracy: 0.8539\n",
      "Epoch 9/100\n",
      "32/32 [==============================] - 1s 41ms/step - loss: 0.4628 - accuracy: 0.8816 - val_loss: 0.5225 - val_accuracy: 0.8630\n",
      "Epoch 10/100\n",
      "32/32 [==============================] - 1s 42ms/step - loss: 0.4823 - accuracy: 0.8728 - val_loss: 0.5243 - val_accuracy: 0.8539\n",
      "Epoch 11/100\n",
      "32/32 [==============================] - 1s 42ms/step - loss: 0.4546 - accuracy: 0.8826 - val_loss: 0.4534 - val_accuracy: 0.8676\n",
      "Epoch 12/100\n",
      "32/32 [==============================] - 1s 45ms/step - loss: 0.4624 - accuracy: 0.8708 - val_loss: 0.4728 - val_accuracy: 0.8630\n",
      "Epoch 13/100\n",
      "32/32 [==============================] - 1s 42ms/step - loss: 0.4967 - accuracy: 0.8571 - val_loss: 0.4564 - val_accuracy: 0.8630\n",
      "Epoch 14/100\n",
      "32/32 [==============================] - 1s 47ms/step - loss: 0.4387 - accuracy: 0.8914 - val_loss: 0.4523 - val_accuracy: 0.8676\n",
      "Epoch 15/100\n",
      "32/32 [==============================] - 1s 41ms/step - loss: 0.4445 - accuracy: 0.8845 - val_loss: 0.4927 - val_accuracy: 0.8721\n",
      "Epoch 16/100\n",
      "32/32 [==============================] - 1s 39ms/step - loss: 0.4433 - accuracy: 0.8787 - val_loss: 0.4458 - val_accuracy: 0.8584\n",
      "Epoch 17/100\n",
      "32/32 [==============================] - 1s 38ms/step - loss: 0.4606 - accuracy: 0.8836 - val_loss: 0.4669 - val_accuracy: 0.8721\n",
      "Epoch 18/100\n",
      "32/32 [==============================] - 1s 39ms/step - loss: 0.4559 - accuracy: 0.8777 - val_loss: 0.4627 - val_accuracy: 0.8584\n",
      "Epoch 19/100\n",
      "32/32 [==============================] - 1s 39ms/step - loss: 0.4459 - accuracy: 0.8855 - val_loss: 0.4620 - val_accuracy: 0.8630\n",
      "Epoch 20/100\n",
      "32/32 [==============================] - 1s 39ms/step - loss: 0.4622 - accuracy: 0.8796 - val_loss: 0.4427 - val_accuracy: 0.8676\n",
      "Epoch 21/100\n",
      "32/32 [==============================] - 1s 39ms/step - loss: 0.4561 - accuracy: 0.8865 - val_loss: 0.4566 - val_accuracy: 0.8584\n",
      "Epoch 22/100\n",
      "32/32 [==============================] - 1s 42ms/step - loss: 0.4370 - accuracy: 0.8885 - val_loss: 0.4725 - val_accuracy: 0.8721\n",
      "Epoch 23/100\n",
      "32/32 [==============================] - 1s 40ms/step - loss: 0.4428 - accuracy: 0.8885 - val_loss: 0.4614 - val_accuracy: 0.8539\n",
      "Epoch 24/100\n",
      "32/32 [==============================] - 1s 39ms/step - loss: 0.4402 - accuracy: 0.8894 - val_loss: 0.4361 - val_accuracy: 0.8539\n",
      "Epoch 25/100\n",
      "32/32 [==============================] - 1s 39ms/step - loss: 0.4359 - accuracy: 0.8845 - val_loss: 0.4369 - val_accuracy: 0.8676\n",
      "Epoch 26/100\n",
      "32/32 [==============================] - 1s 38ms/step - loss: 0.4659 - accuracy: 0.8738 - val_loss: 0.5441 - val_accuracy: 0.8447\n",
      "Epoch 27/100\n",
      "32/32 [==============================] - 1s 39ms/step - loss: 0.4543 - accuracy: 0.8855 - val_loss: 0.4450 - val_accuracy: 0.8630\n",
      "Epoch 28/100\n",
      "32/32 [==============================] - 1s 41ms/step - loss: 0.4519 - accuracy: 0.8796 - val_loss: 0.4491 - val_accuracy: 0.8584\n",
      "Epoch 29/100\n",
      "32/32 [==============================] - 1s 40ms/step - loss: 0.4344 - accuracy: 0.8855 - val_loss: 0.4417 - val_accuracy: 0.8630\n",
      "Epoch 30/100\n",
      "32/32 [==============================] - 1s 39ms/step - loss: 0.4530 - accuracy: 0.8826 - val_loss: 0.4524 - val_accuracy: 0.8630\n",
      "Epoch 31/100\n",
      "32/32 [==============================] - 1s 40ms/step - loss: 0.4459 - accuracy: 0.8836 - val_loss: 0.4492 - val_accuracy: 0.8676\n",
      "Epoch 32/100\n",
      "32/32 [==============================] - 1s 40ms/step - loss: 0.4629 - accuracy: 0.8777 - val_loss: 0.4460 - val_accuracy: 0.8676\n",
      "Epoch 33/100\n",
      "32/32 [==============================] - 1s 41ms/step - loss: 0.4487 - accuracy: 0.8855 - val_loss: 0.4636 - val_accuracy: 0.8630\n",
      "Epoch 34/100\n",
      "32/32 [==============================] - 1s 42ms/step - loss: 0.4421 - accuracy: 0.8748 - val_loss: 0.4724 - val_accuracy: 0.8676\n",
      "Epoch 35/100\n",
      "32/32 [==============================] - 1s 44ms/step - loss: 0.4788 - accuracy: 0.8640 - val_loss: 0.4470 - val_accuracy: 0.8630\n",
      "Epoch 36/100\n",
      "32/32 [==============================] - 1s 45ms/step - loss: 0.4291 - accuracy: 0.8914 - val_loss: 0.4473 - val_accuracy: 0.8676\n",
      "Epoch 37/100\n",
      "32/32 [==============================] - 1s 45ms/step - loss: 0.4402 - accuracy: 0.8836 - val_loss: 0.4476 - val_accuracy: 0.8676\n",
      "Epoch 38/100\n",
      "32/32 [==============================] - 1s 42ms/step - loss: 0.4529 - accuracy: 0.8787 - val_loss: 0.4428 - val_accuracy: 0.8584\n",
      "Epoch 39/100\n",
      "32/32 [==============================] - 1s 43ms/step - loss: 0.4436 - accuracy: 0.8875 - val_loss: 0.4362 - val_accuracy: 0.8721\n",
      "Epoch 40/100\n",
      "32/32 [==============================] - 1s 43ms/step - loss: 0.4469 - accuracy: 0.8816 - val_loss: 0.4330 - val_accuracy: 0.8630\n",
      "Epoch 41/100\n",
      "32/32 [==============================] - 2s 50ms/step - loss: 0.4266 - accuracy: 0.8826 - val_loss: 0.4347 - val_accuracy: 0.8676\n",
      "Epoch 42/100\n",
      "32/32 [==============================] - 1s 42ms/step - loss: 0.4327 - accuracy: 0.8894 - val_loss: 0.4402 - val_accuracy: 0.8630\n",
      "Epoch 43/100\n",
      "32/32 [==============================] - 2s 48ms/step - loss: 0.4325 - accuracy: 0.8855 - val_loss: 0.4392 - val_accuracy: 0.8676\n",
      "Epoch 44/100\n",
      "32/32 [==============================] - 2s 48ms/step - loss: 0.4569 - accuracy: 0.8748 - val_loss: 0.4355 - val_accuracy: 0.8721\n",
      "Epoch 45/100\n",
      "32/32 [==============================] - 1s 42ms/step - loss: 0.4389 - accuracy: 0.8826 - val_loss: 0.4439 - val_accuracy: 0.8630\n",
      "Epoch 46/100\n",
      "32/32 [==============================] - 1s 39ms/step - loss: 0.4337 - accuracy: 0.8757 - val_loss: 0.4566 - val_accuracy: 0.8721\n",
      "Epoch 47/100\n",
      "32/32 [==============================] - 1s 38ms/step - loss: 0.4448 - accuracy: 0.8777 - val_loss: 0.4406 - val_accuracy: 0.8676\n",
      "Epoch 48/100\n",
      "32/32 [==============================] - 1s 38ms/step - loss: 0.4269 - accuracy: 0.8914 - val_loss: 0.4343 - val_accuracy: 0.8676\n",
      "Epoch 49/100\n",
      "32/32 [==============================] - 1s 45ms/step - loss: 0.4340 - accuracy: 0.8894 - val_loss: 0.4487 - val_accuracy: 0.8584\n",
      "Epoch 50/100\n",
      "32/32 [==============================] - 1s 42ms/step - loss: 0.4464 - accuracy: 0.8816 - val_loss: 0.4408 - val_accuracy: 0.8630\n",
      "Epoch 51/100\n",
      "32/32 [==============================] - 1s 39ms/step - loss: 0.4278 - accuracy: 0.8865 - val_loss: 0.4285 - val_accuracy: 0.8767\n",
      "Epoch 52/100\n",
      "32/32 [==============================] - 1s 38ms/step - loss: 0.4455 - accuracy: 0.8836 - val_loss: 0.4728 - val_accuracy: 0.8813\n",
      "Epoch 53/100\n",
      "32/32 [==============================] - 1s 39ms/step - loss: 0.4289 - accuracy: 0.8875 - val_loss: 0.4309 - val_accuracy: 0.8721\n",
      "Epoch 54/100\n",
      "32/32 [==============================] - 1s 42ms/step - loss: 0.4285 - accuracy: 0.8836 - val_loss: 0.4377 - val_accuracy: 0.8584\n",
      "Epoch 55/100\n",
      "32/32 [==============================] - 1s 44ms/step - loss: 0.4322 - accuracy: 0.8914 - val_loss: 0.4365 - val_accuracy: 0.8721\n",
      "Epoch 56/100\n",
      "32/32 [==============================] - 1s 44ms/step - loss: 0.4330 - accuracy: 0.8845 - val_loss: 0.4375 - val_accuracy: 0.8676\n",
      "Epoch 57/100\n",
      "32/32 [==============================] - 1s 42ms/step - loss: 0.4330 - accuracy: 0.8914 - val_loss: 0.4344 - val_accuracy: 0.8676\n",
      "Epoch 58/100\n",
      "32/32 [==============================] - 1s 43ms/step - loss: 0.4318 - accuracy: 0.8796 - val_loss: 0.4434 - val_accuracy: 0.8630\n",
      "Epoch 59/100\n",
      "32/32 [==============================] - 1s 41ms/step - loss: 0.4604 - accuracy: 0.8718 - val_loss: 0.4549 - val_accuracy: 0.8630\n",
      "Epoch 60/100\n",
      "32/32 [==============================] - 1s 40ms/step - loss: 0.4350 - accuracy: 0.8836 - val_loss: 0.4338 - val_accuracy: 0.8676\n",
      "Epoch 61/100\n",
      "32/32 [==============================] - 1s 41ms/step - loss: 0.4381 - accuracy: 0.8738 - val_loss: 0.4502 - val_accuracy: 0.8630\n",
      "Epoch 62/100\n",
      "32/32 [==============================] - 1s 43ms/step - loss: 0.4432 - accuracy: 0.8796 - val_loss: 0.4520 - val_accuracy: 0.8539\n",
      "Epoch 63/100\n",
      "32/32 [==============================] - 1s 43ms/step - loss: 0.4347 - accuracy: 0.8894 - val_loss: 0.4526 - val_accuracy: 0.8630\n",
      "Epoch 64/100\n",
      "32/32 [==============================] - 1s 43ms/step - loss: 0.4396 - accuracy: 0.8885 - val_loss: 0.4427 - val_accuracy: 0.8630\n",
      "Epoch 65/100\n",
      "32/32 [==============================] - 1s 43ms/step - loss: 0.4290 - accuracy: 0.8914 - val_loss: 0.4335 - val_accuracy: 0.8630\n",
      "Epoch 66/100\n",
      "32/32 [==============================] - 1s 44ms/step - loss: 0.4365 - accuracy: 0.8845 - val_loss: 0.4975 - val_accuracy: 0.8676\n",
      "Epoch 67/100\n",
      "32/32 [==============================] - 1s 45ms/step - loss: 0.4543 - accuracy: 0.8875 - val_loss: 0.4288 - val_accuracy: 0.8676\n",
      "Epoch 68/100\n",
      "32/32 [==============================] - 1s 45ms/step - loss: 0.4441 - accuracy: 0.8787 - val_loss: 0.4624 - val_accuracy: 0.8767\n",
      "Epoch 69/100\n",
      "32/32 [==============================] - 2s 52ms/step - loss: 0.4345 - accuracy: 0.8904 - val_loss: 0.4312 - val_accuracy: 0.8721\n",
      "Epoch 70/100\n",
      "32/32 [==============================] - 2s 50ms/step - loss: 0.4404 - accuracy: 0.8806 - val_loss: 0.4440 - val_accuracy: 0.8584\n",
      "Epoch 71/100\n",
      "32/32 [==============================] - 2s 48ms/step - loss: 0.4326 - accuracy: 0.8894 - val_loss: 0.4776 - val_accuracy: 0.8767\n",
      "Epoch 72/100\n",
      "32/32 [==============================] - 2s 49ms/step - loss: 0.4307 - accuracy: 0.8885 - val_loss: 0.4322 - val_accuracy: 0.8676\n",
      "Epoch 73/100\n",
      "32/32 [==============================] - 2s 50ms/step - loss: 0.4488 - accuracy: 0.8767 - val_loss: 0.4362 - val_accuracy: 0.8721\n",
      "Epoch 74/100\n",
      "32/32 [==============================] - 2s 52ms/step - loss: 0.4667 - accuracy: 0.8669 - val_loss: 0.4503 - val_accuracy: 0.8676\n",
      "Epoch 75/100\n",
      "32/32 [==============================] - 2s 52ms/step - loss: 0.4369 - accuracy: 0.8865 - val_loss: 0.4327 - val_accuracy: 0.8630\n",
      "Epoch 76/100\n",
      "32/32 [==============================] - 2s 49ms/step - loss: 0.4319 - accuracy: 0.8845 - val_loss: 0.4608 - val_accuracy: 0.8721\n",
      "Epoch 77/100\n",
      "32/32 [==============================] - 2s 49ms/step - loss: 0.4300 - accuracy: 0.8865 - val_loss: 0.4376 - val_accuracy: 0.8676\n",
      "Epoch 78/100\n",
      "32/32 [==============================] - 2s 48ms/step - loss: 0.4383 - accuracy: 0.8826 - val_loss: 0.4512 - val_accuracy: 0.8539\n",
      "Epoch 79/100\n",
      "32/32 [==============================] - 2s 49ms/step - loss: 0.4457 - accuracy: 0.8914 - val_loss: 0.4383 - val_accuracy: 0.8630\n",
      "Epoch 80/100\n",
      "32/32 [==============================] - 2s 50ms/step - loss: 0.4315 - accuracy: 0.8875 - val_loss: 0.4325 - val_accuracy: 0.8676\n",
      "Epoch 81/100\n",
      "32/32 [==============================] - 2s 50ms/step - loss: 0.4363 - accuracy: 0.8845 - val_loss: 0.4356 - val_accuracy: 0.8630\n",
      "Epoch 82/100\n",
      "32/32 [==============================] - 2s 50ms/step - loss: 0.4318 - accuracy: 0.8875 - val_loss: 0.4313 - val_accuracy: 0.8584\n",
      "Epoch 83/100\n",
      "32/32 [==============================] - 2s 49ms/step - loss: 0.4378 - accuracy: 0.8885 - val_loss: 0.4444 - val_accuracy: 0.8630\n",
      "Epoch 84/100\n",
      "32/32 [==============================] - 2s 51ms/step - loss: 0.4337 - accuracy: 0.8875 - val_loss: 0.4308 - val_accuracy: 0.8676\n",
      "Epoch 85/100\n",
      "32/32 [==============================] - 2s 53ms/step - loss: 0.4515 - accuracy: 0.8806 - val_loss: 0.4323 - val_accuracy: 0.8767\n",
      "Epoch 86/100\n",
      "32/32 [==============================] - 2s 64ms/step - loss: 0.4262 - accuracy: 0.8855 - val_loss: 0.4336 - val_accuracy: 0.8676\n",
      "Epoch 87/100\n",
      "32/32 [==============================] - 2s 69ms/step - loss: 0.4316 - accuracy: 0.8845 - val_loss: 0.4650 - val_accuracy: 0.8676\n",
      "Epoch 88/100\n",
      "32/32 [==============================] - 1s 46ms/step - loss: 0.4697 - accuracy: 0.8728 - val_loss: 0.4758 - val_accuracy: 0.8721\n",
      "Epoch 89/100\n",
      "32/32 [==============================] - 1s 44ms/step - loss: 0.4572 - accuracy: 0.8757 - val_loss: 0.4364 - val_accuracy: 0.8721\n",
      "Epoch 90/100\n",
      "32/32 [==============================] - 2s 47ms/step - loss: 0.4352 - accuracy: 0.8855 - val_loss: 0.4334 - val_accuracy: 0.8630\n",
      "Epoch 91/100\n",
      "32/32 [==============================] - 2s 50ms/step - loss: 0.4362 - accuracy: 0.8787 - val_loss: 0.4338 - val_accuracy: 0.8676\n",
      "Epoch 92/100\n",
      "32/32 [==============================] - 2s 54ms/step - loss: 0.4341 - accuracy: 0.8894 - val_loss: 0.4503 - val_accuracy: 0.8539\n",
      "Epoch 93/100\n",
      "32/32 [==============================] - 2s 56ms/step - loss: 0.4366 - accuracy: 0.8796 - val_loss: 0.4444 - val_accuracy: 0.8584\n",
      "Epoch 94/100\n",
      "32/32 [==============================] - 2s 57ms/step - loss: 0.4306 - accuracy: 0.8875 - val_loss: 0.4334 - val_accuracy: 0.8676\n",
      "Epoch 95/100\n",
      "32/32 [==============================] - 2s 51ms/step - loss: 0.4259 - accuracy: 0.8914 - val_loss: 0.4497 - val_accuracy: 0.8630\n",
      "Epoch 96/100\n",
      "32/32 [==============================] - 2s 50ms/step - loss: 0.4443 - accuracy: 0.8787 - val_loss: 0.4367 - val_accuracy: 0.8630\n",
      "Epoch 97/100\n",
      "32/32 [==============================] - 2s 51ms/step - loss: 0.4479 - accuracy: 0.8816 - val_loss: 0.4604 - val_accuracy: 0.8721\n",
      "Epoch 98/100\n",
      "32/32 [==============================] - 2s 61ms/step - loss: 0.4398 - accuracy: 0.8806 - val_loss: 0.4387 - val_accuracy: 0.8676\n",
      "Epoch 99/100\n",
      "32/32 [==============================] - 2s 54ms/step - loss: 0.4420 - accuracy: 0.8816 - val_loss: 0.4315 - val_accuracy: 0.8721\n",
      "Epoch 100/100\n",
      "32/32 [==============================] - 2s 50ms/step - loss: 0.4451 - accuracy: 0.8845 - val_loss: 0.4370 - val_accuracy: 0.8676\n"
     ]
    }
   ],
   "source": [
    "model_3.compile(optimizer='adam',\n",
    "              loss='binary_crossentropy',\n",
    "              metrics=['accuracy'])\n",
    "hist_3 = model_3.fit(X_train, Y_train,\n",
    "          batch_size=32, epochs=100,\n",
    "          validation_data=(X_val, Y_val))"
   ]
  },
  {
   "cell_type": "markdown",
   "metadata": {},
   "source": [
    "We'll now plot the loss and accuracy graphs for Model 3. You'll notice that the loss is a lot higher at the start, and that's because we've changed our loss function. To plot such that the window is zoomed in between 0 and 1.2 for the loss, we add an additional line of code (plt.ylim) when plotting"
   ]
  },
  {
   "cell_type": "code",
   "execution_count": 58,
   "metadata": {},
   "outputs": [
    {
     "data": {
      "image/png": "[encoded data removed]",
      "text/plain": [
       "<Figure size 432x288 with 1 Axes>"
      ]
     },
     "metadata": {
      "needs_background": "light"
     },
     "output_type": "display_data"
    }
   ],
   "source": [
    "plt.plot(hist_3.history['loss'])\n",
    "plt.plot(hist_3.history['val_loss'])\n",
    "plt.title('Model loss')\n",
    "plt.ylabel('Loss')\n",
    "plt.xlabel('Epoch')\n",
    "plt.legend(['Train', 'Val'], loc='upper right')\n",
    "plt.ylim(top=1.2, bottom=0)\n",
    "plt.show()"
   ]
  },
  {
   "cell_type": "code",
   "execution_count": 60,
   "metadata": {},
   "outputs": [
    {
     "data": {
      "image/png": "[encoded data removed]",
      "text/plain": [
       "<Figure size 432x288 with 1 Axes>"
      ]
     },
     "metadata": {
      "needs_background": "light"
     },
     "output_type": "display_data"
    }
   ],
   "source": [
    "plt.plot(hist_3.history['accuracy'])\n",
    "plt.plot(hist_3.history['val_accuracy'])\n",
    "plt.title('Model accuracy')\n",
    "plt.ylabel('Accuracy')\n",
    "plt.xlabel('Epoch')\n",
    "plt.legend(['Train', 'Val'], loc='lower right')\n",
    "plt.show()"
   ]
  },
  {
   "cell_type": "markdown",
   "metadata": {},
   "source": [
    "As compared to Model 2, you should see that there's less overfitting!"
   ]
  }
 ],
 "metadata": {
  "kernelspec": {
   "display_name": "Python 3",
   "language": "python",
   "name": "python3"
  },
  "language_info": {
   "codemirror_mode": {
    "name": "ipython",
    "version": 3
   },
   "file_extension": ".py",
   "mimetype": "text/x-python",
   "name": "python",
   "nbconvert_exporter": "python",
   "pygments_lexer": "ipython3",
   "version": "3.10.1"
  }
 },
 "nbformat": 4,
 "nbformat_minor": 2
}
