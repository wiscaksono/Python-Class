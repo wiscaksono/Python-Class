{
 "cells": [
  {
   "cell_type": "markdown",
   "metadata": {},
   "source": [
    "## QUIZ - List Tuple Set Dictionary"
   ]
  },
  {
   "cell_type": "markdown",
   "metadata": {},
   "source": [
    "### List"
   ]
  },
  {
   "cell_type": "markdown",
   "metadata": {},
   "source": [
    "**Q 1:**\n",
    "\n",
    "Define a function named **sum_of_list**.\n",
    "\n",
    "The parameter will be a list.\n",
    "\n",
    "The function will add all the elements in the list and return the summation result.\n",
    "\n",
    "<pre>\n",
    "Expected Output:\n",
    "nums = [1, 2, 3, 4, 5, 'a']\n",
    "sum_of_list(nums) -> 15\n",
    "</pre>"
   ]
  },
  {
   "cell_type": "code",
   "execution_count": 7,
   "metadata": {},
   "outputs": [
    {
     "name": "stdout",
     "output_type": "stream",
     "text": [
      "15\n"
     ]
    }
   ],
   "source": [
    "# Q 1:\n",
    "\n",
    "# ---- your solution here ----\n",
    "\n",
    "def sum_of_list(nums):\n",
    "  return sum([int(i) for i in nums if type(i) == int or i.isdigit()])\n",
    "  \n",
    "# call the function you defined\n",
    "\n",
    "nums = [1, 2, 3, 4, 5, 'a'] \n",
    "summation = sum_of_list(nums)\n",
    "print(summation)"
   ]
  },
  {
   "cell_type": "markdown",
   "metadata": {},
   "source": [
    "**Q 2:**\n",
    "\n",
    "Define a function named **squares**.\n",
    "\n",
    "It will calculate the square of each item in the list and append it to a new list.\n",
    "\n",
    "It will return the new list of squares.\n",
    "\n",
    "<pre>\n",
    "Expected Output:\n",
    "numbers = [1,2,3,4,5]\n",
    "squares(numbers)  ->   [1, 4, 9, 16, 25]\n",
    "\n",
    "</pre>"
   ]
  },
  {
   "cell_type": "code",
   "execution_count": 8,
   "metadata": {},
   "outputs": [
    {
     "name": "stdout",
     "output_type": "stream",
     "text": [
      "[1, 4, 9, 16, 25]\n"
     ]
    }
   ],
   "source": [
    "# Q 2:\n",
    "\n",
    "# ---- your solution here ----\n",
    "\n",
    "def squares(numbers):\n",
    "  kuadrat = [pow(i,2) for i in numbers]\n",
    "  return kuadrat\n",
    "    \n",
    "    \n",
    "# call the function you defined\n",
    "numbers = [1,2,3,4,5]\n",
    "result = squares(numbers)\n",
    "print(result)"
   ]
  },
  {
   "cell_type": "markdown",
   "metadata": {},
   "source": [
    "**Q 3:**\n",
    "\n",
    "Define a function named **sum_of_squares**.\n",
    "\n",
    "It will calculate the squares of items first and will add them to create items of a new list.\n",
    "\n",
    "Each item in the new list will be the sum of items from the old list starting from index 0 up to the item's index.\n",
    "\n",
    "For example in the new list the item in index 4 is going to be the sum of squares of items at indices 0-1-2-3-4 of parameter list.\n",
    "\n",
    "And it will return the new list.\n",
    "\n",
    "**Hints:**\n",
    "* use sum_of_list function you defined in Q1\n",
    "\n",
    "<pre>\n",
    "Function Call:\n",
    "a_list = [1,2,3,4,5]\n",
    "result = sum_of_squares(a_list)\n",
    "print(result)\n",
    "\n",
    "Expected Output:\n",
    "[1, 5, 15, 37, 83]\n",
    "</pre>"
   ]
  },
  {
   "cell_type": "code",
   "execution_count": 12,
   "metadata": {},
   "outputs": [
    {
     "name": "stdout",
     "output_type": "stream",
     "text": [
      "[1, 4, 9, 16, 25]\n"
     ]
    }
   ],
   "source": [
    "# Q 3:\n",
    "\n",
    "# ---- your solution here ----\n",
    "\n",
    "def sum_of_squares(a_list):\n",
    "  square = [pow(i,2) for i in a_list]\n",
    "  \n",
    "  \n",
    "# call the function you defined\n",
    "a_list = [1,2,3,4,5]\n",
    "result = sum_of_squares(a_list)\n",
    "print(result)"
   ]
  },
  {
   "cell_type": "markdown",
   "metadata": {},
   "source": [
    "**Q 4:**\n",
    "\n",
    "Define a function that return the difference between items at odd indices (1,3,5...) and items at even indices (0,2,4...).\n",
    "\n",
    "The function name will be **odd_even_difference**.\n",
    "\n",
    "**Hints:**\n",
    "* index starts from zero\n",
    "* use lists and indices only\n",
    "* do not use loop\n",
    "* use sum_of_list function you defined in Q1\n",
    "\n",
    "<pre>\n",
    "Function Call:\n",
    "a_list = [1,2,3,4,5,6]\n",
    "diff = odd_even_difference(a_list)\n",
    "print(diff)\n",
    "\n",
    "Expected Output:\n",
    "3\n",
    "</pre>"
   ]
  },
  {
   "cell_type": "code",
   "execution_count": null,
   "metadata": {},
   "outputs": [],
   "source": [
    "# Q 4:\n",
    "\n",
    "# ---- your solution here ----\n",
    "def odd_even_difference(a_list):\n",
    "  if a_list%2 == 0:\n",
    "    \n",
    "    \n",
    "# call the function you defined\n",
    "a_list = [1,2,3,4,5,6]\n",
    "diff = odd_even_difference(a_list)\n",
    "print(diff)"
   ]
  },
  {
   "cell_type": "markdown",
   "metadata": {},
   "source": [
    "**Q 5:**\n",
    "\n",
    "Define a function to check if a given list is sorted in descending order or not.\n",
    "\n",
    "The function name will be **is_it_sorted_descending**.\n",
    "\n",
    "It will return True if the list items are in descending order, False otherwise.\n",
    "\n",
    "<pre>\n",
    "Function Calls:\n",
    "a_list = [2, 3, 4, 7]\n",
    "print(is_it_sorted_descending(a_list))\n",
    "\n",
    "a_list = [7, 7, 4, 3, 2, 1, 1]\n",
    "print(is_it_sorted_descending(a_list))\n",
    "\n",
    "a_list = ['a', 'b', 'c', 'd']\n",
    "print(is_it_sorted_descending(a_list))\n",
    "\n",
    "a_list = ['d', 'c', 'b', 'a']\n",
    "print(is_it_sorted_descending(a_list))\n",
    "\n",
    "Expected Output:\n",
    "False\n",
    "True\n",
    "False\n",
    "True\n",
    "</pre>"
   ]
  },
  {
   "cell_type": "code",
   "execution_count": 23,
   "metadata": {},
   "outputs": [
    {
     "name": "stdout",
     "output_type": "stream",
     "text": [
      "None\n",
      "True\n",
      "None\n",
      "True\n"
     ]
    }
   ],
   "source": [
    "# Q 5:\n",
    "\n",
    "# ---- your solution here ----\n",
    "\n",
    "def is_it_sorted_descending(a_list):\n",
    "  flag = 0\n",
    "  b_list = a_list[:]\n",
    "  b_list.sort(reverse = True) \n",
    "  if (b_list == a_list):\n",
    "    flag = 1\n",
    "    if(flag):\n",
    "      return True\n",
    "    else:\n",
    "      return False\n",
    "\n",
    "    \n",
    "# call the function you defined\n",
    "a_list = [2, 3, 4, 7]\n",
    "print(is_it_sorted_descending(a_list))\n",
    "\n",
    "a_list = [7, 7, 4, 3, 2, 1, 1]\n",
    "print(is_it_sorted_descending(a_list))\n",
    "\n",
    "a_list = ['a', 'b', 'c', 'd']\n",
    "print(is_it_sorted_descending(a_list))\n",
    "\n",
    "a_list = ['d', 'c', 'b', 'a']\n",
    "print(is_it_sorted_descending(a_list))"
   ]
  },
  {
   "cell_type": "markdown",
   "metadata": {},
   "source": [
    "### Tuple"
   ]
  },
  {
   "cell_type": "markdown",
   "metadata": {},
   "source": [
    "**Q 6:**\n",
    "\n",
    "Define a function named **string_to_list_to_tuple**.\n",
    "\n",
    "It will take String as parameter.\n",
    "\n",
    "First it will convert this String into a List, then it will convert this List into a Tuple.\n",
    "\n",
    "Finally it will return the Tuple.\n",
    "\n",
    "**Hints:**\n",
    "* only use `constructor` methods\n",
    "    * list()\n",
    "    * tuple()\n",
    "    \n",
    "<pre >\n",
    "Parameter:\n",
    "pythons_father = 'Guido van Rossum'\n",
    "\n",
    "Expected Result: ('G', 'u', 'i', 'd', 'o', ' ', 'v', 'a', 'n', ' ', 'R', 'o', 's', 's', 'u', 'm')\n",
    "</pre>"
   ]
  },
  {
   "cell_type": "code",
   "execution_count": 24,
   "metadata": {},
   "outputs": [
    {
     "name": "stdout",
     "output_type": "stream",
     "text": [
      "('G', 'u', 'i', 'd', 'o', ' ', 'v', 'a', 'n', ' ', 'R', 'o', 's', 's', 'u', 'm')\n"
     ]
    }
   ],
   "source": [
    "# Q 6:\n",
    "\n",
    "# ---- your solution here ----\n",
    "def string_to_list_to_tuple(pythons_father):\n",
    "  output = tuple(pythons_father)\n",
    "  return output\n",
    "    \n",
    "# call the function you defined\n",
    "pythons_father = 'Guido van Rossum'\n",
    "father_tuple = string_to_list_to_tuple(pythons_father)\n",
    "print(father_tuple)"
   ]
  },
  {
   "cell_type": "code",
   "execution_count": null,
   "metadata": {},
   "outputs": [],
   "source": []
  },
  {
   "cell_type": "code",
   "execution_count": null,
   "metadata": {},
   "outputs": [],
   "source": []
  },
  {
   "cell_type": "markdown",
   "metadata": {},
   "source": [
    "**Q 7:**\n",
    "\n",
    "Define a function named **change_tuple_ending**.\n",
    "\n",
    "It will take a List as parameter.\n",
    "\n",
    "The elements of this list will be Tuples.\n",
    "\n",
    "Each Tuple may be in different length, so the size of the elements in the list is not fixed.\n",
    "\n",
    "The function will replace the last item in each Tuple element in the list with its square.\n",
    "\n",
    "**Hints:**\n",
    "* Mutate the original list (the parameter list will change in-place)\n",
    "* How can you get last element in a Tuple?\n",
    "* How to mutate the list, while looping over it?\n",
    "* You need to find a way to mutate the list (enumerate())\n",
    "* How to create a Tuple with single element?\n",
    "\n",
    "<pre style=\"background: gold;\">\n",
    "Parameter:\n",
    "tuple_list = [(2,5,8), (4,3), (1,7,9,6), (5,)]\n",
    "\n",
    "Expected Output:\n",
    "tuple_list before passing to function: [(2, 5, 8), (4, 3), (1, 7, 9, 6), (5,)]\n",
    "tuple_list after passing to function: [(2, 5, 64), (4, 9), (1, 7, 9, 36), (25,)]\n",
    "</pre>"
   ]
  },
  {
   "cell_type": "code",
   "execution_count": null,
   "metadata": {},
   "outputs": [],
   "source": [
    "# Q 7:\n",
    "\n",
    "# ---- your solution here ----\n",
    "    \n",
    "    \n",
    "# call the function you defined\n",
    "tuple_list = [(2,5,8), (4,3), (1,7,9,6), (5,)]\n",
    "print('tuple_list before passing to function:', tuple_list)\n",
    "\n",
    "change_tuple_ending(tuple_list)\n",
    "print('tuple_list after passing to function:', tuple_list)"
   ]
  },
  {
   "cell_type": "markdown",
   "metadata": {},
   "source": [
    "**Q 8:**\n",
    "\n",
    "Define a function named **movie_characters**.\n",
    "\n",
    "It will take 4 lists as parameters.\n",
    "\n",
    "4 lists:\n",
    "* List 1 -> Actor/Actress Name\n",
    "* List 2 -> Movie Title\n",
    "* List 3 -> Release Year\n",
    "* List 4 -> Character Name\n",
    "\n",
    "Function will take these 4 lists and create 2 Tuples out of them.\n",
    "\n",
    "Each Tuple will have 2 elements.\n",
    "* Tuple 1 -> (Actor/Actress Name, Character Name)\n",
    "* Tuple 2 -> (Movie Title, Release Year)\n",
    "\n",
    "It will use the Tuple 1 as the Key and Tuple 2 as the Value and create a Dictionary.\n",
    "\n",
    "And it will return this dictionary.\n",
    "\n",
    "**Hints:**\n",
    "* `zip()`\n",
    "\n",
    "<pre style=\"background: gold\">\n",
    "Parameters:\n",
    "actors = ['Marlon Brando', 'Heath Ledger', 'Natalie Portman', 'Emma Stone']\n",
    "characters = ['Don Vito Corleone', 'Joker', 'The Swan Queen', 'Mia']\n",
    "movies = ['The Godfather', 'The Dark Knight', 'Black Swan', 'La La Land']\n",
    "years = [1972, 2008, 2010, 2016]\n",
    "\n",
    "Expected Output:\n",
    "{('Marlon Brando', 'Don Vito Corleone'): ('The Godfather', 1972),\n",
    " ('Heath Ledger', 'Joker'): ('The Dark Knight', 2008),\n",
    " ('Natalie Portman', 'The Swan Queen'): ('Black Swan', 2010),\n",
    " ('Emma Stone', 'Mia'): ('La La Land', 2016)}\n",
    "</pre>"
   ]
  },
  {
   "cell_type": "code",
   "execution_count": null,
   "metadata": {},
   "outputs": [],
   "source": [
    "# Q 8:\n",
    "\n",
    "# ---- your solution here ----\n",
    "    \n",
    "    \n",
    "# call the function you defined\n",
    "# lists:\n",
    "actors = ['Marlon Brando', 'Heath Ledger', 'Natalie Portman', 'Emma Stone']\n",
    "characters = ['Don Vito Corleone', 'Joker', 'The Swan Queen', 'Mia']\n",
    "movies = ['The Godfather', 'The Dark Knight', 'Black Swan', 'La La Land']\n",
    "years = [1972, 2008, 2010, 2016]\n",
    "\n",
    "# call the functions\n",
    "movie_dictionary = movie_characters(actors, characters, movies, years)\n",
    "movie_dictionary"
   ]
  },
  {
   "cell_type": "markdown",
   "metadata": {},
   "source": [
    "### Set"
   ]
  },
  {
   "cell_type": "markdown",
   "metadata": {},
   "source": [
    "**Q 9:**\n",
    "\n",
    "\n",
    "Define a function named **all_elements**.\n",
    "\n",
    "It will take two Sets as parameters.\n",
    "\n",
    "The function will return all the elements (union) of both sets in a List.\n",
    "\n",
    "And this list is going to be sorted in ascending order.\n",
    "\n",
    "**Hints:**\n",
    "* no loops\n",
    "* union()\n",
    "* sort()\n",
    "\n",
    "<pre style=\"background: gold\">\n",
    "Parameters:\n",
    "set_1 = {10, 20, 30, 40, 50, 60}\n",
    "set_2 = {20, 40, 60, 80, 90, 100}\n",
    "\n",
    "Expected Output:\n",
    "[100, 90, 80, 60, 50, 40, 30, 20, 10]\n",
    "</pre>"
   ]
  },
  {
   "cell_type": "code",
   "execution_count": null,
   "metadata": {},
   "outputs": [],
   "source": [
    "# Q 9:\n",
    "\n",
    "# ---- your solution here ----\n",
    "    \n",
    "    \n",
    "# call the function you defined\n",
    "set_1 = {10, 20, 30, 40, 50, 60}\n",
    "set_2 = {20, 40, 60, 80, 90, 100}\n",
    "union = all_elements(set_1, set_2)\n",
    "print(union)"
   ]
  },
  {
   "cell_type": "markdown",
   "metadata": {},
   "source": [
    "**Q 10:**\n",
    "\n",
    "Define a function named **which_one_is_superset**.\n",
    "\n",
    "It will take two Sets (set_1, set_2) as parameters.\n",
    "\n",
    "If set_1 is the superset of set_2 it will return:\n",
    "* \"set_1: {....} is superset of set_2: {....}\"\n",
    "\n",
    "It the opposite is true it will return:\n",
    "* \"set_2: {....} is superset of set_1: {....}\"\n",
    "\n",
    "Here \"{....}\" are set elements.\n",
    "\n",
    "**Hints:**\n",
    "* no loop\n",
    "* issuperset()\n",
    "\n",
    "<pre style=\"background: gold\">\n",
    "Parameters:\n",
    "set_1 = {'a', 'b', 'c', 'd'}\n",
    "set_2 = {'d', 'b', 'e', 'f', 'a', 'c'}\n",
    "Expected Output:\n",
    "\"set_2: {'c', 'a', 'b', 'f', 'd', 'e'} is superset of set_1: {'b', 'c', 'd', 'a'}.\"\n",
    "\n",
    "----------------------------\n",
    "Parameters:\n",
    "set_1 = {'d', 'b', 'e', 'f', 'a', 'c'}\n",
    "set_2 = {'a', 'b', 'c', 'd'}\n",
    "Expected Output:\n",
    "\"set_1: {'c', 'a', 'b', 'f', 'd', 'e'} is superset of set_2: {'b', 'c', 'd', 'a'}\"\n",
    "</pre>"
   ]
  },
  {
   "cell_type": "code",
   "execution_count": null,
   "metadata": {},
   "outputs": [],
   "source": [
    "# Q 10:\n",
    "\n",
    "# ---- your solution here ----\n",
    "    \n",
    "    \n",
    "# call the function you defined\n",
    "set_1 = {'a', 'b', 'c', 'd'}\n",
    "set_2 = {'d', 'b', 'e', 'f', 'a', 'c'}\n",
    "print(which_one_is_superset(set_1, set_2))\n",
    "\n",
    "set_1 = {'d', 'b', 'e', 'f', 'a', 'c'}\n",
    "set_2 = {'a', 'b', 'c', 'd'}\n",
    "print(which_one_is_superset(set_1, set_2))"
   ]
  },
  {
   "cell_type": "markdown",
   "metadata": {},
   "source": [
    "### Dictionary"
   ]
  },
  {
   "cell_type": "markdown",
   "metadata": {},
   "source": [
    "**Q 11:**\n",
    "\n",
    "Define 4 functions named **car_1, car_2, car_3, car_4**.\n",
    "\n",
    "These functions will create dictionaries as below (name of the dictionary will be car):\n",
    "\n",
    "<pre>\n",
    "{'brand': 'Ford',\n",
    " 'model': 'Mustang',\n",
    " 'year': 1964,\n",
    " 'color': 'Red',\n",
    " 'price': 30000,\n",
    " 'km': 89000,\n",
    " 'motor': 1.6}\n",
    "</pre>\n",
    "\n",
    "Functions will create the dictionary by different ways and return the dictionary.\n",
    "\n",
    "**Hints:**\n",
    "* { }\n",
    "* dict()\n",
    "* update()"
   ]
  },
  {
   "cell_type": "code",
   "execution_count": null,
   "metadata": {},
   "outputs": [],
   "source": [
    "# Q 11:\n",
    "\n",
    "# Function 1\n",
    "# ---- your solution here ----\n",
    "\n",
    "# call the function you defined\n",
    "print(car_1())\n",
    "\n",
    "\n",
    "# Function 2\n",
    "# ---- your solution here ----\n",
    "\n",
    "# call the function you defined\n",
    "print(car_2())\n",
    "\n",
    "\n",
    "# Function 3\n",
    "# ---- your solution here ----\n",
    "\n",
    "# call the function you defined\n",
    "print(car_3())\n",
    "\n",
    "\n",
    "# Function 4\n",
    "# ---- your solution here ----\n",
    "\n",
    "# call the function you defined\n",
    "print(car_4())"
   ]
  },
  {
   "cell_type": "markdown",
   "metadata": {},
   "source": [
    "**Q 12:**\n",
    "\n",
    "Define a function named **create_a_new_car**.\n",
    "\n",
    "It will call one of the functions defined in Q11 and will get the car dictionary.\n",
    "\n",
    "Then it will copy the items of this car dictionary into another dictionary via a loop.\n",
    "\n",
    "It will first copy all the elements in car dictionary, then create new keys via appending \"_2\" at the end of existing key, and create a new element.\n",
    "\n",
    "Values will be the same.\n",
    "\n",
    "It will return the new dictionary.\n",
    "\n",
    "**Hint:**\n",
    "* copy()\n",
    "* update()\n",
    "* items()\n",
    "\n",
    "<pre>\n",
    "Expected Output:\n",
    "\n",
    "{\n",
    " 'brand': 'Ford',\n",
    " 'model': 'Mustang',\n",
    " 'year': 1964,\n",
    " 'color': 'Red',\n",
    " 'price': 30000,\n",
    " 'km': 89000,\n",
    " 'motor': 1.6\n",
    " 'brand_2': 'Ford',\n",
    " 'model_2': 'Mustang',\n",
    " 'year_2': 1964,\n",
    " 'color_2': 'Red',\n",
    " 'price_2': 30000,\n",
    " 'km_2': 89000,\n",
    " 'motor_2': 1.6\n",
    " }\n",
    "</pre>"
   ]
  },
  {
   "cell_type": "code",
   "execution_count": null,
   "metadata": {},
   "outputs": [],
   "source": [
    "# Q 12:\n",
    "\n",
    "# ---- your solution here ----\n",
    "\n",
    "\n",
    "# call the function you defined\n",
    "create_a_new_car()"
   ]
  },
  {
   "cell_type": "markdown",
   "metadata": {},
   "source": [
    "**Q 13:**\n",
    "\n",
    "Define a function named **concat_dicts**.\n",
    "\n",
    "It will concatenate the dictionaries below and return the resulting dict.\n",
    "\n",
    "The function will take these dictionaries as parameters.\n",
    "\n",
    "**Hints**\n",
    "* use only one for loop\n",
    "* search for looping on multiple dictionaries. Here is an example for statement: **for x in (d1, d2, .... ):**\n",
    "* update()\n",
    "\n",
    "<pre>\n",
    "Dictionaries to concat:\n",
    "\n",
    "d1={4:120, 7:60}\n",
    "d2={'A': 300, 'B':400}\n",
    "d3={True: 'Correct', False: 'Incorrect'}\n",
    "\n",
    "Expected Output:\n",
    "{4: 120, 7: 60, 'A': 300, 'B': 400, True: 'Correct', False: 'Incorrect'}\n",
    "</pre>"
   ]
  },
  {
   "cell_type": "code",
   "execution_count": null,
   "metadata": {},
   "outputs": [],
   "source": [
    "# Q 13:\n",
    "\n",
    "# ---- your solution here ----\n",
    "    \n",
    "\n",
    "# call the function you defined\n",
    "d1={4:120, 7:60}\n",
    "d2={'A': 'AAA', 'B':'BBB'}\n",
    "d3={True: 'Correct', False: 'Incorrect'}\n",
    "\n",
    "d = concat_dicts(d1, d2, d3)\n",
    "print(d)"
   ]
  },
  {
   "cell_type": "markdown",
   "metadata": {},
   "source": [
    "### Comprehension"
   ]
  },
  {
   "cell_type": "markdown",
   "metadata": {},
   "source": [
    "**Q 14:**\n",
    "\n",
    "Define two functions named **get_sentences** and **get_sentences_comp**.\n",
    "\n",
    "They will take a paragraph as parameter.\n",
    "\n",
    "And they will return the sentences as list.\n",
    "\n",
    "The first function will use for loops and second one will use Comprehension.\n",
    "\n",
    "<pre style=\"background: gold\">\n",
    "paragraph = \"Lorem ipsum dolor sit amet, consectetur adipiscing elit. Ut enim ad minim veniam, quis nostrud exercitation ullamco. Duis aute irure dolor in reprehenderit in voluptate velit esse. Excepteur sint occaecat cupidatat non proident.\"\n",
    "\n",
    "Expected Output:\n",
    "['Lorem ipsum dolor sit amet, consectetur adipiscing elit', 'Ut enim ad minim veniam, quis nostrud exercitation ullamco', 'Duis aute irure dolor in reprehenderit in voluptate velit esse', 'Excepteur sint occaecat cupidatat non proident.']\n",
    "</pre>"
   ]
  },
  {
   "cell_type": "markdown",
   "metadata": {},
   "source": [
    "**Q 15:**\n",
    "\n",
    "Define a function named **word_lengths**.\n",
    "\n",
    "It will take a text as parameter.\n",
    "\n",
    "The function will return two lists.\n",
    "\n",
    "The first list is going to be the words in the text.\n",
    "\n",
    "And the second list will contain the lengths of these words.\n",
    "\n",
    "If the word is one ('the', 'in', 'as', 'at') it will ignore the word.\n",
    "\n",
    "**Hints:**\n",
    "* how a function returns multiple values -> Tuple\n",
    "* no loops\n",
    "* comprehensions only\n",
    "\n",
    "<pre style=\"background: gold\">\n",
    "Parameter:\n",
    "\"It takes all the running you can do, to keep in the same place. If you want to get somewhere else, you must run at least twice as fast as that!\"\n",
    "\n",
    "Expected Output:\n",
    "['It', 'takes', 'all', 'running', 'you', 'can', 'do,', 'to', 'keep', 'same', 'place.', 'If', 'you', 'want', 'to', 'get', 'somewhere', 'else,', 'you', 'must', 'run', 'least', 'twice', 'fast', 'that!']\n",
    "[2, 5, 3, 7, 3, 3, 3, 2, 4, 4, 6, 2, 3, 4, 2, 3, 9, 5, 3, 4, 3, 5, 5, 4, 5]\n",
    "</pre>"
   ]
  },
  {
   "cell_type": "code",
   "execution_count": null,
   "metadata": {},
   "outputs": [],
   "source": [
    "# Q 8:\n",
    "\n",
    "# ---- your solution here ----\n",
    "\n",
    "\n",
    "# call the function you defined\n",
    "# Alice's Adventures in Wonderland\n",
    "alice_in_wonderland = \"\"\"It takes all the running you can do, to keep in the same place. \n",
    "If you want to get somewhere else, you must run at least twice as fast as that!\"\"\"\n",
    "\n",
    "# call the function and unpack the returning Tuple\n",
    "words, lengths = word_lengths(alice_in_wonderland)\n",
    "\n",
    "# now print them\n",
    "print(words)\n",
    "print(lengths)"
   ]
  }
 ],
 "metadata": {
  "interpreter": {
   "hash": "57bf76975cc595d48b87e49d5e3d532889b23fc7a4ecec7f9d567f947a53ee0d"
  },
  "kernelspec": {
   "display_name": "Python 3.9.1 64-bit",
   "language": "python",
   "name": "python3"
  },
  "language_info": {
   "codemirror_mode": {
    "name": "ipython",
    "version": 3
   },
   "file_extension": ".py",
   "mimetype": "text/x-python",
   "name": "python",
   "nbconvert_exporter": "python",
   "pygments_lexer": "ipython3",
   "version": "3.10.2"
  },
  "orig_nbformat": 4
 },
 "nbformat": 4,
 "nbformat_minor": 2
}
