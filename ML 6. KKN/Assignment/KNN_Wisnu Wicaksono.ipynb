{
 "cells": [
  {
   "cell_type": "code",
   "execution_count": 1,
   "metadata": {},
   "outputs": [],
   "source": [
    "import numpy as np\n",
    "import pandas as pd\n",
    "from sklearn.model_selection import train_test_split\n",
    "from scipy.stats import mode\n",
    "from sklearn.neighbors import KNeighborsClassifier\n",
    "from sklearn.preprocessing import LabelEncoder\n",
    "from sklearn.metrics import accuracy_score"
   ]
  },
  {
   "cell_type": "code",
   "execution_count": 3,
   "metadata": {},
   "outputs": [],
   "source": [
    "data = pd.read_csv(\"pima-indians-diabetes.csv\")"
   ]
  },
  {
   "cell_type": "code",
   "execution_count": 6,
   "metadata": {},
   "outputs": [],
   "source": [
    "def euclidean(x,x_train):\n",
    "  return np.sqrt(np.sum(np.square(x-x_train),axis=1))\n",
    "\n",
    "#Fungsi KNN\n",
    "def KNN(X_test, X_train, Y_train, K):\n",
    "  m_test, n = X_test.shape\n",
    "  m, n = X_train.shape\n",
    "  \n",
    "  Y_Predict = np.zeros(m_test) \n",
    "\n",
    "  for i in range(m_test):\n",
    "    x = X_test[i]\n",
    "    neighbors = np.zeros(K)\n",
    "    euclidean_distance = np.zeros(m)\n",
    "\n",
    "    for j in range(m):\n",
    "      d = euclidean(x, X_train[j])\n",
    "      euclidean_distance[j] = d\n",
    "      \n",
    "    inds = euclidean_distance.argsort()\n",
    "    Y_train_sorted = Y_train[inds]\n",
    "    neighbors = Y_train_sorted[:K]\n",
    "\n",
    "    Y_Predict[i] = mode(neighbors)[0][0]\n",
    "\n",
    "  return Y_Predict"
   ]
  }
 ],
 "metadata": {
  "interpreter": {
   "hash": "e8bc074f59d22ad7742bdc62511c89fc022c515501e3919d5819c75db9c2f474"
  },
  "kernelspec": {
   "display_name": "Python 3.10.2 64-bit",
   "language": "python",
   "name": "python3"
  },
  "language_info": {
   "codemirror_mode": {
    "name": "ipython",
    "version": 3
   },
   "file_extension": ".py",
   "mimetype": "text/x-python",
   "name": "python",
   "nbconvert_exporter": "python",
   "pygments_lexer": "ipython3",
   "version": "3.10.2"
  },
  "orig_nbformat": 4
 },
 "nbformat": 4,
 "nbformat_minor": 2
}
