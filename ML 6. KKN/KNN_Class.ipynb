{
  "cells": [
    {
      "cell_type": "code",
      "execution_count": 1,
      "metadata": {
        "id": "8ikGgFOf05yY"
      },
      "outputs": [],
      "source": [
        "import numpy as np\n",
        "import pandas as pd\n",
        "from sklearn.model_selection import train_test_split\n",
        "from scipy.stats import mode\n",
        "from sklearn.neighbors import KNeighborsClassifier\n",
        "from sklearn.preprocessing import LabelEncoder\n",
        "from sklearn.metrics import accuracy_score\n"
      ]
    },
    {
      "cell_type": "code",
      "execution_count": 2,
      "metadata": {
        "id": "2l2LPReN1do-"
      },
      "outputs": [],
      "source": [
        "data = pd.read_csv('apples_and_oranges.csv')"
      ]
    },
    {
      "cell_type": "code",
      "execution_count": 3,
      "metadata": {
        "id": "MX_NBs_h1ls0"
      },
      "outputs": [
        {
          "data": {
            "text/html": [
              "<div>\n",
              "<style scoped>\n",
              "    .dataframe tbody tr th:only-of-type {\n",
              "        vertical-align: middle;\n",
              "    }\n",
              "\n",
              "    .dataframe tbody tr th {\n",
              "        vertical-align: top;\n",
              "    }\n",
              "\n",
              "    .dataframe thead th {\n",
              "        text-align: right;\n",
              "    }\n",
              "</style>\n",
              "<table border=\"1\" class=\"dataframe\">\n",
              "  <thead>\n",
              "    <tr style=\"text-align: right;\">\n",
              "      <th></th>\n",
              "      <th>Weight</th>\n",
              "      <th>Size</th>\n",
              "      <th>Class</th>\n",
              "    </tr>\n",
              "  </thead>\n",
              "  <tbody>\n",
              "    <tr>\n",
              "      <th>0</th>\n",
              "      <td>69</td>\n",
              "      <td>4.39</td>\n",
              "      <td>orange</td>\n",
              "    </tr>\n",
              "    <tr>\n",
              "      <th>1</th>\n",
              "      <td>69</td>\n",
              "      <td>4.21</td>\n",
              "      <td>orange</td>\n",
              "    </tr>\n",
              "    <tr>\n",
              "      <th>2</th>\n",
              "      <td>65</td>\n",
              "      <td>4.09</td>\n",
              "      <td>orange</td>\n",
              "    </tr>\n",
              "    <tr>\n",
              "      <th>3</th>\n",
              "      <td>72</td>\n",
              "      <td>5.85</td>\n",
              "      <td>apple</td>\n",
              "    </tr>\n",
              "    <tr>\n",
              "      <th>4</th>\n",
              "      <td>67</td>\n",
              "      <td>4.70</td>\n",
              "      <td>orange</td>\n",
              "    </tr>\n",
              "    <tr>\n",
              "      <th>5</th>\n",
              "      <td>73</td>\n",
              "      <td>5.68</td>\n",
              "      <td>apple</td>\n",
              "    </tr>\n",
              "    <tr>\n",
              "      <th>6</th>\n",
              "      <td>70</td>\n",
              "      <td>5.56</td>\n",
              "      <td>apple</td>\n",
              "    </tr>\n",
              "    <tr>\n",
              "      <th>7</th>\n",
              "      <td>75</td>\n",
              "      <td>5.11</td>\n",
              "      <td>apple</td>\n",
              "    </tr>\n",
              "    <tr>\n",
              "      <th>8</th>\n",
              "      <td>74</td>\n",
              "      <td>5.36</td>\n",
              "      <td>apple</td>\n",
              "    </tr>\n",
              "    <tr>\n",
              "      <th>9</th>\n",
              "      <td>65</td>\n",
              "      <td>4.27</td>\n",
              "      <td>orange</td>\n",
              "    </tr>\n",
              "    <tr>\n",
              "      <th>10</th>\n",
              "      <td>73</td>\n",
              "      <td>5.79</td>\n",
              "      <td>apple</td>\n",
              "    </tr>\n",
              "    <tr>\n",
              "      <th>11</th>\n",
              "      <td>70</td>\n",
              "      <td>5.47</td>\n",
              "      <td>apple</td>\n",
              "    </tr>\n",
              "    <tr>\n",
              "      <th>12</th>\n",
              "      <td>74</td>\n",
              "      <td>5.53</td>\n",
              "      <td>apple</td>\n",
              "    </tr>\n",
              "    <tr>\n",
              "      <th>13</th>\n",
              "      <td>68</td>\n",
              "      <td>4.47</td>\n",
              "      <td>orange</td>\n",
              "    </tr>\n",
              "    <tr>\n",
              "      <th>14</th>\n",
              "      <td>74</td>\n",
              "      <td>5.22</td>\n",
              "      <td>apple</td>\n",
              "    </tr>\n",
              "    <tr>\n",
              "      <th>15</th>\n",
              "      <td>65</td>\n",
              "      <td>4.48</td>\n",
              "      <td>orange</td>\n",
              "    </tr>\n",
              "    <tr>\n",
              "      <th>16</th>\n",
              "      <td>69</td>\n",
              "      <td>4.66</td>\n",
              "      <td>orange</td>\n",
              "    </tr>\n",
              "    <tr>\n",
              "      <th>17</th>\n",
              "      <td>75</td>\n",
              "      <td>5.25</td>\n",
              "      <td>apple</td>\n",
              "    </tr>\n",
              "    <tr>\n",
              "      <th>18</th>\n",
              "      <td>67</td>\n",
              "      <td>4.18</td>\n",
              "      <td>orange</td>\n",
              "    </tr>\n",
              "    <tr>\n",
              "      <th>19</th>\n",
              "      <td>74</td>\n",
              "      <td>5.50</td>\n",
              "      <td>apple</td>\n",
              "    </tr>\n",
              "    <tr>\n",
              "      <th>20</th>\n",
              "      <td>66</td>\n",
              "      <td>4.13</td>\n",
              "      <td>orange</td>\n",
              "    </tr>\n",
              "    <tr>\n",
              "      <th>21</th>\n",
              "      <td>70</td>\n",
              "      <td>4.83</td>\n",
              "      <td>orange</td>\n",
              "    </tr>\n",
              "    <tr>\n",
              "      <th>22</th>\n",
              "      <td>69</td>\n",
              "      <td>4.61</td>\n",
              "      <td>orange</td>\n",
              "    </tr>\n",
              "    <tr>\n",
              "      <th>23</th>\n",
              "      <td>68</td>\n",
              "      <td>4.08</td>\n",
              "      <td>orange</td>\n",
              "    </tr>\n",
              "    <tr>\n",
              "      <th>24</th>\n",
              "      <td>67</td>\n",
              "      <td>4.25</td>\n",
              "      <td>orange</td>\n",
              "    </tr>\n",
              "    <tr>\n",
              "      <th>25</th>\n",
              "      <td>71</td>\n",
              "      <td>5.35</td>\n",
              "      <td>apple</td>\n",
              "    </tr>\n",
              "    <tr>\n",
              "      <th>26</th>\n",
              "      <td>67</td>\n",
              "      <td>4.01</td>\n",
              "      <td>orange</td>\n",
              "    </tr>\n",
              "    <tr>\n",
              "      <th>27</th>\n",
              "      <td>70</td>\n",
              "      <td>4.22</td>\n",
              "      <td>orange</td>\n",
              "    </tr>\n",
              "    <tr>\n",
              "      <th>28</th>\n",
              "      <td>74</td>\n",
              "      <td>5.25</td>\n",
              "      <td>apple</td>\n",
              "    </tr>\n",
              "    <tr>\n",
              "      <th>29</th>\n",
              "      <td>71</td>\n",
              "      <td>5.26</td>\n",
              "      <td>apple</td>\n",
              "    </tr>\n",
              "    <tr>\n",
              "      <th>30</th>\n",
              "      <td>73</td>\n",
              "      <td>5.78</td>\n",
              "      <td>apple</td>\n",
              "    </tr>\n",
              "    <tr>\n",
              "      <th>31</th>\n",
              "      <td>66</td>\n",
              "      <td>4.68</td>\n",
              "      <td>orange</td>\n",
              "    </tr>\n",
              "    <tr>\n",
              "      <th>32</th>\n",
              "      <td>72</td>\n",
              "      <td>5.72</td>\n",
              "      <td>apple</td>\n",
              "    </tr>\n",
              "    <tr>\n",
              "      <th>33</th>\n",
              "      <td>73</td>\n",
              "      <td>5.17</td>\n",
              "      <td>apple</td>\n",
              "    </tr>\n",
              "    <tr>\n",
              "      <th>34</th>\n",
              "      <td>68</td>\n",
              "      <td>4.83</td>\n",
              "      <td>orange</td>\n",
              "    </tr>\n",
              "    <tr>\n",
              "      <th>35</th>\n",
              "      <td>69</td>\n",
              "      <td>4.11</td>\n",
              "      <td>orange</td>\n",
              "    </tr>\n",
              "    <tr>\n",
              "      <th>36</th>\n",
              "      <td>69</td>\n",
              "      <td>4.76</td>\n",
              "      <td>orange</td>\n",
              "    </tr>\n",
              "    <tr>\n",
              "      <th>37</th>\n",
              "      <td>74</td>\n",
              "      <td>5.48</td>\n",
              "      <td>apple</td>\n",
              "    </tr>\n",
              "    <tr>\n",
              "      <th>38</th>\n",
              "      <td>70</td>\n",
              "      <td>5.59</td>\n",
              "      <td>apple</td>\n",
              "    </tr>\n",
              "    <tr>\n",
              "      <th>39</th>\n",
              "      <td>73</td>\n",
              "      <td>5.03</td>\n",
              "      <td>apple</td>\n",
              "    </tr>\n",
              "  </tbody>\n",
              "</table>\n",
              "</div>"
            ],
            "text/plain": [
              "    Weight  Size   Class\n",
              "0       69  4.39  orange\n",
              "1       69  4.21  orange\n",
              "2       65  4.09  orange\n",
              "3       72  5.85   apple\n",
              "4       67  4.70  orange\n",
              "5       73  5.68   apple\n",
              "6       70  5.56   apple\n",
              "7       75  5.11   apple\n",
              "8       74  5.36   apple\n",
              "9       65  4.27  orange\n",
              "10      73  5.79   apple\n",
              "11      70  5.47   apple\n",
              "12      74  5.53   apple\n",
              "13      68  4.47  orange\n",
              "14      74  5.22   apple\n",
              "15      65  4.48  orange\n",
              "16      69  4.66  orange\n",
              "17      75  5.25   apple\n",
              "18      67  4.18  orange\n",
              "19      74  5.50   apple\n",
              "20      66  4.13  orange\n",
              "21      70  4.83  orange\n",
              "22      69  4.61  orange\n",
              "23      68  4.08  orange\n",
              "24      67  4.25  orange\n",
              "25      71  5.35   apple\n",
              "26      67  4.01  orange\n",
              "27      70  4.22  orange\n",
              "28      74  5.25   apple\n",
              "29      71  5.26   apple\n",
              "30      73  5.78   apple\n",
              "31      66  4.68  orange\n",
              "32      72  5.72   apple\n",
              "33      73  5.17   apple\n",
              "34      68  4.83  orange\n",
              "35      69  4.11  orange\n",
              "36      69  4.76  orange\n",
              "37      74  5.48   apple\n",
              "38      70  5.59   apple\n",
              "39      73  5.03   apple"
            ]
          },
          "execution_count": 3,
          "metadata": {},
          "output_type": "execute_result"
        }
      ],
      "source": [
        "data"
      ]
    },
    {
      "cell_type": "markdown",
      "metadata": {
        "id": "1SuQNtap1o9M"
      },
      "source": [
        "## Membuat algoritma KNN manual"
      ]
    },
    {
      "cell_type": "code",
      "execution_count": 4,
      "metadata": {
        "id": "jG4W3Wsy1rro"
      },
      "outputs": [],
      "source": [
        "# fungsi euclidean distance\n",
        "def euclidean(x, x_train):\n",
        "  return np.sqrt(np.sum(np.square(x-x_train)))\n",
        "\n",
        "#fungsi KNN\n",
        "\n",
        "def KNN(X_test, X_train, Y_train, K):\n",
        "\n",
        "  #jumlah datanya\n",
        "  m_test, n = X_test.shape\n",
        "  m, n = X_train.shape\n",
        "\n",
        "  # inisialisasi Y_Predict\n",
        "  Y_Predict = np.zeros(m_test)\n",
        "\n",
        "  for i in range(m_test):\n",
        "    x = X_test[i]\n",
        "\n",
        "    neighbors = np.zeros(K)\n",
        "    euclidean_distance = np.zeros(m)\n",
        "\n",
        "    for j in range(m):\n",
        "      d = euclidean(x, X_train[j])\n",
        "      euclidean_distance[j] = d\n",
        "\n",
        "    inds = euclidean_distance.argsort()\n",
        "    Y_train_sorted = Y_train[inds]\n",
        "    neighbors = Y_train_sorted[:K]\n",
        "\n",
        "    Y_Predict[i] = mode(neighbors)[0][0]\n",
        "\n",
        "  return Y_Predict"
      ]
    },
    {
      "cell_type": "code",
      "execution_count": 5,
      "metadata": {
        "colab": {
          "base_uri": "https://localhost:8080/",
          "height": 206
        },
        "id": "aBrSmGic3pUt",
        "outputId": "26334a99-eef8-4fe9-e81a-28a5d5771cc4"
      },
      "outputs": [
        {
          "data": {
            "text/html": [
              "<div>\n",
              "<style scoped>\n",
              "    .dataframe tbody tr th:only-of-type {\n",
              "        vertical-align: middle;\n",
              "    }\n",
              "\n",
              "    .dataframe tbody tr th {\n",
              "        vertical-align: top;\n",
              "    }\n",
              "\n",
              "    .dataframe thead th {\n",
              "        text-align: right;\n",
              "    }\n",
              "</style>\n",
              "<table border=\"1\" class=\"dataframe\">\n",
              "  <thead>\n",
              "    <tr style=\"text-align: right;\">\n",
              "      <th></th>\n",
              "      <th>Weight</th>\n",
              "      <th>Size</th>\n",
              "      <th>Class</th>\n",
              "    </tr>\n",
              "  </thead>\n",
              "  <tbody>\n",
              "    <tr>\n",
              "      <th>0</th>\n",
              "      <td>69</td>\n",
              "      <td>4.39</td>\n",
              "      <td>orange</td>\n",
              "    </tr>\n",
              "    <tr>\n",
              "      <th>1</th>\n",
              "      <td>69</td>\n",
              "      <td>4.21</td>\n",
              "      <td>orange</td>\n",
              "    </tr>\n",
              "    <tr>\n",
              "      <th>2</th>\n",
              "      <td>65</td>\n",
              "      <td>4.09</td>\n",
              "      <td>orange</td>\n",
              "    </tr>\n",
              "    <tr>\n",
              "      <th>3</th>\n",
              "      <td>72</td>\n",
              "      <td>5.85</td>\n",
              "      <td>apple</td>\n",
              "    </tr>\n",
              "    <tr>\n",
              "      <th>4</th>\n",
              "      <td>67</td>\n",
              "      <td>4.70</td>\n",
              "      <td>orange</td>\n",
              "    </tr>\n",
              "  </tbody>\n",
              "</table>\n",
              "</div>"
            ],
            "text/plain": [
              "   Weight  Size   Class\n",
              "0      69  4.39  orange\n",
              "1      69  4.21  orange\n",
              "2      65  4.09  orange\n",
              "3      72  5.85   apple\n",
              "4      67  4.70  orange"
            ]
          },
          "execution_count": 5,
          "metadata": {},
          "output_type": "execute_result"
        }
      ],
      "source": [
        "data.head()"
      ]
    },
    {
      "cell_type": "code",
      "execution_count": 6,
      "metadata": {
        "id": "AAz0OVJf3tE3"
      },
      "outputs": [],
      "source": [
        "X = data.iloc[:,:-1].values\n",
        "Y = data.iloc[:, -1:].values"
      ]
    },
    {
      "cell_type": "code",
      "execution_count": 7,
      "metadata": {
        "colab": {
          "base_uri": "https://localhost:8080/"
        },
        "id": "rxFZMLow36Wh",
        "outputId": "61ba755a-782b-47fe-c8a7-e907f9be7418"
      },
      "outputs": [
        {
          "name": "stderr",
          "output_type": "stream",
          "text": [
            "C:\\Users\\wwica\\AppData\\Local\\Programs\\Python\\Python310\\lib\\site-packages\\sklearn\\preprocessing\\_label.py:115: DataConversionWarning: A column-vector y was passed when a 1d array was expected. Please change the shape of y to (n_samples, ), for example using ravel().\n",
            "  y = column_or_1d(y, warn=True)\n"
          ]
        }
      ],
      "source": [
        "#splitting\n",
        "X_train, X_test, y_train, y_test = train_test_split(X, Y, test_size=1/3, random_state=0)\n",
        "le = LabelEncoder()\n",
        "y_train = le.fit_transform(y_train)\n",
        "y_test = le.fit_transform(y_test)"
      ]
    },
    {
      "cell_type": "code",
      "execution_count": 8,
      "metadata": {
        "colab": {
          "base_uri": "https://localhost:8080/"
        },
        "id": "Znk-16x24Q5b",
        "outputId": "dccb06da-05fd-495f-a798-9071b5426267"
      },
      "outputs": [
        {
          "data": {
            "text/plain": [
              "KNeighborsClassifier(n_neighbors=25)"
            ]
          },
          "execution_count": 8,
          "metadata": {},
          "output_type": "execute_result"
        }
      ],
      "source": [
        "#membuat model pakai sklearn\n",
        "\n",
        "model1 = KNeighborsClassifier(n_neighbors=25)\n",
        "model1.fit(X_train, y_train)"
      ]
    },
    {
      "cell_type": "code",
      "execution_count": 9,
      "metadata": {
        "id": "lV9u7u1Z4Zxq"
      },
      "outputs": [],
      "source": [
        "#prediksi memakai sklearn dan KNN manual\n",
        "\n",
        "#knn manual\n",
        "y_pred = KNN(X_test, X_train, y_train, 3)\n",
        "y_pred_sk = model1.predict(X_test)"
      ]
    },
    {
      "cell_type": "code",
      "execution_count": 10,
      "metadata": {
        "id": "6lXosqBR4p3x"
      },
      "outputs": [],
      "source": [
        "jumlah_benar_manual = 0\n",
        "jumlah_benar_sklearn = 0"
      ]
    },
    {
      "cell_type": "code",
      "execution_count": 11,
      "metadata": {
        "id": "0Yzb00eR41PV"
      },
      "outputs": [],
      "source": [
        "count = 0\n",
        "for count in range(np.size(y_pred)):\n",
        "  if y_test[count] == y_pred[count]:\n",
        "    jumlah_benar_manual += 1\n",
        "  if y_test[count] == y_pred_sk[count]:\n",
        "    jumlah_benar_sklearn += 1\n",
        "  count = count+1"
      ]
    },
    {
      "cell_type": "code",
      "execution_count": 12,
      "metadata": {
        "colab": {
          "base_uri": "https://localhost:8080/"
        },
        "id": "IEpPYb-a5M6o",
        "outputId": "46f3b5cd-9f1a-41e9-ac39-eafb2229ddc7"
      },
      "outputs": [
        {
          "name": "stdout",
          "output_type": "stream",
          "text": [
            "Accuracy on test set by our model :  100.0\n",
            "Accuracy on test set by sklearn model :  42.857142857142854\n"
          ]
        }
      ],
      "source": [
        "print( \"Accuracy on test set by our model : \", (jumlah_benar_manual/count)*100)\n",
        "print( \"Accuracy on test set by sklearn model : \", (jumlah_benar_sklearn/count)*100)"
      ]
    },
    {
      "cell_type": "markdown",
      "metadata": {
        "id": "vb4nrg805dpT"
      },
      "source": [
        "Cari akurasi ketika K= 25, K= 15, dan K =4"
      ]
    },
    {
      "cell_type": "code",
      "execution_count": 13,
      "metadata": {
        "colab": {
          "base_uri": "https://localhost:8080/"
        },
        "id": "OrHTLKAr5jB4",
        "outputId": "b71ae14d-7dc4-458e-f7fd-de1ef18db900"
      },
      "outputs": [
        {
          "name": "stdout",
          "output_type": "stream",
          "text": [
            "Accuracy with K= 25 0.42857142857142855\n",
            "Accuracy with K= 15 0.9285714285714286\n",
            "Accuracy with K= 3 1.0\n"
          ]
        }
      ],
      "source": [
        "# K=25\n",
        "K = 25\n",
        "model1 = KNeighborsClassifier(n_neighbors=K)\n",
        "model1.fit(X_train, y_train)\n",
        "y_pred_sk = model1.predict(X_test)\n",
        "score = accuracy_score(y_pred_sk, y_test)\n",
        "print(f\"Accuracy with K= {K} {score}\")\n",
        "\n",
        "# K=15\n",
        "K = 15\n",
        "model1 = KNeighborsClassifier(n_neighbors=K)\n",
        "model1.fit(X_train, y_train)\n",
        "y_pred_sk = model1.predict(X_test)\n",
        "score = accuracy_score(y_pred_sk, y_test)\n",
        "print(f\"Accuracy with K= {K} {score}\")\n",
        "\n",
        "# K=3\n",
        "K = 3\n",
        "model1 = KNeighborsClassifier(n_neighbors=K)\n",
        "model1.fit(X_train, y_train)\n",
        "y_pred_sk = model1.predict(X_test)\n",
        "score = accuracy_score(y_pred_sk, y_test)\n",
        "print(f\"Accuracy with K= {K} {score}\")"
      ]
    }
  ],
  "metadata": {
    "colab": {
      "name": "KNN_Class.ipynb",
      "provenance": []
    },
    "kernelspec": {
      "display_name": "Python 3",
      "name": "python3"
    },
    "language_info": {
      "codemirror_mode": {
        "name": "ipython",
        "version": 3
      },
      "file_extension": ".py",
      "mimetype": "text/x-python",
      "name": "python",
      "nbconvert_exporter": "python",
      "pygments_lexer": "ipython3",
      "version": "3.10.2"
    }
  },
  "nbformat": 4,
  "nbformat_minor": 0
}
