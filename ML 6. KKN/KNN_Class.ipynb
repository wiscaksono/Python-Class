{
  "nbformat": 4,
  "nbformat_minor": 0,
  "metadata": {
    "colab": {
      "name": "KNN_Class.ipynb",
      "provenance": []
    },
    "kernelspec": {
      "name": "python3",
      "display_name": "Python 3"
    },
    "language_info": {
      "name": "python"
    }
  },
  "cells": [
    {
      "cell_type": "code",
      "execution_count": null,
      "metadata": {
        "id": "8ikGgFOf05yY"
      },
      "outputs": [],
      "source": [
        "import numpy as np\n",
        "import pandas as pd\n",
        "from sklearn.model_selection import train_test_split\n",
        "from scipy.stats import mode\n",
        "from sklearn.neighbors import KNeighborsClassifier\n",
        "from sklearn.preprocessing import LabelEncoder\n",
        "from sklearn.metrics import accuracy_score\n"
      ]
    },
    {
      "cell_type": "code",
      "source": [
        "data = pd.read_csv('apples_and_oranges.csv')"
      ],
      "metadata": {
        "id": "2l2LPReN1do-"
      },
      "execution_count": null,
      "outputs": []
    },
    {
      "cell_type": "code",
      "source": [
        "data"
      ],
      "metadata": {
        "id": "MX_NBs_h1ls0"
      },
      "execution_count": null,
      "outputs": []
    },
    {
      "cell_type": "markdown",
      "source": [
        "## Membuat algoritma KNN manual"
      ],
      "metadata": {
        "id": "1SuQNtap1o9M"
      }
    },
    {
      "cell_type": "code",
      "source": [
        "# fungsi euclidean distance\n",
        "def euclidean(x, x_train):\n",
        "  return np.sqrt(np.sum(np.square(x-x_train)))\n",
        "\n",
        "#fungsi KNN\n",
        "\n",
        "def KNN(X_test, X_train, Y_train, K):\n",
        "\n",
        "  #jumlah datanya\n",
        "  m_test, n = X_test.shape\n",
        "  m, n = X_train.shape\n",
        "\n",
        "  # inisialisasi Y_Predict\n",
        "  Y_Predict = np.zeros(m_test)\n",
        "\n",
        "  for i in range(m_test):\n",
        "    x = X_test[i]\n",
        "\n",
        "    neighbors = np.zeros(K)\n",
        "    euclidean_distance = np.zeros(m)\n",
        "\n",
        "    for j in range(m):\n",
        "      d = euclidean(x, X_train[j])\n",
        "      euclidean_distance[j] = d\n",
        "\n",
        "    inds = euclidean_distance.argsort()\n",
        "    Y_train_sorted = Y_train[inds]\n",
        "    neighbors = Y_train_sorted[:K]\n",
        "\n",
        "    Y_Predict[i] = mode(neighbors)[0][0]\n",
        "\n",
        "  return Y_Predict"
      ],
      "metadata": {
        "id": "jG4W3Wsy1rro"
      },
      "execution_count": null,
      "outputs": []
    },
    {
      "cell_type": "code",
      "source": [
        "data.head()"
      ],
      "metadata": {
        "colab": {
          "base_uri": "https://localhost:8080/",
          "height": 206
        },
        "id": "aBrSmGic3pUt",
        "outputId": "26334a99-eef8-4fe9-e81a-28a5d5771cc4"
      },
      "execution_count": null,
      "outputs": [
        {
          "output_type": "execute_result",
          "data": {
            "text/plain": [
              "   Weight  Size   Class\n",
              "0      69  4.39  orange\n",
              "1      69  4.21  orange\n",
              "2      65  4.09  orange\n",
              "3      72  5.85   apple\n",
              "4      67  4.70  orange"
            ],
            "text/html": [
              "\n",
              "  <div id=\"df-31fbfb50-f9be-4302-96d7-304a1684ebee\">\n",
              "    <div class=\"colab-df-container\">\n",
              "      <div>\n",
              "<style scoped>\n",
              "    .dataframe tbody tr th:only-of-type {\n",
              "        vertical-align: middle;\n",
              "    }\n",
              "\n",
              "    .dataframe tbody tr th {\n",
              "        vertical-align: top;\n",
              "    }\n",
              "\n",
              "    .dataframe thead th {\n",
              "        text-align: right;\n",
              "    }\n",
              "</style>\n",
              "<table border=\"1\" class=\"dataframe\">\n",
              "  <thead>\n",
              "    <tr style=\"text-align: right;\">\n",
              "      <th></th>\n",
              "      <th>Weight</th>\n",
              "      <th>Size</th>\n",
              "      <th>Class</th>\n",
              "    </tr>\n",
              "  </thead>\n",
              "  <tbody>\n",
              "    <tr>\n",
              "      <th>0</th>\n",
              "      <td>69</td>\n",
              "      <td>4.39</td>\n",
              "      <td>orange</td>\n",
              "    </tr>\n",
              "    <tr>\n",
              "      <th>1</th>\n",
              "      <td>69</td>\n",
              "      <td>4.21</td>\n",
              "      <td>orange</td>\n",
              "    </tr>\n",
              "    <tr>\n",
              "      <th>2</th>\n",
              "      <td>65</td>\n",
              "      <td>4.09</td>\n",
              "      <td>orange</td>\n",
              "    </tr>\n",
              "    <tr>\n",
              "      <th>3</th>\n",
              "      <td>72</td>\n",
              "      <td>5.85</td>\n",
              "      <td>apple</td>\n",
              "    </tr>\n",
              "    <tr>\n",
              "      <th>4</th>\n",
              "      <td>67</td>\n",
              "      <td>4.70</td>\n",
              "      <td>orange</td>\n",
              "    </tr>\n",
              "  </tbody>\n",
              "</table>\n",
              "</div>\n",
              "      <button class=\"colab-df-convert\" onclick=\"convertToInteractive('df-31fbfb50-f9be-4302-96d7-304a1684ebee')\"\n",
              "              title=\"Convert this dataframe to an interactive table.\"\n",
              "              style=\"display:none;\">\n",
              "        \n",
              "  <svg xmlns=\"http://www.w3.org/2000/svg\" height=\"24px\"viewBox=\"0 0 24 24\"\n",
              "       width=\"24px\">\n",
              "    <path d=\"M0 0h24v24H0V0z\" fill=\"none\"/>\n",
              "    <path d=\"M18.56 5.44l.94 2.06.94-2.06 2.06-.94-2.06-.94-.94-2.06-.94 2.06-2.06.94zm-11 1L8.5 8.5l.94-2.06 2.06-.94-2.06-.94L8.5 2.5l-.94 2.06-2.06.94zm10 10l.94 2.06.94-2.06 2.06-.94-2.06-.94-.94-2.06-.94 2.06-2.06.94z\"/><path d=\"M17.41 7.96l-1.37-1.37c-.4-.4-.92-.59-1.43-.59-.52 0-1.04.2-1.43.59L10.3 9.45l-7.72 7.72c-.78.78-.78 2.05 0 2.83L4 21.41c.39.39.9.59 1.41.59.51 0 1.02-.2 1.41-.59l7.78-7.78 2.81-2.81c.8-.78.8-2.07 0-2.86zM5.41 20L4 18.59l7.72-7.72 1.47 1.35L5.41 20z\"/>\n",
              "  </svg>\n",
              "      </button>\n",
              "      \n",
              "  <style>\n",
              "    .colab-df-container {\n",
              "      display:flex;\n",
              "      flex-wrap:wrap;\n",
              "      gap: 12px;\n",
              "    }\n",
              "\n",
              "    .colab-df-convert {\n",
              "      background-color: #E8F0FE;\n",
              "      border: none;\n",
              "      border-radius: 50%;\n",
              "      cursor: pointer;\n",
              "      display: none;\n",
              "      fill: #1967D2;\n",
              "      height: 32px;\n",
              "      padding: 0 0 0 0;\n",
              "      width: 32px;\n",
              "    }\n",
              "\n",
              "    .colab-df-convert:hover {\n",
              "      background-color: #E2EBFA;\n",
              "      box-shadow: 0px 1px 2px rgba(60, 64, 67, 0.3), 0px 1px 3px 1px rgba(60, 64, 67, 0.15);\n",
              "      fill: #174EA6;\n",
              "    }\n",
              "\n",
              "    [theme=dark] .colab-df-convert {\n",
              "      background-color: #3B4455;\n",
              "      fill: #D2E3FC;\n",
              "    }\n",
              "\n",
              "    [theme=dark] .colab-df-convert:hover {\n",
              "      background-color: #434B5C;\n",
              "      box-shadow: 0px 1px 3px 1px rgba(0, 0, 0, 0.15);\n",
              "      filter: drop-shadow(0px 1px 2px rgba(0, 0, 0, 0.3));\n",
              "      fill: #FFFFFF;\n",
              "    }\n",
              "  </style>\n",
              "\n",
              "      <script>\n",
              "        const buttonEl =\n",
              "          document.querySelector('#df-31fbfb50-f9be-4302-96d7-304a1684ebee button.colab-df-convert');\n",
              "        buttonEl.style.display =\n",
              "          google.colab.kernel.accessAllowed ? 'block' : 'none';\n",
              "\n",
              "        async function convertToInteractive(key) {\n",
              "          const element = document.querySelector('#df-31fbfb50-f9be-4302-96d7-304a1684ebee');\n",
              "          const dataTable =\n",
              "            await google.colab.kernel.invokeFunction('convertToInteractive',\n",
              "                                                     [key], {});\n",
              "          if (!dataTable) return;\n",
              "\n",
              "          const docLinkHtml = 'Like what you see? Visit the ' +\n",
              "            '<a target=\"_blank\" href=https://colab.research.google.com/notebooks/data_table.ipynb>data table notebook</a>'\n",
              "            + ' to learn more about interactive tables.';\n",
              "          element.innerHTML = '';\n",
              "          dataTable['output_type'] = 'display_data';\n",
              "          await google.colab.output.renderOutput(dataTable, element);\n",
              "          const docLink = document.createElement('div');\n",
              "          docLink.innerHTML = docLinkHtml;\n",
              "          element.appendChild(docLink);\n",
              "        }\n",
              "      </script>\n",
              "    </div>\n",
              "  </div>\n",
              "  "
            ]
          },
          "metadata": {},
          "execution_count": 7
        }
      ]
    },
    {
      "cell_type": "code",
      "source": [
        "X = data.iloc[:,:-1].values\n",
        "Y = data.iloc[:, -1:].values"
      ],
      "metadata": {
        "id": "AAz0OVJf3tE3"
      },
      "execution_count": null,
      "outputs": []
    },
    {
      "cell_type": "code",
      "source": [
        "#splitting\n",
        "X_train, X_test, y_train, y_test = train_test_split(X, Y, test_size=1/3, random_state=0)\n",
        "le = LabelEncoder()\n",
        "y_train = le.fit_transform(y_train)\n",
        "y_test = le.fit_transform(y_test)"
      ],
      "metadata": {
        "colab": {
          "base_uri": "https://localhost:8080/"
        },
        "id": "rxFZMLow36Wh",
        "outputId": "61ba755a-782b-47fe-c8a7-e907f9be7418"
      },
      "execution_count": null,
      "outputs": [
        {
          "output_type": "stream",
          "name": "stderr",
          "text": [
            "/usr/local/lib/python3.7/dist-packages/sklearn/preprocessing/_label.py:115: DataConversionWarning: A column-vector y was passed when a 1d array was expected. Please change the shape of y to (n_samples, ), for example using ravel().\n",
            "  y = column_or_1d(y, warn=True)\n"
          ]
        }
      ]
    },
    {
      "cell_type": "code",
      "source": [
        "#membuat model pakai sklearn\n",
        "\n",
        "model1 = KNeighborsClassifier(n_neighbors=25)\n",
        "model1.fit(X_train, y_train)"
      ],
      "metadata": {
        "colab": {
          "base_uri": "https://localhost:8080/"
        },
        "id": "Znk-16x24Q5b",
        "outputId": "dccb06da-05fd-495f-a798-9071b5426267"
      },
      "execution_count": null,
      "outputs": [
        {
          "output_type": "execute_result",
          "data": {
            "text/plain": [
              "KNeighborsClassifier(n_neighbors=3)"
            ]
          },
          "metadata": {},
          "execution_count": 15
        }
      ]
    },
    {
      "cell_type": "code",
      "source": [
        "#prediksi memakai sklearn dan KNN manual\n",
        "\n",
        "#knn manual\n",
        "y_pred = KNN(X_test, X_train, y_train, 3)\n",
        "y_pred_sk = model1.predict(X_test)"
      ],
      "metadata": {
        "id": "lV9u7u1Z4Zxq"
      },
      "execution_count": null,
      "outputs": []
    },
    {
      "cell_type": "code",
      "source": [
        "jumlah_benar_manual = 0\n",
        "jumlah_benar_sklearn = 0"
      ],
      "metadata": {
        "id": "6lXosqBR4p3x"
      },
      "execution_count": null,
      "outputs": []
    },
    {
      "cell_type": "code",
      "source": [
        "count = 0\n",
        "for count in range(np.size(y_pred)):\n",
        "  if y_test[count] == y_pred[count]:\n",
        "    jumlah_benar_manual += 1\n",
        "  if y_test[count] == y_pred_sk[count]:\n",
        "    jumlah_benar_sklearn += 1\n",
        "  count = count+1"
      ],
      "metadata": {
        "id": "0Yzb00eR41PV"
      },
      "execution_count": null,
      "outputs": []
    },
    {
      "cell_type": "code",
      "source": [
        "print( \"Accuracy on test set by our model : \", (jumlah_benar_manual/count)*100)\n",
        "print( \"Accuracy on test set by sklearn model : \", (jumlah_benar_sklearn/count)*100)"
      ],
      "metadata": {
        "colab": {
          "base_uri": "https://localhost:8080/"
        },
        "id": "IEpPYb-a5M6o",
        "outputId": "46f3b5cd-9f1a-41e9-ac39-eafb2229ddc7"
      },
      "execution_count": null,
      "outputs": [
        {
          "output_type": "stream",
          "name": "stdout",
          "text": [
            "Accuracy on test set by our model :  100.0\n",
            "Accuracy on test set by sklearn model :  100.0\n"
          ]
        }
      ]
    },
    {
      "cell_type": "markdown",
      "source": [
        "Cari akurasi ketika K= 25, K= 15, dan K =4"
      ],
      "metadata": {
        "id": "vb4nrg805dpT"
      }
    },
    {
      "cell_type": "code",
      "source": [
        "# K=25\n",
        "K = 25\n",
        "model1 = KNeighborsClassifier(n_neighbors=K)\n",
        "model1.fit(X_train, y_train)\n",
        "y_pred_sk = model1.predict(X_test)\n",
        "score = accuracy_score(y_pred_sk, y_test)\n",
        "print(f\"Accuracy with K= {K} {score}\")\n",
        "\n",
        "# K=15\n",
        "K = 15\n",
        "model1 = KNeighborsClassifier(n_neighbors=K)\n",
        "model1.fit(X_train, y_train)\n",
        "y_pred_sk = model1.predict(X_test)\n",
        "score = accuracy_score(y_pred_sk, y_test)\n",
        "print(f\"Accuracy with K= {K} {score}\")\n",
        "\n",
        "# K=3\n",
        "K = 3\n",
        "model1 = KNeighborsClassifier(n_neighbors=K)\n",
        "model1.fit(X_train, y_train)\n",
        "y_pred_sk = model1.predict(X_test)\n",
        "score = accuracy_score(y_pred_sk, y_test)\n",
        "print(f\"Accuracy with K= {K} {score}\")"
      ],
      "metadata": {
        "colab": {
          "base_uri": "https://localhost:8080/"
        },
        "id": "OrHTLKAr5jB4",
        "outputId": "b71ae14d-7dc4-458e-f7fd-de1ef18db900"
      },
      "execution_count": null,
      "outputs": [
        {
          "output_type": "stream",
          "name": "stdout",
          "text": [
            "Accuracy with K= 25 0.42857142857142855\n",
            "Accuracy with K= 15 0.9285714285714286\n",
            "Accuracy with K= 3 1.0\n"
          ]
        }
      ]
    }
  ]
}