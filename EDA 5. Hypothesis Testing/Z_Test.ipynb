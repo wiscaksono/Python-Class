{
 "cells": [
  {
   "cell_type": "markdown",
   "id": "19edd9cd-a1b1-43f6-8705-1586d9893823",
   "metadata": {},
   "source": [
    "Here, we flip a coin n times and we observe h heads. We want to know whether the coin is fair (null hypothesis). This example is particularly simple yet quite useful for pedagogical purposes. Besides, it is the basis of many more complex methods.\n",
    "\n",
    "We denote the Bernoulli distribution by B(q) with the unknown parameter q. You can refer to https://en.wikipedia.org/wiki/Bernoulli_distribution for more information.\n",
    "\n",
    "A Bernoulli variable is:\n",
    "\n",
    "0 (tail) with probability 1−q\n",
    "1 (head) with probability q\n",
    "Here are the steps required to conduct a simple statistical z-test:\n",
    "\n",
    "1.  Let's suppose that after n=100 flips, we get h=61 heads. We choose a significance level of 0.05: is the coin fair or not? Our null hypothesis is: the coin is fair (q=1/2). We set these variables:"
   ]
  },
  {
   "cell_type": "code",
   "execution_count": 9,
   "id": "03abb3cd-ccb0-4756-892d-58eab524900d",
   "metadata": {},
   "outputs": [],
   "source": [
    "import numpy as np\n",
    "import scipy.stats as stats\n",
    "\n",
    "n = 100  # number of coin flips\n",
    "h = 61  # number of heads\n",
    "q = .5  # null-hypothesis of fair coin"
   ]
  },
  {
   "cell_type": "markdown",
   "id": "27913940-e6fb-4ac8-b326-f5c680edc26c",
   "metadata": {},
   "source": [
    "2.  Let's compute the z-score, which is defined by the following formula (xbar is the estimated average of the distribution). We will explain this formula in the next section, How it works..."
   ]
  },
  {
   "cell_type": "code",
   "execution_count": 11,
   "id": "074eb3db-3cc9-45a4-8105-f58db71e7815",
   "metadata": {},
   "outputs": [
    {
     "data": {
      "text/plain": [
       "2.2"
      ]
     },
     "execution_count": 11,
     "metadata": {},
     "output_type": "execute_result"
    }
   ],
   "source": [
    "xbar = float(h) / n\n",
    "z = (xbar - q) * np.sqrt(n / (q * (1 - q)))\n",
    "# We don't want to display more than 4 decimals.\n",
    "z = round(z,4)\n",
    "z"
   ]
  },
  {
   "cell_type": "markdown",
   "id": "7addd0da-7b6f-42a4-a9a8-13be6cc14f97",
   "metadata": {},
   "source": [
    "Or we can use this neat function\n",
    "\n",
    "z = np.abs(stats.zscore(df['column']))"
   ]
  },
  {
   "cell_type": "markdown",
   "id": "e88ba4d9-af9f-4009-884d-db35ca2b3c2b",
   "metadata": {},
   "source": [
    "3.  Now, from the z-score, we can compute the p-value as follows:"
   ]
  },
  {
   "cell_type": "code",
   "execution_count": 10,
   "id": "24e0e53d-22c4-40de-ae00-ea3947ce6dd6",
   "metadata": {},
   "outputs": [
    {
     "data": {
      "text/plain": [
       "0.0278"
      ]
     },
     "execution_count": 10,
     "metadata": {},
     "output_type": "execute_result"
    }
   ],
   "source": [
    "pval = 2 * (1 - stats.norm.cdf(z))\n",
    "pval = round(pval,4)\n",
    "pval"
   ]
  },
  {
   "cell_type": "markdown",
   "id": "00f80547-1d7d-4447-a38b-bc0e68c978ca",
   "metadata": {},
   "source": [
    "4.  This p-value is less than 0.05, so we reject the null hypothesis and conclude that the coin is probably not fair."
   ]
  }
 ],
 "metadata": {
  "kernelspec": {
   "display_name": "Python 3 (ipykernel)",
   "language": "python",
   "name": "python3"
  },
  "language_info": {
   "codemirror_mode": {
    "name": "ipython",
    "version": 3
   },
   "file_extension": ".py",
   "mimetype": "text/x-python",
   "name": "python",
   "nbconvert_exporter": "python",
   "pygments_lexer": "ipython3",
   "version": "3.8.12"
  }
 },
 "nbformat": 4,
 "nbformat_minor": 5
}
