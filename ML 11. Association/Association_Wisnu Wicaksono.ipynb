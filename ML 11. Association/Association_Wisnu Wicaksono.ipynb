{
 "cells": [
  {
   "cell_type": "markdown",
   "metadata": {},
   "source": [
    "# To Do\n",
    "Coba cari asosiasi antara produk menggunakan dataset yang terlampir dan menggunakan metode apriori\n",
    "Apa yang harus ada?\n",
    "* Display data\n",
    "* Tampilan 2 asosiasi terbesar\n",
    "\n",
    "Step by step kurang lebih seperti di notebook yang ada di material"
   ]
  },
  {
   "cell_type": "code",
   "execution_count": 20,
   "metadata": {},
   "outputs": [],
   "source": [
    "import numpy as np\n",
    "import matplotlib.pyplot as plt\n",
    "import pandas as pd"
   ]
  },
  {
   "cell_type": "code",
   "execution_count": 33,
   "metadata": {},
   "outputs": [],
   "source": [
    "transactions = [\n",
    "    ['beer', 'wine', 'cheese'],\n",
    "    ['beer', 'potato chips'],\n",
    "    ['eggs', 'flower', 'butter', 'cheese'],\n",
    "    ['eggs', 'flower', 'butter', 'beer', 'potato chips'],\n",
    "    ['wine', 'cheese'],\n",
    "    ['potato chips'],\n",
    "    ['eggs', 'flower', 'butter', 'wine', 'cheese'],\n",
    "    ['eggs', 'flower', 'butter', 'beer', 'potato chips'],\n",
    "    ['wine', 'beer'],\n",
    "    ['beer', 'potato chips'],\n",
    "    ['butter', 'eggs'],\n",
    "    ['beer', 'potato chips'],\n",
    "    ['flower', 'eggs'],\n",
    "    ['beer', 'potato chips'],\n",
    "    ['eggs', 'flower', 'butter', 'wine', 'cheese'],\n",
    "    ['beer', 'wine', 'potato chips', 'cheese'],\n",
    "    ['wine', 'cheese'],\n",
    "    ['beer', 'potato chips'],\n",
    "    ['wine', 'cheese'],\n",
    "    ['beer', 'potato chips']\n",
    "]"
   ]
  }
 ],
 "metadata": {
  "interpreter": {
   "hash": "e8bc074f59d22ad7742bdc62511c89fc022c515501e3919d5819c75db9c2f474"
  },
  "kernelspec": {
   "display_name": "Python 3.10.2 64-bit",
   "language": "python",
   "name": "python3"
  },
  "language_info": {
   "codemirror_mode": {
    "name": "ipython",
    "version": 3
   },
   "file_extension": ".py",
   "mimetype": "text/x-python",
   "name": "python",
   "nbconvert_exporter": "python",
   "pygments_lexer": "ipython3",
   "version": "3.10.2"
  },
  "orig_nbformat": 4
 },
 "nbformat": 4,
 "nbformat_minor": 2
}
