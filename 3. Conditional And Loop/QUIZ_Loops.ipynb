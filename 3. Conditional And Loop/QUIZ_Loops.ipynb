{
 "cells": [
  {
   "cell_type": "markdown",
   "id": "durable-missile",
   "metadata": {},
   "source": [
    "## QUIZ - Loops\n"
   ]
  },
  {
   "cell_type": "markdown",
   "id": "equipped-brick",
   "metadata": {},
   "source": [
    "**Q 1:**\n",
    "\n",
    "Define a function that draw a square of stars on the screen.\n",
    "\n",
    "The function name will be **sqaure_of_stars_with_while**.\n",
    "\n",
    "The parameter will be number of stars in one side of square.\n",
    "\n",
    "Hints:\n",
    "\n",
    "- ask for number of stars from the user\n",
    "- use while loop\n",
    "\n",
    "<pre>\n",
    "Expected output for 5 stars:\n",
    "\n",
    "* * * * * \n",
    "* * * * * \n",
    "* * * * * \n",
    "* * * * * \n",
    "* * * * * \n",
    "</pre>\n"
   ]
  },
  {
   "cell_type": "code",
   "execution_count": 2,
   "id": "false-avatar",
   "metadata": {},
   "outputs": [
    {
     "name": "stdout",
     "output_type": "stream",
     "text": [
      "*  *  *  *  *  \n",
      "*  *  *  *  *  \n",
      "*  *  *  *  *  \n",
      "*  *  *  *  *  \n",
      "*  *  *  *  *  \n"
     ]
    }
   ],
   "source": [
    "# Q 1:\n",
    "\n",
    "# ----- your solution here -----\n",
    "n = int(input(\"Enter how many stars: \"))\n",
    "\n",
    "\n",
    "def square_of_stars_with_while(n):\n",
    "    i, j = 0, 0\n",
    "    while(i < n):\n",
    "        j = 0\n",
    "        while(j < n):\n",
    "            j = j + 1\n",
    "            print('*', end='  ')\n",
    "        i = i + 1\n",
    "        print('')\n",
    "\n",
    "# call the function you defined\n",
    "\n",
    "\n",
    "square_of_stars_with_while(n)\n"
   ]
  },
  {
   "cell_type": "markdown",
   "id": "disturbed-guidance",
   "metadata": {},
   "source": [
    "---\n"
   ]
  },
  {
   "cell_type": "markdown",
   "id": "failing-arrangement",
   "metadata": {},
   "source": [
    "**Q 2:**\n",
    "\n",
    "Define a function that draw a square of stars on the screen.\n",
    "\n",
    "The function name will be **sqaure_of_stars_with_for**.\n",
    "\n",
    "The parameter will be number of stars in one side of square.\n",
    "\n",
    "Hints:\n",
    "\n",
    "- ask for number of stars from the user\n",
    "- use for loop\n",
    "\n",
    "<pre>\n",
    "Expected output for 5 stars:\n",
    "\n",
    "* * * * * \n",
    "* * * * * \n",
    "* * * * * \n",
    "* * * * * \n",
    "* * * * * \n",
    "</pre>\n"
   ]
  },
  {
   "cell_type": "code",
   "execution_count": 12,
   "id": "overhead-distance",
   "metadata": {},
   "outputs": [
    {
     "name": "stdout",
     "output_type": "stream",
     "text": [
      "*  *  *  *  \n",
      "*  *  *  *  \n",
      "*  *  *  *  \n",
      "*  *  *  *  \n"
     ]
    }
   ],
   "source": [
    "# Q 2:\n",
    "\n",
    "# ----- your solution here -----\n",
    "def square_of_stars_with_for(n):\n",
    "    for i in range(n):\n",
    "        for j in range(n):\n",
    "            print('*', end='  ')\n",
    "        print('')\n",
    "\n",
    "\n",
    "# call the function you defined\n",
    "n = int(input(\"Enter the number of stars: \"))\n",
    "square_of_stars_with_for(n)\n"
   ]
  },
  {
   "cell_type": "markdown",
   "id": "little-credits",
   "metadata": {},
   "source": [
    "---\n"
   ]
  },
  {
   "cell_type": "markdown",
   "id": "rough-teddy",
   "metadata": {},
   "source": [
    "**Q 3:**\n",
    "\n",
    "Define a function that draw a right triangle (lower triangle) of stars on the screen.\n",
    "\n",
    "The function name will be **lower_triangle_with_while**.\n",
    "\n",
    "The parameter will be number of stars in one side of triangle.\n",
    "\n",
    "Hints:\n",
    "\n",
    "- ask for number of stars from the user\n",
    "- use while loop\n",
    "\n",
    "<pre>\n",
    "Expected output for 5 stars:\n",
    "(lower triangle)\n",
    "\n",
    "*\n",
    "* *\n",
    "* * *\n",
    "* * * * \n",
    "* * * * *\n",
    "</pre>\n"
   ]
  },
  {
   "cell_type": "code",
   "execution_count": 9,
   "id": "typical-stephen",
   "metadata": {},
   "outputs": [
    {
     "name": "stdout",
     "output_type": "stream",
     "text": [
      " * \n",
      " *  * \n",
      " *  *  * \n",
      "\n"
     ]
    }
   ],
   "source": [
    "# Q 3:\n",
    "\n",
    "# ----- your solution here -----\n",
    "\n",
    "def lower_triangle_with_while(x):\n",
    "    string = \"\"\n",
    "    bar = 1\n",
    "    x = int(input(\"Masukkan angka :\"))\n",
    "    while bar <= x:\n",
    "        kol = bar\n",
    "        while kol > 0:\n",
    "            string = string + \" * \"\n",
    "            kol = kol - 1\n",
    "        string = string + \"\\n\"\n",
    "        bar = bar + 1\n",
    "    print(string)\n",
    "\n",
    "\n",
    "# call the function you defined\n",
    "lower_triangle_with_while(3)\n"
   ]
  },
  {
   "cell_type": "markdown",
   "id": "final-gallery",
   "metadata": {},
   "source": [
    "---\n"
   ]
  },
  {
   "cell_type": "markdown",
   "id": "future-client",
   "metadata": {},
   "source": [
    "**Q 4:**\n",
    "\n",
    "Define a function that draw a right triangle (lower triangle) of stars on the screen.\n",
    "\n",
    "The function name will be **lower_triangle_with_for**.\n",
    "\n",
    "The parameter will be number of stars in one side of triangle.\n",
    "\n",
    "Hints:\n",
    "\n",
    "- ask for number of stars from the user\n",
    "- use for loop\n",
    "\n",
    "<pre>\n",
    "Expected output for 5 stars:\n",
    "(lower triangle)\n",
    "\n",
    "*\n",
    "* *\n",
    "* * *\n",
    "* * * * \n",
    "* * * * *\n",
    "</pre>\n"
   ]
  },
  {
   "cell_type": "code",
   "execution_count": 11,
   "id": "critical-reconstruction",
   "metadata": {},
   "outputs": [
    {
     "name": "stdout",
     "output_type": "stream",
     "text": [
      "* \n",
      "* * \n",
      "* * * \n",
      "* * * * \n",
      "* * * * * \n",
      "* * * * * * \n",
      "* * * * * * * \n",
      "* * * * * * * * \n",
      "* * * * * * * * * \n"
     ]
    }
   ],
   "source": [
    "# Q 4:\n",
    "\n",
    "# ----- your solution here -----\n",
    "\n",
    "def lower_triangle_with_for(n):\n",
    "    for i in range(0, n):\n",
    "        for j in range(0, i+1):\n",
    "            print(\"* \", end=\"\")\n",
    "        print(\"\\r\")\n",
    "\n",
    "\n",
    "# call the function you defined\n",
    "lower_triangle_with_for(9)\n"
   ]
  },
  {
   "cell_type": "markdown",
   "id": "indoor-private",
   "metadata": {},
   "source": [
    "---\n"
   ]
  },
  {
   "cell_type": "markdown",
   "id": "super-trading",
   "metadata": {},
   "source": [
    "**Q 5:**\n",
    "\n",
    "Define a function that draw a right triangle (upper triangle) of stars on the screen.\n",
    "\n",
    "The function name will be **upper_triangle_with_for**.\n",
    "\n",
    "The parameter will be number of stars in one side of triangle.\n",
    "\n",
    "Hints:\n",
    "\n",
    "- ask for number of stars from the user\n",
    "- use for loop\n",
    "\n",
    "<pre>\n",
    "Expected output for 5 stars:\n",
    "(upper triangle)\n",
    "\n",
    "* * * * * \n",
    "* * * * \n",
    "* * * \n",
    "* * \n",
    "* \n",
    "</pre>\n"
   ]
  },
  {
   "cell_type": "code",
   "execution_count": 20,
   "id": "powerful-journalist",
   "metadata": {},
   "outputs": [
    {
     "name": "stdout",
     "output_type": "stream",
     "text": [
      " *  *  *  *  *  *  *  *  * \n",
      " *  *  *  *  *  *  *  * \n",
      " *  *  *  *  *  *  * \n",
      " *  *  *  *  *  * \n",
      " *  *  *  *  * \n",
      " *  *  *  * \n",
      " *  *  * \n",
      " *  * \n",
      " * \n",
      "\n"
     ]
    }
   ],
   "source": [
    "# Q 5:\n",
    "\n",
    "# ----- your solution here -----\n",
    "\n",
    "bar = int(input(\"Masukkan angka :\"))\n",
    "\n",
    "\n",
    "def upper_triangle_with_for(bar):\n",
    "    string = \"\"\n",
    "    for i in range(bar):\n",
    "        kol = bar\n",
    "        for j in range(kol):\n",
    "            string = string + \" * \"\n",
    "            kol = kol - 1\n",
    "        string = string + \"\\n\"\n",
    "        bar = bar - 1\n",
    "    print(string)\n",
    "\n",
    "\n",
    "# call the function you defined\n",
    "upper_triangle_with_for(bar)\n"
   ]
  },
  {
   "cell_type": "markdown",
   "id": "serial-verse",
   "metadata": {},
   "source": [
    "---\n"
   ]
  },
  {
   "cell_type": "markdown",
   "id": "blessed-working",
   "metadata": {},
   "source": [
    "**Q 6:**\n",
    "\n",
    "Define a function that draw an isosceles triangle of stars on the screen.\n",
    "\n",
    "The function name will be **isosceles_triangle_with_for**.\n",
    "\n",
    "The parameter will be number of stars in half of the long side of triangle.\n",
    "\n",
    "Hints:\n",
    "\n",
    "- ask for number of stars from the user\n",
    "- call previous functions for drawing\n",
    "\n",
    "<pre>\n",
    "Expected output for 5 stars:\n",
    "(upper triangle)\n",
    "\n",
    "* \n",
    "* * \n",
    "* * * \n",
    "* * * * \n",
    "* * * * * \n",
    "* * * * \n",
    "* * * \n",
    "* * \n",
    "* \n",
    "</pre>\n"
   ]
  },
  {
   "cell_type": "code",
   "execution_count": 41,
   "id": "alone-syria",
   "metadata": {},
   "outputs": [
    {
     "name": "stdout",
     "output_type": "stream",
     "text": [
      " * \n",
      " *  * \n",
      " *  *  * \n",
      " *  *  *  * \n",
      " *  *  *  *  * \n",
      " *  *  *  * \n",
      " *  *  * \n",
      " *  * \n",
      " * \n",
      "\n"
     ]
    }
   ],
   "source": [
    "# Q 6:\n",
    "\n",
    "# ----- your solution here -----\n",
    "\n",
    "\n",
    "def isosceles_triangle_with_for(n):\n",
    "    for i in range(0, n):\n",
    "        for j in range(0, i+1):\n",
    "            print(\" * \", end=\"\")\n",
    "        print(\"\\r\")\n",
    "    string = \"\"\n",
    "    n = n - 1\n",
    "    for i in range(n):\n",
    "        kol = n\n",
    "        for j in range(kol):\n",
    "            string = string + \" * \"\n",
    "            kol = kol - 1\n",
    "        string = string + \"\\n\"\n",
    "        n = n - 1\n",
    "    print(string)\n",
    "\n",
    "# call the function you defined\n",
    "isosceles_triangle_with_for(5)"
   ]
  },
  {
   "cell_type": "markdown",
   "id": "minute-romance",
   "metadata": {},
   "source": [
    "---\n"
   ]
  },
  {
   "cell_type": "markdown",
   "id": "ruled-meter",
   "metadata": {},
   "source": [
    "**Q 7:**\n",
    "\n",
    "Define a `bool` function which checks if the given number (parameter) is a prime number.\n",
    "\n",
    "The function name will be **is_prime** and it will return True if the number is prime, False otherwise.\n"
   ]
  },
  {
   "cell_type": "code",
   "execution_count": 48,
   "id": "still-genome",
   "metadata": {},
   "outputs": [
    {
     "data": {
      "text/plain": [
       "True"
      ]
     },
     "execution_count": 48,
     "metadata": {},
     "output_type": "execute_result"
    }
   ],
   "source": [
    "# Q 7:\n",
    "\n",
    "# ----- your solution here -----\n",
    "\n",
    "from math import sqrt\n",
    " \n",
    "def is_prime(n):\n",
    "    if (n <= 1):\n",
    "        return False\n",
    "    for i in range(2, int(sqrt(n))+1):\n",
    "        if (n % i == 0):\n",
    "            return False\n",
    " \n",
    "    return True\n",
    "\n",
    "# call the function you defined\n",
    "is_prime(11)\n"
   ]
  },
  {
   "cell_type": "markdown",
   "id": "utility-reach",
   "metadata": {},
   "source": [
    "---\n"
   ]
  },
  {
   "cell_type": "markdown",
   "id": "sonic-rugby",
   "metadata": {},
   "source": [
    "**Q 8:**\n",
    "\n",
    "Define a function named **prime_factors**.\n",
    "\n",
    "The function will take an integer parameter and will find all the `prime factors` of that number.\n"
   ]
  },
  {
   "cell_type": "code",
   "execution_count": 54,
   "id": "quiet-gothic",
   "metadata": {},
   "outputs": [
    {
     "name": "stdout",
     "output_type": "stream",
     "text": [
      "2\n",
      "3\n",
      "3\n",
      "5\n"
     ]
    }
   ],
   "source": [
    "# Q 8:\n",
    "\n",
    "# ----- your solution here -----\n",
    "\n",
    "import math\n",
    "def prime_factors(n):\n",
    "    while n % 2 == 0:\n",
    "        print (2),\n",
    "        n = n / 2\n",
    "    for i in range(3,int(math.sqrt(n))+1,2):\n",
    "        while n % i== 0:\n",
    "            print (i),\n",
    "            n = n / i\n",
    "    if n > 2:\n",
    "        print (n)\n",
    "\n",
    "# call the function you defined\n",
    "prime_factors(90)\n"
   ]
  },
  {
   "cell_type": "markdown",
   "id": "greenhouse-click",
   "metadata": {},
   "source": [
    "---\n"
   ]
  },
  {
   "cell_type": "markdown",
   "id": "cleared-woman",
   "metadata": {},
   "source": [
    "**Q 9:**\n",
    "\n",
    "Define a function named **trees_and_fives**.\n",
    "\n",
    "It will loop over the integers from 1 to 50, both included.\n",
    "\n",
    "It will print the numbers but:\n",
    "\n",
    "- If the number is a multiple of 3 it will print \"Trees\" instead of the number\n",
    "- If the number is a multiple of 5 it will print \"Fives\" instead of the number\n",
    "- If the number is a multiple of both 3 and 5 it will print \"Trees&Fives\" instead of the number\n"
   ]
  },
  {
   "cell_type": "code",
   "execution_count": 57,
   "id": "loving-margin",
   "metadata": {},
   "outputs": [
    {
     "name": "stdout",
     "output_type": "stream",
     "text": [
      "1\n",
      "2\n",
      "Trees\n",
      "4\n",
      "Fives\n",
      "Trees\n",
      "7\n",
      "8\n",
      "Trees\n",
      "Fives\n",
      "11\n",
      "Trees\n",
      "13\n",
      "14\n",
      "Trees&Fives\n",
      "16\n",
      "17\n",
      "Trees\n",
      "19\n",
      "Fives\n"
     ]
    }
   ],
   "source": [
    "# Q 9:\n",
    "\n",
    "# ----- your solution here -----\n",
    "\n",
    "def trees_and_fives(n):\n",
    "    a = 3\n",
    "    b = 5\n",
    "    for i in range(1,n+1):\n",
    "        s = \"\"\n",
    "        if (i == b and i == a):\n",
    "            a = a + 3\n",
    "            b = b + 5\n",
    "            s = s + \"Trees&Fives\"\n",
    "        if (i == a):\n",
    "            a = a + 3\n",
    "            s = s + \"Trees\"\n",
    "        if (i == b):\n",
    "            b = b + 5\n",
    "            s = s + \"Fives\"\n",
    "        if (s == \"\"):\n",
    "            print(i)\n",
    "        else:\n",
    "            print(s) \n",
    "\n",
    "# call the function you defined\n",
    "trees_and_fives(20)\n"
   ]
  },
  {
   "cell_type": "markdown",
   "id": "registered-helmet",
   "metadata": {},
   "source": [
    "---\n"
   ]
  },
  {
   "cell_type": "markdown",
   "id": "vulnerable-window",
   "metadata": {},
   "source": [
    "**Q 10:**\n",
    "\n",
    "Define a function named **concat_sentence**.\n",
    "\n",
    "The function will take a string as parameter (sentence).\n",
    "\n",
    "It will first split this sentence into its words.\n",
    "\n",
    "Then it will split each word into its characters.\n",
    "\n",
    "And it will add \"-\" between each character.\n",
    "\n",
    "Moreover it will add \"\\_\\_\" (double underscore) between the words.\n",
    "\n",
    "And it will return the final sentence.\n",
    "\n",
    "Hints:\n",
    "\n",
    "- to split into words -> split()\n",
    "\n",
    "<pre>\n",
    "sentence = \"This is a long story Rango\"\n",
    "final_sentence = concat_sentence(sentence)\n",
    "print(final_sentence)\n",
    "\n",
    "Expected Output:\n",
    "T-h-i-s__i-s__a__l-o-n-g__s-t-o-r-y__R-a-n-g-o\n",
    "</pre>\n"
   ]
  },
  {
   "cell_type": "code",
   "execution_count": 8,
   "id": "adolescent-definition",
   "metadata": {},
   "outputs": [
    {
     "name": "stdout",
     "output_type": "stream",
     "text": [
      "T-h-i-s__i-s__a__l-o-n-g__s-t-o-r-y__R-a-n-g-o\n"
     ]
    }
   ],
   "source": [
    "# Q 10:\n",
    "\n",
    "# ----- your solution here -----\n",
    "\n",
    "def concat_sentence(sentence):\n",
    "  result = '-'.join(sentence).replace('- -', '__')\n",
    "  return result\n",
    "\n",
    "# call the function you defined\n",
    "\n",
    "sentence = \"This is a long story Rango\"\n",
    "final_sentence = concat_sentence(sentence)\n",
    "print(final_sentence)"
   ]
  }
 ],
 "metadata": {
  "kernelspec": {
   "display_name": "Python 3",
   "language": "python",
   "name": "python3"
  },
  "language_info": {
   "codemirror_mode": {
    "name": "ipython",
    "version": 3
   },
   "file_extension": ".py",
   "mimetype": "text/x-python",
   "name": "python",
   "nbconvert_exporter": "python",
   "pygments_lexer": "ipython3",
   "version": "3.10.2"
  }
 },
 "nbformat": 4,
 "nbformat_minor": 5
}
