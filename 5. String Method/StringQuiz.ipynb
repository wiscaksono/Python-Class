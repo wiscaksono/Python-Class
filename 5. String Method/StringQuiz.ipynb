{
 "cells": [
  {
   "cell_type": "markdown",
   "metadata": {},
   "source": [
    "## Quiz - String"
   ]
  },
  {
   "cell_type": "markdown",
   "metadata": {},
   "source": [
    "**Q 1:**\n",
    "\n",
    "Your text is:\n",
    "\n",
    "'Monday Tuesday Wednesday'\n",
    "\n",
    "Do slicing operations on this text and answer the following questions:\n",
    "\n",
    "<pre>\n",
    "* find the chars from index 1 to 7 with step size 2\n",
    "* find the chars from index 3 to 20 with step size 3\n",
    "* find the chars with even indices (0, 2, 4, 6 ...)\n",
    "* find the chars with odd indices (1, 3, 5, 7 ...)\n",
    "</pre>"
   ]
  },
  {
   "cell_type": "code",
   "execution_count": 13,
   "metadata": {},
   "outputs": [
    {
     "name": "stdout",
     "output_type": "stream",
     "text": [
      "ody\n",
      "d eaWn\n",
      "Mna usa ensa\n",
      "odyTedyWdedy\n"
     ]
    }
   ],
   "source": [
    "# Q 1:\n",
    "\n",
    "text = 'Monday Tuesday Wednesday'\n",
    "\n",
    "\n",
    "# find the chars from index 1 to 7 with step size 2\n",
    "# ---- your solution here ----\n",
    "print(text[1:7:2])\n",
    "\n",
    "# find the chars from index 3 to 20 with step size 3\n",
    "# ---- your solution here ----\n",
    "print(text[3:20:3])\n",
    "\n",
    "# find the chars with even indices (0, 2, 4, 6 ...)\n",
    "# ---- your solution here ----\n",
    "print(text[0::2])\n",
    "\n",
    "# find the chars with odd indices (1, 3, 5, 7 ...)\n",
    "# ---- your solution here ----\n",
    "print(text[1::2])"
   ]
  },
  {
   "cell_type": "markdown",
   "metadata": {},
   "source": [
    "**Q 2:**\n",
    "\n",
    "Your text:\n",
    "\n",
    "'Monday Tuesday Wednesday'\n",
    "\n",
    "Do slicing operations on this text and answer the following questions:\n",
    "\n",
    "<pre>\n",
    "* find the last character\n",
    "* find the 3rd character from last\n",
    "* find last 3 characters\n",
    "* print the text in reverse order\n",
    "</pre>"
   ]
  },
  {
   "cell_type": "code",
   "execution_count": 34,
   "metadata": {},
   "outputs": [
    {
     "name": "stdout",
     "output_type": "stream",
     "text": [
      "y\n",
      "ysd duyn\n",
      "day\n",
      "yadsendeW yadseuT yadnoM\n"
     ]
    }
   ],
   "source": [
    "# Q 2:\n",
    "\n",
    "text = 'Monday Tuesday Wednesday'\n",
    "\n",
    "# find the last character\n",
    "# ---- your solution here ----\n",
    "print(text[-1])\n",
    "\n",
    "# find the 3rd character from last\n",
    "# ---- your solution here ----\n",
    "print(text[-1::-3])\n",
    "\n",
    "# find last 3 characters\n",
    "# ---- your solution here ----\n",
    "print(text[-3:])\n",
    "\n",
    "# print the text in reverse order\n",
    "# ---- your solution here ----\n",
    "print(text[::-1])\n"
   ]
  },
  {
   "cell_type": "markdown",
   "metadata": {},
   "source": [
    "**Q 3:**\n",
    "\n",
    "Your text:\n",
    "\n",
    "'Monday Tuesday Wednesday'\n",
    "\n",
    "Do slicing operations on this text and answer the following questions:\n",
    "\n",
    "<pre>\n",
    "* find the chars between 2nd and 6th from last\n",
    "* find the chars between 2nd (inc.) and 6th from last\n",
    "* find the negative index which correspond to the char with index 10\n",
    "* find all characters except the last one\n",
    "* find all characters except the fist and the last one\n",
    "</pre>"
   ]
  },
  {
   "cell_type": "code",
   "execution_count": 80,
   "metadata": {},
   "outputs": [
    {
     "name": "stdout",
     "output_type": "stream",
     "text": [
      "adsen\n",
      "e\n",
      "Monday Tuesday Wednesda\n",
      "onday Tuesday Wednesda\n"
     ]
    }
   ],
   "source": [
    "# Q 3:\n",
    "\n",
    "text = 'Monday Tuesday Wednesday'\n",
    "# | M | o | n | d | a | y |  | T | u | e | s | d | a |  | W | e | d | n | e | s | d | a | y |\n",
    "# | 1 | 2 | 3 | 4 | 5 | 6 | 7| 8 | 9 | 10|11 |12 |13 |14|15 |16 |17 | 18|19 |20 | 21| 22| 23|\n",
    "\n",
    "# find the chars between 2nd and 6th from last\n",
    "# ---- your solution here ----\n",
    "print(text[-2:-7:-1])\n",
    "\n",
    "# find the chars between 2nd (inc.) and 6th from last\n",
    "# ---- your solution here ----\n",
    "# saya ga ngerti maksud pertanyaan ini kak\n",
    "\n",
    "\n",
    "# find the negative index which correspond to the char with index 10\n",
    "# abs(index) + abs(negative_index) = length\n",
    "# ---- your solution here ----\n",
    "print(text[-15])\n",
    "\n",
    "\n",
    "# find all characters except the last one\n",
    "# ---- your solution here ----\n",
    "print(text[:-1])\n",
    "\n",
    "\n",
    "# find all characters except the fist and the last one\n",
    "# ---- your solution here ----\n",
    "print(text[1:23])\n"
   ]
  },
  {
   "cell_type": "markdown",
   "metadata": {},
   "source": [
    "**Q 4:**\n",
    "\n",
    "Define a function named **reverse**.\n",
    "\n",
    "It will ask for a sentence from the user and return the reverse of this sentence.\n",
    "\n",
    "<pre>\n",
    "Expected Output:\n",
    "\n",
    "Please enter a sentence:  yesterday came suddenly\n",
    "'ylneddus emac yadretsey\n",
    "</pre>"
   ]
  },
  {
   "cell_type": "code",
   "execution_count": 59,
   "metadata": {},
   "outputs": [
    {
     "data": {
      "text/plain": [
       "'ylneddus emac yadretsey'"
      ]
     },
     "execution_count": 59,
     "metadata": {},
     "output_type": "execute_result"
    }
   ],
   "source": [
    "# Q 4:\n",
    "\n",
    "# ---- your solution here ----\n",
    "def reverse():\n",
    "  a = input('Please enter a sentence')\n",
    "  b = a[::-1]\n",
    "  return b\n",
    "\n",
    "# call the function you defined\n",
    "reverse()"
   ]
  },
  {
   "cell_type": "markdown",
   "metadata": {},
   "source": [
    "**Q 5:**\n",
    "\n",
    "Define a function named **replace_with_next_letter**.\n",
    "\n",
    "It will ask for an input from the user.\n",
    "\n",
    "And will replace every character with the next letter in the English alphabet.\n",
    "\n",
    "**Hints:**\n",
    "* use nested functions\n",
    "* there should be is_lower() and is_upper() functions to check whether the char is small or upper\n",
    "* there should be next_letter() function to take a letter and return the next one from alphabet\n",
    "* alphabets:\n",
    "    * alphabet_lower = 'abcdefghijklmnoprstuvwyz'\n",
    "    * alphabet_upper = 'ABCDEFGHIJKLMNOPRSTUVWYZ'\n",
    "* use index to get the related letter\n",
    "\n",
    "<pre>\n",
    "Expected Output:\n",
    "\n",
    "Please enter a text:  Python\n",
    "Rzuipo\n",
    "\n",
    "Please enter a text:  abcZ\n",
    "bcdA\n",
    "</pre>"
   ]
  },
  {
   "cell_type": "code",
   "execution_count": 72,
   "metadata": {},
   "outputs": [
    {
     "name": "stdout",
     "output_type": "stream",
     "text": [
      "Yjtov Yjdbltpop\n"
     ]
    }
   ],
   "source": [
    "# Q 5:\n",
    "\n",
    "# ---- your solution here ----  \n",
    "# Function to return the modified string\n",
    " \n",
    "st = \"Wisnu Wicaksono\"\n",
    "def replace_with_next_letter(st):\n",
    "    index = 0\n",
    "    new_word = \"\"\n",
    "    alphapet = \"abcdefghijklmnopqrstuvwxyza\"\n",
    "    upper_alphabet = \"ABCDEFGHIJKLMNOPRSTUVWYZ\"\n",
    "\n",
    "    for i in st:\n",
    "        if i.isupper():\n",
    "            index = upper_alphabet.index(i) + 1\n",
    "            new_word += upper_alphabet[index]\n",
    "        elif i.islower():\n",
    "            index = alphapet.index(i) + 1\n",
    "            new_word += alphapet[index]    \n",
    "        else:\n",
    "            new_word += i    \n",
    "    return new_word\n",
    "\n",
    "# call the function you defined\n",
    "new_text = replace_with_next_letter(st)\n",
    "print(new_text)"
   ]
  },
  {
   "cell_type": "markdown",
   "metadata": {},
   "source": [
    "**Q 6:**\n",
    "\n",
    "Print the country names and capitals by using a for loop and f-strings as follows:\n",
    "\n",
    "<pre>{capital} is the capital of {country}</pre>\n",
    "\n",
    "**Expected Output:**\n",
    "<pre>\n",
    "Washington is the capital of USA\n",
    "Beijing is the capital of China\n",
    "Berlin is the capital of Germany\n",
    "London is the capital of UK</pre>\n"
   ]
  },
  {
   "cell_type": "code",
   "execution_count": 73,
   "metadata": {},
   "outputs": [
    {
     "name": "stdout",
     "output_type": "stream",
     "text": [
      "Washington is the capital of USA\n",
      "Beijing is the capital of China\n",
      "Berlin is the capital of Germany\n",
      "London is the capital of UK\n"
     ]
    }
   ],
   "source": [
    "# Q 6:\n",
    "\n",
    "# --- your solution here ---\n",
    "capital='Washington','Beijing','Berlin','London'\n",
    "country='USA','China','Germany','UK'\n",
    "for i in range(4):\n",
    "  str=f\"{capital[i]} is the capital of {country[i]}\"\n",
    "  print(str)\n",
    "\n",
    "# --------------------------------------------------------#"
   ]
  },
  {
   "cell_type": "markdown",
   "metadata": {},
   "source": [
    "**Q 7**\n",
    "\n",
    "Use the capitals dictionary and % operator to print as follows:\n",
    "\n",
    "\"The capital city of USA is Washington\"\n",
    "\n",
    "'USA' will be constant, 'Washington' will be a variable."
   ]
  },
  {
   "cell_type": "code",
   "execution_count": 74,
   "metadata": {},
   "outputs": [
    {
     "name": "stdout",
     "output_type": "stream",
     "text": [
      "The capital city of USA is Washington\n"
     ]
    }
   ],
   "source": [
    "# Q 7:\n",
    "\n",
    "# --- your solution here ---\n",
    "country = 'USA'\n",
    "capital = 'Washington'\n",
    "output = 'The capital city of %s is %s' %(country,capital)\n",
    "print(output)\n",
    "\n",
    "#----------------------------------------"
   ]
  },
  {
   "cell_type": "markdown",
   "metadata": {},
   "source": [
    "**Q 8** \n",
    "\n",
    "Access the value of key2 from the following JSON and then print it"
   ]
  },
  {
   "cell_type": "code",
   "execution_count": 75,
   "metadata": {},
   "outputs": [
    {
     "name": "stdout",
     "output_type": "stream",
     "text": [
      "value2\n"
     ]
    }
   ],
   "source": [
    "import json\n",
    "sampleJson = \"\"\"{\"key1\": \"value1\", \"key2\": \"value2\"}\"\"\"\n",
    "new_data = json.loads(sampleJson)\n",
    "print(new_data[\"key2\"])\n",
    "\n",
    "# value_of_key2 = "
   ]
  },
  {
   "cell_type": "markdown",
   "metadata": {},
   "source": [
    "**Q 9**\n",
    "\n",
    "Access the nested key ‘salary’ from the following JSON\n"
   ]
  },
  {
   "cell_type": "code",
   "execution_count": 5,
   "metadata": {},
   "outputs": [
    {
     "name": "stdout",
     "output_type": "stream",
     "text": [
      "7000\n"
     ]
    }
   ],
   "source": [
    "import json\n",
    "sampleJson = \"\"\"{ \n",
    "   \"company\":{ \n",
    "      \"employee\":{ \n",
    "         \"name\":\"emma\",\n",
    "         \"payble\":{ \n",
    "            \"salary\":7000,\n",
    "            \"bonus\":800\n",
    "         }\n",
    "      }\n",
    "   }\n",
    "}\"\"\"\n",
    "data_salary = json.loads(sampleJson)\n",
    "print (data_salary['company']['employee']['payble']['salary'])\n",
    "\n",
    "\n",
    "# data_salary = "
   ]
  },
  {
   "cell_type": "markdown",
   "metadata": {},
   "source": [
    "**Q 10**\n",
    "\n",
    "Parse the following JSON to get all the values of a key ‘name’ within an array"
   ]
  },
  {
   "cell_type": "code",
   "execution_count": 6,
   "metadata": {},
   "outputs": [
    {
     "name": "stdout",
     "output_type": "stream",
     "text": [
      "['name1', 'name2']\n"
     ]
    }
   ],
   "source": [
    "import json\n",
    "\n",
    "sampleJson = \"\"\"[ \n",
    "   { \n",
    "      \"id\":1,\n",
    "      \"name\":\"name1\",\n",
    "      \"color\":[ \n",
    "         \"red\",\n",
    "         \"green\"\n",
    "      ]\n",
    "   },\n",
    "   { \n",
    "      \"id\":2,\n",
    "      \"name\":\"name2\",\n",
    "      \"color\":[ \n",
    "         \"pink\",\n",
    "         \"yellow\"\n",
    "      ]\n",
    "   }\n",
    "]\"\"\"\n",
    "\n",
    "data = []\n",
    "try:\n",
    "    data = json.loads(sampleJson)\n",
    "except Exception as e:\n",
    "    print(e)\n",
    "\n",
    "value_in_name = [item.get('name') for item in data]\n",
    "print(value_in_name)\n",
    "\n",
    "# value_in_name = "
   ]
  }
 ],
 "metadata": {
  "interpreter": {
   "hash": "57bf76975cc595d48b87e49d5e3d532889b23fc7a4ecec7f9d567f947a53ee0d"
  },
  "kernelspec": {
   "display_name": "Python 3.9.1 64-bit",
   "language": "python",
   "name": "python3"
  },
  "language_info": {
   "codemirror_mode": {
    "name": "ipython",
    "version": 3
   },
   "file_extension": ".py",
   "mimetype": "text/x-python",
   "name": "python",
   "nbconvert_exporter": "python",
   "pygments_lexer": "ipython3",
   "version": "3.10.2"
  },
  "orig_nbformat": 4
 },
 "nbformat": 4,
 "nbformat_minor": 2
}
