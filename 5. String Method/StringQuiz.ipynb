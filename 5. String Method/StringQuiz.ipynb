{
 "cells": [
  {
   "cell_type": "markdown",
   "metadata": {},
   "source": [
    "## Quiz - String"
   ]
  },
  {
   "cell_type": "markdown",
   "metadata": {},
   "source": [
    "**Q 1:**\n",
    "\n",
    "Your text is:\n",
    "\n",
    "'Monday Tuesday Wednesday'\n",
    "\n",
    "Do slicing operations on this text and answer the following questions:\n",
    "\n",
    "<pre>\n",
    "* find the chars from index 1 to 7 with step size 2\n",
    "* find the chars from index 3 to 20 with step size 3\n",
    "* find the chars with even indices (0, 2, 4, 6 ...)\n",
    "* find the chars with odd indices (1, 3, 5, 7 ...)\n",
    "</pre>"
   ]
  },
  {
   "cell_type": "code",
   "execution_count": null,
   "metadata": {},
   "outputs": [],
   "source": [
    "# Q 1:\n",
    "\n",
    "text = 'Monday Tuesday Wednesday'\n",
    "\n",
    "\n",
    "# find the chars from index 1 to 7 with step size 2\n",
    "# ---- your solution here ----\n",
    "\n",
    "# find the chars from index 3 to 20 with step size 3\n",
    "# ---- your solution here ----\n",
    "\n",
    "# find the chars with even indices (0, 2, 4, 6 ...)\n",
    "# ---- your solution here ----\n",
    "\n",
    "# find the chars with odd indices (1, 3, 5, 7 ...)\n",
    "# ---- your solution here ----"
   ]
  },
  {
   "cell_type": "markdown",
   "metadata": {},
   "source": [
    "**Q 2:**\n",
    "\n",
    "Your text:\n",
    "\n",
    "'Monday Tuesday Wednesday'\n",
    "\n",
    "Do slicing operations on this text and answer the following questions:\n",
    "\n",
    "<pre>\n",
    "* find the last character\n",
    "* find the 3rd character from last\n",
    "* find last 3 characters\n",
    "* print the text in reverse order\n",
    "</pre>"
   ]
  },
  {
   "cell_type": "code",
   "execution_count": 1,
   "metadata": {},
   "outputs": [],
   "source": [
    "# Q 2:\n",
    "\n",
    "text = 'Monday Tuesday Wednesday'\n",
    "\n",
    "\n",
    "# find the last character\n",
    "# ---- your solution here ----\n",
    "\n",
    "# find the 3rd character from last\n",
    "# ---- your solution here ----\n",
    "\n",
    "# find last 3 characters\n",
    "# ---- your solution here ----\n",
    "\n",
    "# print the text in reverse order\n",
    "# ---- your solution here ----"
   ]
  },
  {
   "cell_type": "markdown",
   "metadata": {},
   "source": [
    "**Q 3:**\n",
    "\n",
    "Your text:\n",
    "\n",
    "'Monday Tuesday Wednesday'\n",
    "\n",
    "Do slicing operations on this text and answer the following questions:\n",
    "\n",
    "<pre>\n",
    "* find the chars between 2nd and 6th from last\n",
    "* find the chars between 2nd (inc.) and 6th from last\n",
    "* find the negative index which correspond to the char with index 10\n",
    "* find all characters except the last one\n",
    "* find all characters except the fist and the last one\n",
    "</pre>"
   ]
  },
  {
   "cell_type": "code",
   "execution_count": null,
   "metadata": {},
   "outputs": [],
   "source": [
    "# Q 3:\n",
    "\n",
    "text = 'Monday Tuesday Wednesday'\n",
    "\n",
    "\n",
    "# find the chars between 2nd and 6th from last\n",
    "# ---- your solution here ----\n",
    "\n",
    "# find the chars between 2nd (inc.) and 6th from last\n",
    "# ---- your solution here ----\n",
    "\n",
    "# find the negative index which correspond to the char with index 10\n",
    "# abs(index) + abs(negative_index) = length\n",
    "# ---- your solution here ----\n",
    "\n",
    "# find all characters except the last one\n",
    "# ---- your solution here ----\n",
    "\n",
    "# find all characters except the fist and the last one\n",
    "# ---- your solution here ----"
   ]
  },
  {
   "cell_type": "markdown",
   "metadata": {},
   "source": [
    "**Q 4:**\n",
    "\n",
    "Define a function named **reverse**.\n",
    "\n",
    "It will ask for a sentence from the user and return the reverse of this sentence.\n",
    "\n",
    "<pre>\n",
    "Expected Output:\n",
    "\n",
    "Please enter a sentence:  yesterday came suddenly\n",
    "'ylneddus emac yadretsey\n",
    "</pre>"
   ]
  },
  {
   "cell_type": "code",
   "execution_count": null,
   "metadata": {},
   "outputs": [],
   "source": [
    "# Q 4:\n",
    "\n",
    "# ---- your solution here ----\n",
    "\n",
    "\n",
    "# call the function you defined\n",
    "reverse()"
   ]
  },
  {
   "cell_type": "markdown",
   "metadata": {},
   "source": [
    "**Q 5:**\n",
    "\n",
    "Define a function named **replace_with_next_letter**.\n",
    "\n",
    "It will ask for an input from the user.\n",
    "\n",
    "And will replace every character with the next letter in the English alphabet.\n",
    "\n",
    "**Hints:**\n",
    "* use nested functions\n",
    "* there should be is_lower() and is_upper() functions to check whether the char is small or upper\n",
    "* there should be next_letter() function to take a letter and return the next one from alphabet\n",
    "* alphabets:\n",
    "    * alphabet_lower = 'abcdefghijklmnoprstuvyz'\n",
    "    * alphabet_upper = 'ABCDEFGHIJKLMNOPRSTUVYZ'\n",
    "* use index to get the related letter\n",
    "\n",
    "<pre>\n",
    "Expected Output:\n",
    "\n",
    "Please enter a text:  Python\n",
    "Rzuipo\n",
    "\n",
    "Please enter a text:  abcZ\n",
    "bcdA\n",
    "</pre>"
   ]
  },
  {
   "cell_type": "code",
   "execution_count": null,
   "metadata": {},
   "outputs": [],
   "source": [
    "# Q 5:\n",
    "\n",
    "# ---- your solution here ----     \n",
    "    \n",
    "    \n",
    "# call the function you defined\n",
    "new_text = replace_with_next_letter()\n",
    "print(new_text)\n",
    "\n",
    "new_text = replace_with_next_letter()\n",
    "print(new_text)"
   ]
  },
  {
   "cell_type": "markdown",
   "metadata": {},
   "source": [
    "**Q 6:**\n",
    "\n",
    "Print the country names and capitals by using a for loop and f-strings as follows:\n",
    "\n",
    "<pre>{capital} is the capital of {country}</pre>\n",
    "\n",
    "**Expected Output:**\n",
    "<pre>\n",
    "Washington is the capital of USA\n",
    "Beijing is the capital of China\n",
    "Berlin is the capital of Germany\n",
    "London is the capital of UK</pre>\n"
   ]
  },
  {
   "cell_type": "code",
   "execution_count": null,
   "metadata": {},
   "outputs": [],
   "source": [
    "# Q 6:\n",
    "\n",
    "# --- your solution here ---\n",
    "\n",
    "\n",
    "# --------------------------------------------------------#"
   ]
  },
  {
   "cell_type": "markdown",
   "metadata": {},
   "source": [
    "**Q 7**\n",
    "\n",
    "Use the capitals dictionary and % operator to print as follows:\n",
    "\n",
    "\"The capital city of USA is Washington\"\n",
    "\n",
    "'USA' will be constant, 'Washington' will be a variable."
   ]
  },
  {
   "cell_type": "code",
   "execution_count": null,
   "metadata": {},
   "outputs": [],
   "source": [
    "# Q 7:\n",
    "\n",
    "# --- your solution here ---\n",
    "\n",
    "\n",
    "#----------------------------------------"
   ]
  },
  {
   "cell_type": "markdown",
   "metadata": {},
   "source": [
    "**Q 8** \n",
    "\n",
    "Access the value of key2 from the following JSON and then print it"
   ]
  },
  {
   "cell_type": "code",
   "execution_count": null,
   "metadata": {},
   "outputs": [],
   "source": [
    "sampleJson = \"\"\"{\"key1\": \"value1\", \"key2\": \"value2\"}\"\"\"\n",
    "\n",
    "# value_of_key2 = "
   ]
  },
  {
   "cell_type": "markdown",
   "metadata": {},
   "source": [
    "**Q 9**\n",
    "\n",
    "Access the nested key ‘salary’ from the following JSON\n"
   ]
  },
  {
   "cell_type": "code",
   "execution_count": null,
   "metadata": {},
   "outputs": [],
   "source": [
    "sampleJson = \"\"\"{ \n",
    "   \"company\":{ \n",
    "      \"employee\":{ \n",
    "         \"name\":\"emma\",\n",
    "         \"payble\":{ \n",
    "            \"salary\":7000,\n",
    "            \"bonus\":800\n",
    "         }\n",
    "      }\n",
    "   }\n",
    "}\"\"\"\n",
    "\n",
    "# data_salary = "
   ]
  },
  {
   "cell_type": "markdown",
   "metadata": {},
   "source": [
    "**Q 10**\n",
    "\n",
    "Parse the following JSON to get all the values of a key ‘name’ within an array"
   ]
  },
  {
   "cell_type": "code",
   "execution_count": null,
   "metadata": {},
   "outputs": [],
   "source": [
    "sampleJson = \"\"\"[ \n",
    "   { \n",
    "      \"id\":1,\n",
    "      \"name\":\"name1\",\n",
    "      \"color\":[ \n",
    "         \"red\",\n",
    "         \"green\"\n",
    "      ]\n",
    "   },\n",
    "   { \n",
    "      \"id\":2,\n",
    "      \"name\":\"name2\",\n",
    "      \"color\":[ \n",
    "         \"pink\",\n",
    "         \"yellow\"\n",
    "      ]\n",
    "   }\n",
    "]\"\"\"\n",
    "\n",
    "# value_in_name = "
   ]
  }
 ],
 "metadata": {
  "interpreter": {
   "hash": "57bf76975cc595d48b87e49d5e3d532889b23fc7a4ecec7f9d567f947a53ee0d"
  },
  "kernelspec": {
   "display_name": "Python 3.9.1 64-bit",
   "language": "python",
   "name": "python3"
  },
  "language_info": {
   "codemirror_mode": {
    "name": "ipython",
    "version": 3
   },
   "file_extension": ".py",
   "mimetype": "text/x-python",
   "name": "python",
   "nbconvert_exporter": "python",
   "pygments_lexer": "ipython3",
   "version": "3.9.1"
  },
  "orig_nbformat": 4
 },
 "nbformat": 4,
 "nbformat_minor": 2
}
